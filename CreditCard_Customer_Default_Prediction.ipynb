{
 "cells": [
  {
   "cell_type": "code",
   "execution_count": null,
   "metadata": {
    "colab": {
     "base_uri": "https://localhost:8080/",
     "height": 34
    },
    "id": "XyFxoIxLVwVW",
    "outputId": "e10ad162-2307-4c59-a282-3d6f64f52be7"
   },
   "outputs": [
    {
     "name": "stdout",
     "output_type": "stream",
     "text": [
      "Drive already mounted at /content/drive; to attempt to forcibly remount, call drive.mount(\"/content/drive\", force_remount=True).\n"
     ]
    }
   ],
   "source": [
    "from google.colab import drive\n",
    "drive.mount('/content/drive')"
   ]
  },
  {
   "cell_type": "code",
   "execution_count": null,
   "metadata": {
    "id": "6Gm7KBGLVt-F"
   },
   "outputs": [],
   "source": [
    "import pandas as pd\n",
    "import numpy as np\n",
    "import glob\n",
    "import os\n",
    "import scipy.stats as ss\n",
    "import seaborn as sns\n",
    "import matplotlib.pyplot as plt\n",
    "from sklearn.metrics import confusion_matrix\n",
    "from __future__ import print_function\n",
    "from scipy.cluster.hierarchy import dendrogram, linkage\n",
    "from sklearn.metrics.cluster import homogeneity_score\n",
    "from sklearn.cluster import KMeans\n",
    "from sklearn.metrics import silhouette_samples, silhouette_score\n",
    "from scipy.cluster.hierarchy import dendrogram, linkage\n",
    "from sklearn.preprocessing import StandardScaler\n",
    "from sklearn.preprocessing import OrdinalEncoder\n",
    "from sklearn.decomposition import PCA\n",
    "from sklearn.model_selection import train_test_split\n",
    "import matplotlib.cm as cm\n",
    "%matplotlib inline"
   ]
  },
  {
   "cell_type": "code",
   "execution_count": null,
   "metadata": {
    "colab": {
     "base_uri": "https://localhost:8080/",
     "height": 484
    },
    "id": "uOu4uzkZVt-L",
    "outputId": "200d0a58-cdae-4feb-baa0-e7fc33415d21"
   },
   "outputs": [
    {
     "name": "stdout",
     "output_type": "stream",
     "text": [
      "   ID  LIMIT_BAL  SEX  EDUCATION  MARRIAGE  AGE  PAY_1  PAY_2  PAY_3  PAY_4  \\\n",
      "0   1    20000.0    2          2         1   24      2      2     -1     -1   \n",
      "1   2   120000.0    2          2         2   26     -1      2      0      0   \n",
      "2   3    90000.0    2          2         2   34      0      0      0      0   \n",
      "3   4    50000.0    2          2         1   37      0      0      0      0   \n",
      "4   5    50000.0    1          2         1   57     -1      0     -1      0   \n",
      "\n",
      "   PAY_5  PAY_6  BILL_AMT1  BILL_AMT2  BILL_AMT3  BILL_AMT4  BILL_AMT5  \\\n",
      "0     -2     -2     3913.0     3102.0      689.0        0.0        0.0   \n",
      "1      0      2     2682.0     1725.0     2682.0     3272.0     3455.0   \n",
      "2      0      0    29239.0    14027.0    13559.0    14331.0    14948.0   \n",
      "3      0      0    46990.0    48233.0    49291.0    28314.0    28959.0   \n",
      "4      0      0     8617.0     5670.0    35835.0    20940.0    19146.0   \n",
      "\n",
      "   BILL_AMT6  PAY_AMT1  PAY_AMT2  PAY_AMT3  PAY_AMT4  PAY_AMT5  PAY_AMT6  \\\n",
      "0        0.0       0.0     689.0       0.0       0.0       0.0       0.0   \n",
      "1     3261.0       0.0    1000.0    1000.0    1000.0       0.0    2000.0   \n",
      "2    15549.0    1518.0    1500.0    1000.0    1000.0    1000.0    5000.0   \n",
      "3    29547.0    2000.0    2019.0    1200.0    1100.0    1069.0    1000.0   \n",
      "4    19131.0    2000.0   36681.0   10000.0    9000.0     689.0     679.0   \n",
      "\n",
      "   default.payment.next.month  \n",
      "0                           1  \n",
      "1                           1  \n",
      "2                           0  \n",
      "3                           0  \n",
      "4                           0  \n"
     ]
    }
   ],
   "source": [
    "# Read data\n",
    "os.chdir('/content/drive/My Drive/Colab Notebooks')\n",
    "datapath = os.getcwd()+'/Data/'\n",
    "file = datapath + 'CreditCardData.csv'\n",
    "df = pd.read_csv('CreditCardData.csv')\n",
    "\n",
    "# Rename column 'PAY_0' as 'PAY_1'\n",
    "df.rename(columns = {'PAY_0' : 'PAY_1'}, inplace = True)\n",
    "\n",
    "# Print dataframe and column datatypes\n",
    "pd.options.display.max_columns = None\n",
    "print(df.head(5))\n",
    "#print(df.dtypes)"
   ]
  },
  {
   "cell_type": "code",
   "execution_count": null,
   "metadata": {
    "colab": {
     "base_uri": "https://localhost:8080/",
     "height": 190
    },
    "id": "Y_6tudUB651l",
    "outputId": "30ca8599-6ffd-4770-d4f1-3ac31743f729"
   },
   "outputs": [
    {
     "name": "stdout",
     "output_type": "stream",
     "text": [
      "SEX [2, 1]\n",
      "EDUCATION [2, 1, 3, 5, 4, 6, 0]\n",
      "MARRIAGE [1, 2, 3, 0]\n",
      "PAY_1 [2, -1, 0, -2, 1, 3, 4, 8, 7, 5, 6]\n",
      "PAY_2 [2, 0, -1, -2, 3, 5, 7, 4, 1, 6, 8]\n",
      "PAY_3 [-1, 0, 2, -2, 3, 4, 6, 7, 1, 5, 8]\n",
      "PAY_4 [-1, 0, -2, 2, 3, 4, 5, 7, 6, 1, 8]\n",
      "PAY_5 [-2, 0, -1, 2, 3, 5, 4, 7, 8, 6]\n",
      "PAY_6 [-2, 2, 0, -1, 3, 6, 4, 7, 8, 5]\n",
      "default.payment.next.month [1, 0]\n"
     ]
    }
   ],
   "source": [
    "# Create lists of continuous and categorical column names\n",
    "continuous_cols = ['LIMIT_BAL', 'AGE', 'BILL_AMT1', 'BILL_AMT2', 'BILL_AMT3',\n",
    "                   'BILL_AMT4', 'BILL_AMT5', 'BILL_AMT6', 'PAY_AMT1',\n",
    "                   'PAY_AMT2', 'PAY_AMT3', 'PAY_AMT4', 'PAY_AMT5', 'PAY_AMT6']\n",
    "categorical_cols = ['SEX', 'EDUCATION', 'MARRIAGE', 'PAY_1', 'PAY_2', 'PAY_3',\n",
    "                    'PAY_4', 'PAY_5', 'PAY_6', 'default.payment.next.month']\n",
    "\n",
    "# Assign 'object' datatype to categorical columns\n",
    "df[categorical_cols] = df[categorical_cols].astype('category')\n",
    "\n",
    "# Print unique values for categorical columns\n",
    "unique_values = {col:list(df[col].unique()) for col in categorical_cols}\n",
    "for key, value in unique_values.items():\n",
    "  print(key,value)"
   ]
  },
  {
   "cell_type": "code",
   "execution_count": null,
   "metadata": {
    "id": "0YzD0BFlVerx"
   },
   "outputs": [],
   "source": [
    "# Adjust categorical column values for misrepresented entries\n",
    "df.loc[~df['EDUCATION'].isin([1, 2, 3, 4]), 'EDUCATION'] = 5\n",
    "df.loc[~df['MARRIAGE'].isin([1, 2]), 'MARRIAGE'] = 3\n",
    "df.loc[~df['PAY_1'].isin([-1, 1, 2, 3, 4, 5, 6, 7, 8, 9]), 'PAY_1'] = 0\n",
    "df.loc[~df['PAY_2'].isin([-1, 1, 2, 3, 4, 5, 6, 7, 8, 9]), 'PAY_2'] = 0\n",
    "df.loc[~df['PAY_3'].isin([-1, 1, 2, 3, 4, 5, 6, 7, 8, 9]), 'PAY_3'] = 0\n",
    "df.loc[~df['PAY_4'].isin([-1, 1, 2, 3, 4, 5, 6, 7, 8, 9]), 'PAY_4'] = 0\n",
    "df.loc[~df['PAY_5'].isin([-1, 1, 2, 3, 4, 5, 6, 7, 8, 9]), 'PAY_5'] = 0\n",
    "df.loc[~df['PAY_6'].isin([-1, 1, 2, 3, 4, 5, 6, 7, 8, 9]), 'PAY_6'] = 0\n",
    "categorical_cols = categorical_cols[:-1]"
   ]
  },
  {
   "cell_type": "code",
   "execution_count": null,
   "metadata": {
    "colab": {
     "base_uri": "https://localhost:8080/",
     "height": 1000
    },
    "id": "H4FnqRBwBxm0",
    "outputId": "4e369d21-7ce0-4062-9c6e-b2e80a1f0d3b"
   },
   "outputs": [
    {
     "name": "stdout",
     "output_type": "stream",
     "text": [
      "           LIMIT_BAL       AGE  BILL_AMT1  BILL_AMT2  BILL_AMT3  BILL_AMT4  \\\n",
      "LIMIT_BAL   1.000000  0.186485   0.054384   0.048586   0.060617   0.072894   \n",
      "AGE         0.186485  1.000000   0.001019   0.001513   0.001831  -0.003330   \n",
      "BILL_AMT1   0.054384  0.001019   1.000000   0.911133   0.857723   0.807302   \n",
      "BILL_AMT2   0.048586  0.001513   0.911133   1.000000   0.907740   0.848381   \n",
      "BILL_AMT3   0.060617  0.001831   0.857723   0.907740   1.000000   0.903640   \n",
      "BILL_AMT4   0.072894 -0.003330   0.807302   0.848381   0.903640   1.000000   \n",
      "BILL_AMT5   0.080694 -0.000342   0.769048   0.802947   0.848547   0.902787   \n",
      "BILL_AMT6   0.088094  0.000217   0.734275   0.765220   0.804246   0.847983   \n",
      "PAY_AMT1    0.272367  0.033580   0.502339   0.635634   0.549733   0.512285   \n",
      "PAY_AMT2    0.278401  0.044192   0.472158   0.497603   0.637539   0.554883   \n",
      "PAY_AMT3    0.284468  0.033356   0.440547   0.468164   0.491950   0.633535   \n",
      "PAY_AMT4    0.283411  0.040529   0.441925   0.461064   0.488544   0.506858   \n",
      "PAY_AMT5    0.293749  0.038125   0.424971   0.448785   0.477489   0.504235   \n",
      "PAY_AMT6    0.317459  0.038977   0.410465   0.429334   0.458451   0.481353   \n",
      "SEX              NaN       NaN        NaN        NaN        NaN        NaN   \n",
      "EDUCATION        NaN       NaN        NaN        NaN        NaN        NaN   \n",
      "MARRIAGE         NaN       NaN        NaN        NaN        NaN        NaN   \n",
      "PAY_1            NaN       NaN        NaN        NaN        NaN        NaN   \n",
      "PAY_2            NaN       NaN        NaN        NaN        NaN        NaN   \n",
      "PAY_3            NaN       NaN        NaN        NaN        NaN        NaN   \n",
      "PAY_4            NaN       NaN        NaN        NaN        NaN        NaN   \n",
      "PAY_5            NaN       NaN        NaN        NaN        NaN        NaN   \n",
      "PAY_6            NaN       NaN        NaN        NaN        NaN        NaN   \n",
      "\n",
      "           BILL_AMT5  BILL_AMT6  PAY_AMT1  PAY_AMT2  PAY_AMT3  PAY_AMT4  \\\n",
      "LIMIT_BAL   0.080694   0.088094  0.272367  0.278401  0.284468  0.283411   \n",
      "AGE        -0.000342   0.000217  0.033580  0.044192  0.033356  0.040529   \n",
      "BILL_AMT1   0.769048   0.734275  0.502339  0.472158  0.440547  0.441925   \n",
      "BILL_AMT2   0.802947   0.765220  0.635634  0.497603  0.468164  0.461064   \n",
      "BILL_AMT3   0.848547   0.804246  0.549733  0.637539  0.491950  0.488544   \n",
      "BILL_AMT4   0.902787   0.847983  0.512285  0.554883  0.633535  0.506858   \n",
      "BILL_AMT5   1.000000   0.902097  0.482558  0.515136  0.549295  0.647095   \n",
      "BILL_AMT6   0.902097   1.000000  0.456124  0.486636  0.518780  0.569959   \n",
      "PAY_AMT1    0.482558   0.456124  1.000000  0.511614  0.519142  0.486075   \n",
      "PAY_AMT2    0.515136   0.486636  0.511614  1.000000  0.516245  0.519887   \n",
      "PAY_AMT3    0.549295   0.518780  0.519142  0.516245  1.000000  0.515762   \n",
      "PAY_AMT4    0.647095   0.569959  0.486075  0.519887  0.515762  1.000000   \n",
      "PAY_AMT5    0.524688   0.666477  0.467924  0.497375  0.533691  0.534367   \n",
      "PAY_AMT6    0.509480   0.529173  0.455322  0.490986  0.505485  0.546974   \n",
      "SEX              NaN        NaN       NaN       NaN       NaN       NaN   \n",
      "EDUCATION        NaN        NaN       NaN       NaN       NaN       NaN   \n",
      "MARRIAGE         NaN        NaN       NaN       NaN       NaN       NaN   \n",
      "PAY_1            NaN        NaN       NaN       NaN       NaN       NaN   \n",
      "PAY_2            NaN        NaN       NaN       NaN       NaN       NaN   \n",
      "PAY_3            NaN        NaN       NaN       NaN       NaN       NaN   \n",
      "PAY_4            NaN        NaN       NaN       NaN       NaN       NaN   \n",
      "PAY_5            NaN        NaN       NaN       NaN       NaN       NaN   \n",
      "PAY_6            NaN        NaN       NaN       NaN       NaN       NaN   \n",
      "\n",
      "           PAY_AMT5  PAY_AMT6  SEX EDUCATION MARRIAGE PAY_1 PAY_2 PAY_3 PAY_4  \\\n",
      "LIMIT_BAL  0.293749  0.317459  NaN       NaN      NaN   NaN   NaN   NaN   NaN   \n",
      "AGE        0.038125  0.038977  NaN       NaN      NaN   NaN   NaN   NaN   NaN   \n",
      "BILL_AMT1  0.424971  0.410465  NaN       NaN      NaN   NaN   NaN   NaN   NaN   \n",
      "BILL_AMT2  0.448785  0.429334  NaN       NaN      NaN   NaN   NaN   NaN   NaN   \n",
      "BILL_AMT3  0.477489  0.458451  NaN       NaN      NaN   NaN   NaN   NaN   NaN   \n",
      "BILL_AMT4  0.504235  0.481353  NaN       NaN      NaN   NaN   NaN   NaN   NaN   \n",
      "BILL_AMT5  0.524688  0.509480  NaN       NaN      NaN   NaN   NaN   NaN   NaN   \n",
      "BILL_AMT6  0.666477  0.529173  NaN       NaN      NaN   NaN   NaN   NaN   NaN   \n",
      "PAY_AMT1   0.467924  0.455322  NaN       NaN      NaN   NaN   NaN   NaN   NaN   \n",
      "PAY_AMT2   0.497375  0.490986  NaN       NaN      NaN   NaN   NaN   NaN   NaN   \n",
      "PAY_AMT3   0.533691  0.505485  NaN       NaN      NaN   NaN   NaN   NaN   NaN   \n",
      "PAY_AMT4   0.534367  0.546974  NaN       NaN      NaN   NaN   NaN   NaN   NaN   \n",
      "PAY_AMT5   1.000000  0.548522  NaN       NaN      NaN   NaN   NaN   NaN   NaN   \n",
      "PAY_AMT6   0.548522  1.000000  NaN       NaN      NaN   NaN   NaN   NaN   NaN   \n",
      "SEX             NaN       NaN  NaN       NaN      NaN   NaN   NaN   NaN   NaN   \n",
      "EDUCATION       NaN       NaN  NaN       NaN      NaN   NaN   NaN   NaN   NaN   \n",
      "MARRIAGE        NaN       NaN  NaN       NaN      NaN   NaN   NaN   NaN   NaN   \n",
      "PAY_1           NaN       NaN  NaN       NaN      NaN   NaN   NaN   NaN   NaN   \n",
      "PAY_2           NaN       NaN  NaN       NaN      NaN   NaN   NaN   NaN   NaN   \n",
      "PAY_3           NaN       NaN  NaN       NaN      NaN   NaN   NaN   NaN   NaN   \n",
      "PAY_4           NaN       NaN  NaN       NaN      NaN   NaN   NaN   NaN   NaN   \n",
      "PAY_5           NaN       NaN  NaN       NaN      NaN   NaN   NaN   NaN   NaN   \n",
      "PAY_6           NaN       NaN  NaN       NaN      NaN   NaN   NaN   NaN   NaN   \n",
      "\n",
      "          PAY_5 PAY_6  \n",
      "LIMIT_BAL   NaN   NaN  \n",
      "AGE         NaN   NaN  \n",
      "BILL_AMT1   NaN   NaN  \n",
      "BILL_AMT2   NaN   NaN  \n",
      "BILL_AMT3   NaN   NaN  \n",
      "BILL_AMT4   NaN   NaN  \n",
      "BILL_AMT5   NaN   NaN  \n",
      "BILL_AMT6   NaN   NaN  \n",
      "PAY_AMT1    NaN   NaN  \n",
      "PAY_AMT2    NaN   NaN  \n",
      "PAY_AMT3    NaN   NaN  \n",
      "PAY_AMT4    NaN   NaN  \n",
      "PAY_AMT5    NaN   NaN  \n",
      "PAY_AMT6    NaN   NaN  \n",
      "SEX         NaN   NaN  \n",
      "EDUCATION   NaN   NaN  \n",
      "MARRIAGE    NaN   NaN  \n",
      "PAY_1       NaN   NaN  \n",
      "PAY_2       NaN   NaN  \n",
      "PAY_3       NaN   NaN  \n",
      "PAY_4       NaN   NaN  \n",
      "PAY_5       NaN   NaN  \n",
      "PAY_6       NaN   NaN  \n"
     ]
    }
   ],
   "source": [
    "# Calculate correlation between continuous & continuous variables\n",
    "# using Spearman's correlation coefficient\n",
    "corr = pd.DataFrame(columns = continuous_cols + categorical_cols,\n",
    "                    index =  continuous_cols + categorical_cols)\n",
    "corr[continuous_cols] = df[continuous_cols].corr(method ='spearman')\n",
    "print(corr)"
   ]
  },
  {
   "cell_type": "code",
   "execution_count": null,
   "metadata": {
    "id": "eTb0vKIQCbZS"
   },
   "outputs": [],
   "source": [
    "# Function to calculate correlation between continuous & categorical variables\n",
    "# using Correlation Ratio\n",
    "\n",
    "def correlation_ratio(categories, measurements):\n",
    "    fcat, _ = pd.factorize(categories)\n",
    "    cat_num = np.max(fcat)+1\n",
    "    y_avg_array = np.zeros(cat_num)\n",
    "    n_array = np.zeros(cat_num)\n",
    "    for i in range(0,cat_num):\n",
    "        cat_measures = measurements[np.argwhere(fcat == i).flatten()]\n",
    "        n_array[i] = len(cat_measures)\n",
    "        y_avg_array[i] = np.average(cat_measures)\n",
    "    y_total_avg = np.sum(np.multiply(y_avg_array,n_array))/np.sum(n_array)\n",
    "    numerator = np.sum(np.multiply(n_array,np.power(np.subtract(y_avg_array,y_total_avg),2)))\n",
    "    denominator = np.sum(np.power(np.subtract(measurements,y_total_avg),2))\n",
    "    if numerator == 0:\n",
    "        eta = 0.0\n",
    "    else:\n",
    "        eta = np.sqrt(numerator/denominator)\n",
    "    return eta"
   ]
  },
  {
   "cell_type": "code",
   "execution_count": null,
   "metadata": {
    "colab": {
     "base_uri": "https://localhost:8080/",
     "height": 1000
    },
    "id": "gKROAbS2CkaO",
    "outputId": "eb96c353-9445-41d3-def3-9d5df346bec6"
   },
   "outputs": [
    {
     "name": "stdout",
     "output_type": "stream",
     "text": [
      "           LIMIT_BAL       AGE  BILL_AMT1  BILL_AMT2  BILL_AMT3  BILL_AMT4  \\\n",
      "LIMIT_BAL   1.000000  0.186485   0.054384   0.048586   0.060617   0.072894   \n",
      "AGE         0.186485  1.000000   0.001019   0.001513   0.001831  -0.003330   \n",
      "BILL_AMT1   0.054384  0.001019   1.000000   0.911133   0.857723   0.807302   \n",
      "BILL_AMT2   0.048586  0.001513   0.911133   1.000000   0.907740   0.848381   \n",
      "BILL_AMT3   0.060617  0.001831   0.857723   0.907740   1.000000   0.903640   \n",
      "BILL_AMT4   0.072894 -0.003330   0.807302   0.848381   0.903640   1.000000   \n",
      "BILL_AMT5   0.080694 -0.000342   0.769048   0.802947   0.848547   0.902787   \n",
      "BILL_AMT6   0.088094  0.000217   0.734275   0.765220   0.804246   0.847983   \n",
      "PAY_AMT1    0.272367  0.033580   0.502339   0.635634   0.549733   0.512285   \n",
      "PAY_AMT2    0.278401  0.044192   0.472158   0.497603   0.637539   0.554883   \n",
      "PAY_AMT3    0.284468  0.033356   0.440547   0.468164   0.491950   0.633535   \n",
      "PAY_AMT4    0.283411  0.040529   0.441925   0.461064   0.488544   0.506858   \n",
      "PAY_AMT5    0.293749  0.038125   0.424971   0.448785   0.477489   0.504235   \n",
      "PAY_AMT6    0.317459  0.038977   0.410465   0.429334   0.458451   0.481353   \n",
      "SEX         0.157775  0.105871   0.877844   0.868702   0.863313   0.851809   \n",
      "EDUCATION   0.240361  0.219530   0.873699   0.865620   0.858004   0.842678   \n",
      "MARRIAGE    0.134482  0.454999   0.868491   0.864127   0.855797   0.846214   \n",
      "PAY_1       0.240828  0.087050   0.915842   0.884124   0.878132   0.867508   \n",
      "PAY_2       0.277328  0.093832   0.912742   0.897491   0.889984   0.880970   \n",
      "PAY_3       0.273323  0.094975   0.889330   0.901650   0.883467   0.875394   \n",
      "PAY_4       0.262307  0.081344   0.900460   0.895355   0.904902   0.894095   \n",
      "PAY_5       0.250956  0.085266   0.902321   0.895544   0.902329   0.907586   \n",
      "PAY_6       0.246109  0.090135   0.899060   0.892839   0.897823   0.895858   \n",
      "\n",
      "           BILL_AMT5  BILL_AMT6  PAY_AMT1  PAY_AMT2  PAY_AMT3  PAY_AMT4  \\\n",
      "LIMIT_BAL   0.080694   0.088094  0.272367  0.278401  0.284468  0.283411   \n",
      "AGE        -0.000342   0.000217  0.033580  0.044192  0.033356  0.040529   \n",
      "BILL_AMT1   0.769048   0.734275  0.502339  0.472158  0.440547  0.441925   \n",
      "BILL_AMT2   0.802947   0.765220  0.635634  0.497603  0.468164  0.461064   \n",
      "BILL_AMT3   0.848547   0.804246  0.549733  0.637539  0.491950  0.488544   \n",
      "BILL_AMT4   0.902787   0.847983  0.512285  0.554883  0.633535  0.506858   \n",
      "BILL_AMT5   1.000000   0.902097  0.482558  0.515136  0.549295  0.647095   \n",
      "BILL_AMT6   0.902097   1.000000  0.456124  0.486636  0.518780  0.569959   \n",
      "PAY_AMT1    0.482558   0.456124  1.000000  0.511614  0.519142  0.486075   \n",
      "PAY_AMT2    0.515136   0.486636  0.511614  1.000000  0.516245  0.519887   \n",
      "PAY_AMT3    0.549295   0.518780  0.519142  0.516245  1.000000  0.515762   \n",
      "PAY_AMT4    0.647095   0.569959  0.486075  0.519887  0.515762  1.000000   \n",
      "PAY_AMT5    0.524688   0.666477  0.467924  0.497375  0.533691  0.534367   \n",
      "PAY_AMT6    0.509480   0.529173  0.455322  0.490986  0.505485  0.546974   \n",
      "SEX         0.841869   0.835481  0.519567  0.516334  0.501129  0.482192   \n",
      "EDUCATION   0.829809   0.816779  0.547824  0.546712  0.531113  0.504053   \n",
      "MARRIAGE    0.837480   0.828646  0.518723  0.516852  0.507934  0.487910   \n",
      "PAY_1       0.859969   0.856043  0.536214  0.520583  0.489910  0.475464   \n",
      "PAY_2       0.871834   0.864499  0.587440  0.501117  0.474962  0.464477   \n",
      "PAY_3       0.864708   0.855213  0.534738  0.590017  0.475646  0.459449   \n",
      "PAY_4       0.882805   0.872446  0.486642  0.518720  0.536710  0.447330   \n",
      "PAY_5       0.893165   0.887006  0.471230  0.479048  0.487468  0.520395   \n",
      "PAY_6       0.900140   0.890328  0.479098  0.474757  0.469902  0.501275   \n",
      "\n",
      "           PAY_AMT5  PAY_AMT6       SEX EDUCATION  MARRIAGE     PAY_1  \\\n",
      "LIMIT_BAL  0.293749  0.317459  0.157775  0.240361  0.134482  0.240828   \n",
      "AGE        0.038125  0.038977  0.105871   0.21953  0.454999   0.08705   \n",
      "BILL_AMT1  0.424971  0.410465  0.877844  0.873699  0.868491  0.915842   \n",
      "BILL_AMT2  0.448785  0.429334  0.868702   0.86562  0.864127  0.884124   \n",
      "BILL_AMT3  0.477489  0.458451  0.863313  0.858004  0.855797  0.878132   \n",
      "BILL_AMT4  0.504235  0.481353  0.851809  0.842678  0.846214  0.867508   \n",
      "BILL_AMT5  0.524688  0.509480  0.841869  0.829809   0.83748  0.859969   \n",
      "BILL_AMT6  0.666477  0.529173  0.835481  0.816779  0.828646  0.856043   \n",
      "PAY_AMT1   0.467924  0.455322  0.519567  0.547824  0.518723  0.536214   \n",
      "PAY_AMT2   0.497375  0.490986  0.516334  0.546712  0.516852  0.520583   \n",
      "PAY_AMT3   0.533691  0.505485  0.501129  0.531113  0.507934   0.48991   \n",
      "PAY_AMT4   0.534367  0.546974  0.482192  0.504053   0.48791  0.475464   \n",
      "PAY_AMT5   1.000000  0.548522  0.477345  0.498608  0.485858  0.480049   \n",
      "PAY_AMT6   0.548522  1.000000  0.481596  0.497573   0.48472  0.484345   \n",
      "SEX        0.477345  0.481596       NaN       NaN       NaN       NaN   \n",
      "EDUCATION  0.498608  0.497573       NaN       NaN       NaN       NaN   \n",
      "MARRIAGE   0.485858  0.484720       NaN       NaN       NaN       NaN   \n",
      "PAY_1      0.480049  0.484345       NaN       NaN       NaN       NaN   \n",
      "PAY_2      0.464622  0.479907       NaN       NaN       NaN       NaN   \n",
      "PAY_3      0.453389  0.472094       NaN       NaN       NaN       NaN   \n",
      "PAY_4      0.441075  0.455281       NaN       NaN       NaN       NaN   \n",
      "PAY_5      0.439951  0.452848       NaN       NaN       NaN       NaN   \n",
      "PAY_6      0.519164  0.461999       NaN       NaN       NaN       NaN   \n",
      "\n",
      "               PAY_2      PAY_3      PAY_4      PAY_5     PAY_6  \n",
      "LIMIT_BAL   0.277328   0.273323   0.262307   0.250956  0.246109  \n",
      "AGE        0.0938324  0.0949751  0.0813442  0.0852664  0.090135  \n",
      "BILL_AMT1   0.912742    0.88933    0.90046   0.902321   0.89906  \n",
      "BILL_AMT2   0.897491    0.90165   0.895355   0.895544  0.892839  \n",
      "BILL_AMT3   0.889984   0.883467   0.904902   0.902329  0.897823  \n",
      "BILL_AMT4    0.88097   0.875394   0.894095   0.907586  0.895858  \n",
      "BILL_AMT5   0.871834   0.864708   0.882805   0.893165   0.90014  \n",
      "BILL_AMT6   0.864499   0.855213   0.872446   0.887006  0.890328  \n",
      "PAY_AMT1     0.58744   0.534738   0.486642    0.47123  0.479098  \n",
      "PAY_AMT2    0.501117   0.590017    0.51872   0.479048  0.474757  \n",
      "PAY_AMT3    0.474962   0.475646    0.53671   0.487468  0.469902  \n",
      "PAY_AMT4    0.464477   0.459449    0.44733   0.520395  0.501275  \n",
      "PAY_AMT5    0.464622   0.453389   0.441075   0.439951  0.519164  \n",
      "PAY_AMT6    0.479907   0.472094   0.455281   0.452848  0.461999  \n",
      "SEX              NaN        NaN        NaN        NaN       NaN  \n",
      "EDUCATION        NaN        NaN        NaN        NaN       NaN  \n",
      "MARRIAGE         NaN        NaN        NaN        NaN       NaN  \n",
      "PAY_1            NaN        NaN        NaN        NaN       NaN  \n",
      "PAY_2            NaN        NaN        NaN        NaN       NaN  \n",
      "PAY_3            NaN        NaN        NaN        NaN       NaN  \n",
      "PAY_4            NaN        NaN        NaN        NaN       NaN  \n",
      "PAY_5            NaN        NaN        NaN        NaN       NaN  \n",
      "PAY_6            NaN        NaN        NaN        NaN       NaN  \n"
     ]
    }
   ],
   "source": [
    "# Calculate correlation between continuous &  categorical variables using\n",
    "# Correlation Ratio\n",
    "\n",
    "for con_col_name in continuous_cols:\n",
    "  for cat_col_name in categorical_cols:\n",
    "    val = correlation_ratio(df[con_col_name].values,\n",
    "                            df[cat_col_name].astype('float64').values)\n",
    "    corr.loc[con_col_name, cat_col_name] = val\n",
    "    corr.loc[cat_col_name, con_col_name] = val\n",
    "print(corr)"
   ]
  },
  {
   "cell_type": "code",
   "execution_count": null,
   "metadata": {
    "id": "Eu8vDRz3FGsH"
   },
   "outputs": [],
   "source": [
    "# Function to calculate correlation between categorical & categorical variables\n",
    "# using Cramer's V\n",
    "\n",
    "def cramers_phi(x, y):\n",
    "    confusion_matrix = pd.crosstab(x,y)\n",
    "    chi2 = ss.chi2_contingency(confusion_matrix)[0]\n",
    "    n = confusion_matrix.sum().sum()\n",
    "    phi2 = chi2/n\n",
    "    r,k = confusion_matrix.shape\n",
    "    phi2corr = max(0, phi2-((k-1)*(r-1))/(n-1))\n",
    "    rcorr = r-((r-1)**2)/(n-1)\n",
    "    kcorr = k-((k-1)**2)/(n-1)\n",
    "    return np.sqrt(phi2corr/min((kcorr-1),(rcorr-1)))"
   ]
  },
  {
   "cell_type": "code",
   "execution_count": null,
   "metadata": {
    "colab": {
     "base_uri": "https://localhost:8080/",
     "height": 1000
    },
    "id": "vNVfSGsKFXVB",
    "outputId": "0fdfa62d-8123-40a9-bb69-35791507eeef"
   },
   "outputs": [
    {
     "name": "stdout",
     "output_type": "stream",
     "text": [
      "           LIMIT_BAL       AGE  BILL_AMT1  BILL_AMT2  BILL_AMT3  BILL_AMT4  \\\n",
      "LIMIT_BAL   1.000000  0.186485   0.054384   0.048586   0.060617   0.072894   \n",
      "AGE         0.186485  1.000000   0.001019   0.001513   0.001831  -0.003330   \n",
      "BILL_AMT1   0.054384  0.001019   1.000000   0.911133   0.857723   0.807302   \n",
      "BILL_AMT2   0.048586  0.001513   0.911133   1.000000   0.907740   0.848381   \n",
      "BILL_AMT3   0.060617  0.001831   0.857723   0.907740   1.000000   0.903640   \n",
      "BILL_AMT4   0.072894 -0.003330   0.807302   0.848381   0.903640   1.000000   \n",
      "BILL_AMT5   0.080694 -0.000342   0.769048   0.802947   0.848547   0.902787   \n",
      "BILL_AMT6   0.088094  0.000217   0.734275   0.765220   0.804246   0.847983   \n",
      "PAY_AMT1    0.272367  0.033580   0.502339   0.635634   0.549733   0.512285   \n",
      "PAY_AMT2    0.278401  0.044192   0.472158   0.497603   0.637539   0.554883   \n",
      "PAY_AMT3    0.284468  0.033356   0.440547   0.468164   0.491950   0.633535   \n",
      "PAY_AMT4    0.283411  0.040529   0.441925   0.461064   0.488544   0.506858   \n",
      "PAY_AMT5    0.293749  0.038125   0.424971   0.448785   0.477489   0.504235   \n",
      "PAY_AMT6    0.317459  0.038977   0.410465   0.429334   0.458451   0.481353   \n",
      "SEX         0.157775  0.105871   0.877844   0.868702   0.863313   0.851809   \n",
      "EDUCATION   0.240361  0.219530   0.873699   0.865620   0.858004   0.842678   \n",
      "MARRIAGE    0.134482  0.454999   0.868491   0.864127   0.855797   0.846214   \n",
      "PAY_1       0.240828  0.087050   0.915842   0.884124   0.878132   0.867508   \n",
      "PAY_2       0.277328  0.093832   0.912742   0.897491   0.889984   0.880970   \n",
      "PAY_3       0.273323  0.094975   0.889330   0.901650   0.883467   0.875394   \n",
      "PAY_4       0.262307  0.081344   0.900460   0.895355   0.904902   0.894095   \n",
      "PAY_5       0.250956  0.085266   0.902321   0.895544   0.902329   0.907586   \n",
      "PAY_6       0.246109  0.090135   0.899060   0.892839   0.897823   0.895858   \n",
      "\n",
      "           BILL_AMT5  BILL_AMT6  PAY_AMT1  PAY_AMT2  PAY_AMT3  PAY_AMT4  \\\n",
      "LIMIT_BAL   0.080694   0.088094  0.272367  0.278401  0.284468  0.283411   \n",
      "AGE        -0.000342   0.000217  0.033580  0.044192  0.033356  0.040529   \n",
      "BILL_AMT1   0.769048   0.734275  0.502339  0.472158  0.440547  0.441925   \n",
      "BILL_AMT2   0.802947   0.765220  0.635634  0.497603  0.468164  0.461064   \n",
      "BILL_AMT3   0.848547   0.804246  0.549733  0.637539  0.491950  0.488544   \n",
      "BILL_AMT4   0.902787   0.847983  0.512285  0.554883  0.633535  0.506858   \n",
      "BILL_AMT5   1.000000   0.902097  0.482558  0.515136  0.549295  0.647095   \n",
      "BILL_AMT6   0.902097   1.000000  0.456124  0.486636  0.518780  0.569959   \n",
      "PAY_AMT1    0.482558   0.456124  1.000000  0.511614  0.519142  0.486075   \n",
      "PAY_AMT2    0.515136   0.486636  0.511614  1.000000  0.516245  0.519887   \n",
      "PAY_AMT3    0.549295   0.518780  0.519142  0.516245  1.000000  0.515762   \n",
      "PAY_AMT4    0.647095   0.569959  0.486075  0.519887  0.515762  1.000000   \n",
      "PAY_AMT5    0.524688   0.666477  0.467924  0.497375  0.533691  0.534367   \n",
      "PAY_AMT6    0.509480   0.529173  0.455322  0.490986  0.505485  0.546974   \n",
      "SEX         0.841869   0.835481  0.519567  0.516334  0.501129  0.482192   \n",
      "EDUCATION   0.829809   0.816779  0.547824  0.546712  0.531113  0.504053   \n",
      "MARRIAGE    0.837480   0.828646  0.518723  0.516852  0.507934  0.487910   \n",
      "PAY_1       0.859969   0.856043  0.536214  0.520583  0.489910  0.475464   \n",
      "PAY_2       0.871834   0.864499  0.587440  0.501117  0.474962  0.464477   \n",
      "PAY_3       0.864708   0.855213  0.534738  0.590017  0.475646  0.459449   \n",
      "PAY_4       0.882805   0.872446  0.486642  0.518720  0.536710  0.447330   \n",
      "PAY_5       0.893165   0.887006  0.471230  0.479048  0.487468  0.520395   \n",
      "PAY_6       0.900140   0.890328  0.479098  0.474757  0.469902  0.501275   \n",
      "\n",
      "           PAY_AMT5  PAY_AMT6        SEX  EDUCATION   MARRIAGE      PAY_1  \\\n",
      "LIMIT_BAL  0.293749  0.317459   0.157775   0.240361   0.134482   0.240828   \n",
      "AGE        0.038125  0.038977   0.105871    0.21953   0.454999    0.08705   \n",
      "BILL_AMT1  0.424971  0.410465   0.877844   0.873699   0.868491   0.915842   \n",
      "BILL_AMT2  0.448785  0.429334   0.868702    0.86562   0.864127   0.884124   \n",
      "BILL_AMT3  0.477489  0.458451   0.863313   0.858004   0.855797   0.878132   \n",
      "BILL_AMT4  0.504235  0.481353   0.851809   0.842678   0.846214   0.867508   \n",
      "BILL_AMT5  0.524688  0.509480   0.841869   0.829809    0.83748   0.859969   \n",
      "BILL_AMT6  0.666477  0.529173   0.835481   0.816779   0.828646   0.856043   \n",
      "PAY_AMT1   0.467924  0.455322   0.519567   0.547824   0.518723   0.536214   \n",
      "PAY_AMT2   0.497375  0.490986   0.516334   0.546712   0.516852   0.520583   \n",
      "PAY_AMT3   0.533691  0.505485   0.501129   0.531113   0.507934    0.48991   \n",
      "PAY_AMT4   0.534367  0.546974   0.482192   0.504053    0.48791   0.475464   \n",
      "PAY_AMT5   1.000000  0.548522   0.477345   0.498608   0.485858   0.480049   \n",
      "PAY_AMT6   0.548522  1.000000   0.481596   0.497573    0.48472   0.484345   \n",
      "SEX        0.477345  0.481596          1  0.0259781  0.0299282  0.0389803   \n",
      "EDUCATION  0.498608  0.497573  0.0259781          1   0.134476  0.0780895   \n",
      "MARRIAGE   0.485858  0.484720  0.0299282   0.134476          1  0.0258521   \n",
      "PAY_1      0.480049  0.484345  0.0389803  0.0780895  0.0258521          1   \n",
      "PAY_2      0.464622  0.479907  0.0497009  0.0802194  0.0255638   0.633971   \n",
      "PAY_3      0.453389  0.472094  0.0470832  0.0741411  0.0201342   0.486774   \n",
      "PAY_4      0.441075  0.455281  0.0480085  0.0664604  0.0244439   0.375146   \n",
      "PAY_5      0.439951  0.452848  0.0434777  0.0592038  0.0188354   0.303617   \n",
      "PAY_6      0.519164  0.461999  0.0391931  0.0601303  0.0206166   0.256901   \n",
      "\n",
      "               PAY_2      PAY_3      PAY_4      PAY_5      PAY_6  \n",
      "LIMIT_BAL   0.277328   0.273323   0.262307   0.250956   0.246109  \n",
      "AGE        0.0938324  0.0949751  0.0813442  0.0852664   0.090135  \n",
      "BILL_AMT1   0.912742    0.88933    0.90046   0.902321    0.89906  \n",
      "BILL_AMT2   0.897491    0.90165   0.895355   0.895544   0.892839  \n",
      "BILL_AMT3   0.889984   0.883467   0.904902   0.902329   0.897823  \n",
      "BILL_AMT4    0.88097   0.875394   0.894095   0.907586   0.895858  \n",
      "BILL_AMT5   0.871834   0.864708   0.882805   0.893165    0.90014  \n",
      "BILL_AMT6   0.864499   0.855213   0.872446   0.887006   0.890328  \n",
      "PAY_AMT1     0.58744   0.534738   0.486642    0.47123   0.479098  \n",
      "PAY_AMT2    0.501117   0.590017    0.51872   0.479048   0.474757  \n",
      "PAY_AMT3    0.474962   0.475646    0.53671   0.487468   0.469902  \n",
      "PAY_AMT4    0.464477   0.459449    0.44733   0.520395   0.501275  \n",
      "PAY_AMT5    0.464622   0.453389   0.441075   0.439951   0.519164  \n",
      "PAY_AMT6    0.479907   0.472094   0.455281   0.452848   0.461999  \n",
      "SEX        0.0497009  0.0470832  0.0480085  0.0434777  0.0391931  \n",
      "EDUCATION  0.0802194  0.0741411  0.0664604  0.0592038  0.0601303  \n",
      "MARRIAGE   0.0255638  0.0201342  0.0244439  0.0188354  0.0206166  \n",
      "PAY_1       0.633971   0.486774   0.375146   0.303617   0.256901  \n",
      "PAY_2              1   0.594875   0.439768   0.324642   0.265857  \n",
      "PAY_3       0.594875          1   0.586194   0.469697   0.390306  \n",
      "PAY_4       0.439768   0.586194          1   0.622827   0.516376  \n",
      "PAY_5       0.324642   0.469697   0.622827          1   0.618511  \n",
      "PAY_6       0.265857   0.390306   0.516376   0.618511          1  \n"
     ]
    }
   ],
   "source": [
    "# Calculate correlation between categorical & categorical variables\n",
    "# using Cramer's V\n",
    "for col in [categorical_cols, categorical_cols]:\n",
    "  for i in range(0,len(col)):\n",
    "    for j in range(i,len(col)):\n",
    "      if i == j:\n",
    "        corr.loc[col[i],col[j]] = 1.0\n",
    "      else:\n",
    "        val = cramers_phi(df[col[i]].astype('float64').values,\n",
    "                          df[col[j]].astype('float64').values)\n",
    "        corr.loc[col[i], col[j]] = val\n",
    "        corr.loc[col[j], col[i]] = val\n",
    "print(corr)"
   ]
  },
  {
   "cell_type": "code",
   "execution_count": null,
   "metadata": {
    "colab": {
     "base_uri": "https://localhost:8080/",
     "height": 335
    },
    "id": "fXduZCsPFoM_",
    "outputId": "bae08619-474b-4419-f5d6-354a0a2f3a78"
   },
   "outputs": [
    {
     "data": {
      "text/plain": [
       "<matplotlib.axes._subplots.AxesSubplot at 0x7f1b797f3860>"
      ]
     },
     "execution_count": 99,
     "metadata": {
      "tags": []
     },
     "output_type": "execute_result"
    },
    {
     "data": {
      "image/png": "[encoded data removed]",
      "text/plain": [
       "<Figure size 432x288 with 2 Axes>"
      ]
     },
     "metadata": {
      "needs_background": "light",
      "tags": []
     },
     "output_type": "display_data"
    }
   ],
   "source": [
    "# Plot the correlation matrix\n",
    "corr.fillna(value=np.nan, inplace=True)\n",
    "sns.heatmap(corr)"
   ]
  },
  {
   "cell_type": "code",
   "execution_count": null,
   "metadata": {
    "colab": {
     "base_uri": "https://localhost:8080/",
     "height": 769
    },
    "id": "AWjVKHVdFNeZ",
    "outputId": "1be14882-d62d-411c-d209-66001474ee1a"
   },
   "outputs": [
    {
     "data": {
      "image/png": "[encoded data removed]",
      "text/plain": [
       "<Figure size 864x864 with 1 Axes>"
      ]
     },
     "metadata": {
      "needs_background": "light",
      "tags": []
     },
     "output_type": "display_data"
    }
   ],
   "source": [
    "## Hierarchichal clustering of the correlation matrix\n",
    "# Generate the linkage matrix\n",
    "Z = linkage(corr, 'ward')\n",
    "\n",
    "# Calculate full dendrogram\n",
    "plt.figure(figsize=(12, 12))\n",
    "plt.title('Hierarchical Clustering Dendrogram')\n",
    "plt.xlabel('Variables')\n",
    "plt.ylabel('distance')\n",
    "dendrogram(Z, labels=list(corr.columns))\n",
    "plt.axhline(y=2, color='r', linestyle='--')\n",
    "plt.show()"
   ]
  },
  {
   "cell_type": "code",
   "execution_count": null,
   "metadata": {
    "colab": {
     "base_uri": "https://localhost:8080/",
     "height": 363
    },
    "id": "rcp_Z2yUrECy",
    "outputId": "12e4db03-4c24-4a0c-fed7-c4e926665796"
   },
   "outputs": [
    {
     "name": "stdout",
     "output_type": "stream",
     "text": [
      "Reading package lists... Done\n",
      "Building dependency tree       \n",
      "Reading state information... Done\n",
      "default-jre is already the newest version (2:1.11-68ubuntu1~18.04.1).\n",
      "The following package was automatically installed and is no longer required:\n",
      "  libnvidia-common-440\n",
      "Use 'apt autoremove' to remove it.\n",
      "0 upgraded, 0 newly installed, 0 to remove and 59 not upgraded.\n",
      "openjdk version \"11.0.7\" 2020-04-14\n",
      "OpenJDK Runtime Environment (build 11.0.7+10-post-Ubuntu-2ubuntu218.04)\n",
      "OpenJDK 64-Bit Server VM (build 11.0.7+10-post-Ubuntu-2ubuntu218.04, mixed mode, sharing)\n",
      "Requirement already satisfied: h2o in /usr/local/lib/python3.6/dist-packages (3.30.0.5)\n",
      "Requirement already satisfied: future in /usr/local/lib/python3.6/dist-packages (from h2o) (0.16.0)\n",
      "Requirement already satisfied: requests in /usr/local/lib/python3.6/dist-packages (from h2o) (2.23.0)\n",
      "Requirement already satisfied: colorama>=0.3.8 in /usr/local/lib/python3.6/dist-packages (from h2o) (0.4.3)\n",
      "Requirement already satisfied: tabulate in /usr/local/lib/python3.6/dist-packages (from h2o) (0.8.7)\n",
      "Requirement already satisfied: chardet<4,>=3.0.2 in /usr/local/lib/python3.6/dist-packages (from requests->h2o) (3.0.4)\n",
      "Requirement already satisfied: urllib3!=1.25.0,!=1.25.1,<1.26,>=1.21.1 in /usr/local/lib/python3.6/dist-packages (from requests->h2o) (1.24.3)\n",
      "Requirement already satisfied: certifi>=2017.4.17 in /usr/local/lib/python3.6/dist-packages (from requests->h2o) (2020.4.5.2)\n",
      "Requirement already satisfied: idna<3,>=2.5 in /usr/local/lib/python3.6/dist-packages (from requests->h2o) (2.9)\n"
     ]
    }
   ],
   "source": [
    "# Install Java\n",
    "! apt-get install default-jre\n",
    "! java -version\n",
    "# Install h2o library for GLRM\n",
    "! pip install h2o"
   ]
  },
  {
   "cell_type": "code",
   "execution_count": null,
   "metadata": {
    "colab": {
     "base_uri": "https://localhost:8080/",
     "height": 381
    },
    "id": "5TUtcH1LrQgn",
    "outputId": "e9993d80-84fd-43f0-b384-59414106f7c7"
   },
   "outputs": [
    {
     "name": "stdout",
     "output_type": "stream",
     "text": [
      "Checking whether there is an H2O instance running at http://localhost:54321 . connected.\n"
     ]
    },
    {
     "data": {
      "text/html": [
       "<div style=\"overflow:auto\"><table style=\"width:50%\"><tr><td>H2O_cluster_uptime:</td>\n",
       "<td>1 hour 10 mins</td></tr>\n",
       "<tr><td>H2O_cluster_timezone:</td>\n",
       "<td>Etc/UTC</td></tr>\n",
       "<tr><td>H2O_data_parsing_timezone:</td>\n",
       "<td>UTC</td></tr>\n",
       "<tr><td>H2O_cluster_version:</td>\n",
       "<td>3.30.0.5</td></tr>\n",
       "<tr><td>H2O_cluster_version_age:</td>\n",
       "<td>18 hours and 39 minutes </td></tr>\n",
       "<tr><td>H2O_cluster_name:</td>\n",
       "<td>H2O_from_python_unknownUser_cig9ws</td></tr>\n",
       "<tr><td>H2O_cluster_total_nodes:</td>\n",
       "<td>1</td></tr>\n",
       "<tr><td>H2O_cluster_free_memory:</td>\n",
       "<td>3.176 Gb</td></tr>\n",
       "<tr><td>H2O_cluster_total_cores:</td>\n",
       "<td>2</td></tr>\n",
       "<tr><td>H2O_cluster_allowed_cores:</td>\n",
       "<td>2</td></tr>\n",
       "<tr><td>H2O_cluster_status:</td>\n",
       "<td>locked, healthy</td></tr>\n",
       "<tr><td>H2O_connection_url:</td>\n",
       "<td>http://localhost:54321</td></tr>\n",
       "<tr><td>H2O_connection_proxy:</td>\n",
       "<td>{\"http\": null, \"https\": null}</td></tr>\n",
       "<tr><td>H2O_internal_security:</td>\n",
       "<td>False</td></tr>\n",
       "<tr><td>H2O_API_Extensions:</td>\n",
       "<td>Amazon S3, XGBoost, Algos, AutoML, Core V3, TargetEncoder, Core V4</td></tr>\n",
       "<tr><td>Python_version:</td>\n",
       "<td>3.6.9 final</td></tr></table></div>"
      ],
      "text/plain": [
       "--------------------------  ------------------------------------------------------------------\n",
       "H2O_cluster_uptime:         1 hour 10 mins\n",
       "H2O_cluster_timezone:       Etc/UTC\n",
       "H2O_data_parsing_timezone:  UTC\n",
       "H2O_cluster_version:        3.30.0.5\n",
       "H2O_cluster_version_age:    18 hours and 39 minutes\n",
       "H2O_cluster_name:           H2O_from_python_unknownUser_cig9ws\n",
       "H2O_cluster_total_nodes:    1\n",
       "H2O_cluster_free_memory:    3.176 Gb\n",
       "H2O_cluster_total_cores:    2\n",
       "H2O_cluster_allowed_cores:  2\n",
       "H2O_cluster_status:         locked, healthy\n",
       "H2O_connection_url:         http://localhost:54321\n",
       "H2O_connection_proxy:       {\"http\": null, \"https\": null}\n",
       "H2O_internal_security:      False\n",
       "H2O_API_Extensions:         Amazon S3, XGBoost, Algos, AutoML, Core V3, TargetEncoder, Core V4\n",
       "Python_version:             3.6.9 final\n",
       "--------------------------  ------------------------------------------------------------------"
      ]
     },
     "metadata": {
      "tags": []
     },
     "output_type": "display_data"
    }
   ],
   "source": [
    "import h2o # For GLRM\n",
    "from h2o.estimators.glrm import H2OGeneralizedLowRankEstimator\n",
    "h2o.init()\n",
    "h2o.remove_all() # Clean slate - just in case the cluster was already running"
   ]
  },
  {
   "cell_type": "code",
   "execution_count": null,
   "metadata": {
    "id": "nEwdLzY8rV9f"
   },
   "outputs": [],
   "source": [
    "# Write updated dataframe into a single CSV file\n",
    "df.to_csv('Data/CreditCardDataUpdated.csv', columns = df.columns)"
   ]
  },
  {
   "cell_type": "code",
   "execution_count": null,
   "metadata": {
    "colab": {
     "base_uri": "https://localhost:8080/",
     "height": 484
    },
    "id": "ru7PM_vjZyjM",
    "outputId": "1a683062-37c4-4b88-dff8-12952bd3da15"
   },
   "outputs": [
    {
     "name": "stdout",
     "output_type": "stream",
     "text": [
      "Parse progress: |█████████████████████████████████████████████████████████| 100%\n"
     ]
    },
    {
     "data": {
      "text/plain": [
       "{'AGE': 'int',\n",
       " 'BILL_AMT1': 'int',\n",
       " 'BILL_AMT2': 'int',\n",
       " 'BILL_AMT3': 'int',\n",
       " 'BILL_AMT4': 'int',\n",
       " 'BILL_AMT5': 'int',\n",
       " 'BILL_AMT6': 'int',\n",
       " 'C1': 'int',\n",
       " 'EDUCATION': 'int',\n",
       " 'ID': 'int',\n",
       " 'LIMIT_BAL': 'int',\n",
       " 'MARRIAGE': 'int',\n",
       " 'PAY_1': 'int',\n",
       " 'PAY_2': 'int',\n",
       " 'PAY_3': 'int',\n",
       " 'PAY_4': 'int',\n",
       " 'PAY_5': 'int',\n",
       " 'PAY_6': 'int',\n",
       " 'PAY_AMT1': 'int',\n",
       " 'PAY_AMT2': 'int',\n",
       " 'PAY_AMT3': 'int',\n",
       " 'PAY_AMT4': 'int',\n",
       " 'PAY_AMT5': 'int',\n",
       " 'PAY_AMT6': 'int',\n",
       " 'SEX': 'int',\n",
       " 'default.payment.next.month': 'int'}"
      ]
     },
     "execution_count": 104,
     "metadata": {
      "tags": []
     },
     "output_type": "execute_result"
    }
   ],
   "source": [
    "# Import data as h2o dataframe\n",
    "dfh2o = h2o.import_file(path = os.path.realpath(\"Data/CreditCardDataUpdated.csv\"))\n",
    "dfh2o.types"
   ]
  },
  {
   "cell_type": "code",
   "execution_count": null,
   "metadata": {
    "colab": {
     "base_uri": "https://localhost:8080/",
     "height": 466
    },
    "id": "VgdaEZWfcLh4",
    "outputId": "768b79e6-0ba7-429e-e4ad-61cefe044dec"
   },
   "outputs": [
    {
     "data": {
      "text/plain": [
       "{'AGE': 'int',\n",
       " 'BILL_AMT1': 'int',\n",
       " 'BILL_AMT2': 'int',\n",
       " 'BILL_AMT3': 'int',\n",
       " 'BILL_AMT4': 'int',\n",
       " 'BILL_AMT5': 'int',\n",
       " 'BILL_AMT6': 'int',\n",
       " 'C1': 'int',\n",
       " 'EDUCATION': 'enum',\n",
       " 'ID': 'int',\n",
       " 'LIMIT_BAL': 'int',\n",
       " 'MARRIAGE': 'enum',\n",
       " 'PAY_1': 'enum',\n",
       " 'PAY_2': 'enum',\n",
       " 'PAY_3': 'enum',\n",
       " 'PAY_4': 'enum',\n",
       " 'PAY_5': 'enum',\n",
       " 'PAY_6': 'enum',\n",
       " 'PAY_AMT1': 'int',\n",
       " 'PAY_AMT2': 'int',\n",
       " 'PAY_AMT3': 'int',\n",
       " 'PAY_AMT4': 'int',\n",
       " 'PAY_AMT5': 'int',\n",
       " 'PAY_AMT6': 'int',\n",
       " 'SEX': 'enum',\n",
       " 'default.payment.next.month': 'enum'}"
      ]
     },
     "execution_count": 105,
     "metadata": {
      "tags": []
     },
     "output_type": "execute_result"
    }
   ],
   "source": [
    "# Reset categorical column data types in h2o dataframe\n",
    "dfh2o[categorical_cols] = dfh2o[categorical_cols].asfactor()\n",
    "dfh2o[\"default.payment.next.month\"]=dfh2o[\"default.payment.next.month\"].asfactor()\n",
    "dfh2o.types"
   ]
  },
  {
   "cell_type": "code",
   "execution_count": null,
   "metadata": {
    "id": "g80SbvOdHcct"
   },
   "outputs": [],
   "source": [
    "#Created 5 different dataframes which has the features corresponding to the particular cluster.\n",
    "#Then each time while running GLRM model given each dataframe as the  training frame.\n",
    "#This is not needed we can give directly the features corresponding to the particular cluster in the trainning frame..\n",
    "dfh2o_c1=dfh2o[[\"BILL_AMT1\",\"BILL_AMT2\",\"BILL_AMT3\",\"BILL_AMT4\",\"BILL_AMT5\",\"BILL_AMT6\"]]\n",
    "dfh2o_c2=dfh2o[[\"AGE\",\"LIMIT_BAL\"]]\n",
    "dfh2o_c3=dfh2o[[\"PAY_AMT1\",\"PAY_AMT2\",\"PAY_AMT3\",\"PAY_AMT4\",\"PAY_AMT5\",\"PAY_AMT6\"]]\n",
    "dfh2o_c4=dfh2o[[\"PAY_1\",\"PAY_2\",\"PAY_3\",\"PAY_4\",\"PAY_5\",\"PAY_6\"]]\n",
    "dfh2o_c5=dfh2o[[\"SEX\",\"EDUCATION\",\"MARRIAGE\"]]\n",
    "#dfh2o_list = [dfh2o_c1,dfh2o_c2,dfh2o_c3,dfh2o_c4,dfh2o_c5]\n",
    "#print(dfh2o_list)\n"
   ]
  },
  {
   "cell_type": "code",
   "execution_count": null,
   "metadata": {
    "id": "XsURsuVR2ITK"
   },
   "outputs": [],
   "source": [
    "# Basic GLRM using absolute loss for continuous and categorical loss for\n",
    "# categorical columns with no regularization and with stadardized columns"
   ]
  },
  {
   "cell_type": "code",
   "execution_count": null,
   "metadata": {
    "colab": {
     "base_uri": "https://localhost:8080/",
     "height": 1000
    },
    "id": "LWwQKF9hdo5U",
    "outputId": "a8beb5d9-3d28-4c76-8d4d-7d4c49916ea0"
   },
   "outputs": [
    {
     "name": "stdout",
     "output_type": "stream",
     "text": [
      "glrm Model Build progress: |██████████████████████████████████████████████| 100%\n",
      "Model Details\n",
      "=============\n",
      "H2OGeneralizedLowRankEstimator :  Generalized Low Rank Modeling\n",
      "Model Key:  GLRM_model_python_1592562208597_11\n",
      "\n",
      "\n",
      "Model Summary: \n"
     ]
    },
    {
     "data": {
      "text/html": [
       "<div>\n",
       "<style scoped>\n",
       "    .dataframe tbody tr th:only-of-type {\n",
       "        vertical-align: middle;\n",
       "    }\n",
       "\n",
       "    .dataframe tbody tr th {\n",
       "        vertical-align: top;\n",
       "    }\n",
       "\n",
       "    .dataframe thead th {\n",
       "        text-align: right;\n",
       "    }\n",
       "</style>\n",
       "<table border=\"1\" class=\"dataframe\">\n",
       "  <thead>\n",
       "    <tr style=\"text-align: right;\">\n",
       "      <th></th>\n",
       "      <th></th>\n",
       "      <th>number_of_iterations</th>\n",
       "      <th>final_step_size</th>\n",
       "      <th>final_objective_value</th>\n",
       "    </tr>\n",
       "  </thead>\n",
       "  <tbody>\n",
       "    <tr>\n",
       "      <th>0</th>\n",
       "      <td></td>\n",
       "      <td>1000.0</td>\n",
       "      <td>0.000113</td>\n",
       "      <td>104999.442091</td>\n",
       "    </tr>\n",
       "  </tbody>\n",
       "</table>\n",
       "</div>"
      ],
      "text/plain": [
       "     number_of_iterations  final_step_size  final_objective_value\n",
       "0                  1000.0         0.000113          104999.442091"
      ]
     },
     "metadata": {
      "tags": []
     },
     "output_type": "display_data"
    },
    {
     "name": "stdout",
     "output_type": "stream",
     "text": [
      "\n",
      "\n",
      "ModelMetricsGLRM: glrm\n",
      "** Reported on train data. **\n",
      "\n",
      "MSE: NaN\n",
      "RMSE: NaN\n",
      "Sum of Squared Error (Numeric): 205111.72654136934\n",
      "Misclassification Error (Categorical): 0.0\n",
      "\n",
      "Scoring History: \n"
     ]
    },
    {
     "data": {
      "text/html": [
       "<div>\n",
       "<style scoped>\n",
       "    .dataframe tbody tr th:only-of-type {\n",
       "        vertical-align: middle;\n",
       "    }\n",
       "\n",
       "    .dataframe tbody tr th {\n",
       "        vertical-align: top;\n",
       "    }\n",
       "\n",
       "    .dataframe thead th {\n",
       "        text-align: right;\n",
       "    }\n",
       "</style>\n",
       "<table border=\"1\" class=\"dataframe\">\n",
       "  <thead>\n",
       "    <tr style=\"text-align: right;\">\n",
       "      <th></th>\n",
       "      <th></th>\n",
       "      <th>timestamp</th>\n",
       "      <th>duration</th>\n",
       "      <th>iterations</th>\n",
       "      <th>step_size</th>\n",
       "      <th>objective</th>\n",
       "    </tr>\n",
       "  </thead>\n",
       "  <tbody>\n",
       "    <tr>\n",
       "      <th>0</th>\n",
       "      <td></td>\n",
       "      <td>2020-06-19 11:34:48</td>\n",
       "      <td>0.217 sec</td>\n",
       "      <td>0.0</td>\n",
       "      <td>0.666667</td>\n",
       "      <td>122395.625126</td>\n",
       "    </tr>\n",
       "    <tr>\n",
       "      <th>1</th>\n",
       "      <td></td>\n",
       "      <td>2020-06-19 11:34:48</td>\n",
       "      <td>0.259 sec</td>\n",
       "      <td>1.0</td>\n",
       "      <td>0.444444</td>\n",
       "      <td>122395.625126</td>\n",
       "    </tr>\n",
       "    <tr>\n",
       "      <th>2</th>\n",
       "      <td></td>\n",
       "      <td>2020-06-19 11:34:48</td>\n",
       "      <td>0.291 sec</td>\n",
       "      <td>2.0</td>\n",
       "      <td>0.222222</td>\n",
       "      <td>122395.625126</td>\n",
       "    </tr>\n",
       "    <tr>\n",
       "      <th>3</th>\n",
       "      <td></td>\n",
       "      <td>2020-06-19 11:34:48</td>\n",
       "      <td>0.315 sec</td>\n",
       "      <td>3.0</td>\n",
       "      <td>0.074074</td>\n",
       "      <td>122395.625126</td>\n",
       "    </tr>\n",
       "    <tr>\n",
       "      <th>4</th>\n",
       "      <td></td>\n",
       "      <td>2020-06-19 11:34:48</td>\n",
       "      <td>0.343 sec</td>\n",
       "      <td>4.0</td>\n",
       "      <td>0.018519</td>\n",
       "      <td>122395.625126</td>\n",
       "    </tr>\n",
       "    <tr>\n",
       "      <th>5</th>\n",
       "      <td></td>\n",
       "      <td>2020-06-19 11:34:49</td>\n",
       "      <td>0.378 sec</td>\n",
       "      <td>5.0</td>\n",
       "      <td>0.003704</td>\n",
       "      <td>122395.625126</td>\n",
       "    </tr>\n",
       "    <tr>\n",
       "      <th>6</th>\n",
       "      <td></td>\n",
       "      <td>2020-06-19 11:34:49</td>\n",
       "      <td>0.404 sec</td>\n",
       "      <td>6.0</td>\n",
       "      <td>0.000617</td>\n",
       "      <td>122395.625126</td>\n",
       "    </tr>\n",
       "    <tr>\n",
       "      <th>7</th>\n",
       "      <td></td>\n",
       "      <td>2020-06-19 11:34:49</td>\n",
       "      <td>0.438 sec</td>\n",
       "      <td>7.0</td>\n",
       "      <td>0.000088</td>\n",
       "      <td>122395.625126</td>\n",
       "    </tr>\n",
       "    <tr>\n",
       "      <th>8</th>\n",
       "      <td></td>\n",
       "      <td>2020-06-19 11:34:49</td>\n",
       "      <td>0.474 sec</td>\n",
       "      <td>8.0</td>\n",
       "      <td>0.000093</td>\n",
       "      <td>112819.019292</td>\n",
       "    </tr>\n",
       "    <tr>\n",
       "      <th>9</th>\n",
       "      <td></td>\n",
       "      <td>2020-06-19 11:34:49</td>\n",
       "      <td>0.518 sec</td>\n",
       "      <td>9.0</td>\n",
       "      <td>0.000097</td>\n",
       "      <td>108797.066465</td>\n",
       "    </tr>\n",
       "    <tr>\n",
       "      <th>10</th>\n",
       "      <td></td>\n",
       "      <td>2020-06-19 11:34:49</td>\n",
       "      <td>0.554 sec</td>\n",
       "      <td>10.0</td>\n",
       "      <td>0.000102</td>\n",
       "      <td>107735.491150</td>\n",
       "    </tr>\n",
       "    <tr>\n",
       "      <th>11</th>\n",
       "      <td></td>\n",
       "      <td>2020-06-19 11:34:49</td>\n",
       "      <td>0.595 sec</td>\n",
       "      <td>11.0</td>\n",
       "      <td>0.000107</td>\n",
       "      <td>107604.907290</td>\n",
       "    </tr>\n",
       "    <tr>\n",
       "      <th>12</th>\n",
       "      <td></td>\n",
       "      <td>2020-06-19 11:34:49</td>\n",
       "      <td>0.631 sec</td>\n",
       "      <td>12.0</td>\n",
       "      <td>0.000113</td>\n",
       "      <td>107579.685701</td>\n",
       "    </tr>\n",
       "    <tr>\n",
       "      <th>13</th>\n",
       "      <td></td>\n",
       "      <td>2020-06-19 11:34:49</td>\n",
       "      <td>0.663 sec</td>\n",
       "      <td>13.0</td>\n",
       "      <td>0.000118</td>\n",
       "      <td>107573.887272</td>\n",
       "    </tr>\n",
       "    <tr>\n",
       "      <th>14</th>\n",
       "      <td></td>\n",
       "      <td>2020-06-19 11:34:49</td>\n",
       "      <td>0.688 sec</td>\n",
       "      <td>14.0</td>\n",
       "      <td>0.000124</td>\n",
       "      <td>107570.772940</td>\n",
       "    </tr>\n",
       "    <tr>\n",
       "      <th>15</th>\n",
       "      <td></td>\n",
       "      <td>2020-06-19 11:34:49</td>\n",
       "      <td>0.726 sec</td>\n",
       "      <td>15.0</td>\n",
       "      <td>0.000130</td>\n",
       "      <td>107568.118171</td>\n",
       "    </tr>\n",
       "    <tr>\n",
       "      <th>16</th>\n",
       "      <td></td>\n",
       "      <td>2020-06-19 11:34:49</td>\n",
       "      <td>0.764 sec</td>\n",
       "      <td>16.0</td>\n",
       "      <td>0.000137</td>\n",
       "      <td>107565.404802</td>\n",
       "    </tr>\n",
       "    <tr>\n",
       "      <th>17</th>\n",
       "      <td></td>\n",
       "      <td>2020-06-19 11:34:49</td>\n",
       "      <td>0.796 sec</td>\n",
       "      <td>17.0</td>\n",
       "      <td>0.000144</td>\n",
       "      <td>107562.569185</td>\n",
       "    </tr>\n",
       "    <tr>\n",
       "      <th>18</th>\n",
       "      <td></td>\n",
       "      <td>2020-06-19 11:34:49</td>\n",
       "      <td>0.814 sec</td>\n",
       "      <td>18.0</td>\n",
       "      <td>0.000151</td>\n",
       "      <td>107559.593839</td>\n",
       "    </tr>\n",
       "    <tr>\n",
       "      <th>19</th>\n",
       "      <td></td>\n",
       "      <td>2020-06-19 11:34:49</td>\n",
       "      <td>0.834 sec</td>\n",
       "      <td>19.0</td>\n",
       "      <td>0.000158</td>\n",
       "      <td>107556.469424</td>\n",
       "    </tr>\n",
       "  </tbody>\n",
       "</table>\n",
       "</div>"
      ],
      "text/plain": [
       "                timestamp    duration  iterations  step_size      objective\n",
       "0     2020-06-19 11:34:48   0.217 sec         0.0   0.666667  122395.625126\n",
       "1     2020-06-19 11:34:48   0.259 sec         1.0   0.444444  122395.625126\n",
       "2     2020-06-19 11:34:48   0.291 sec         2.0   0.222222  122395.625126\n",
       "3     2020-06-19 11:34:48   0.315 sec         3.0   0.074074  122395.625126\n",
       "4     2020-06-19 11:34:48   0.343 sec         4.0   0.018519  122395.625126\n",
       "5     2020-06-19 11:34:49   0.378 sec         5.0   0.003704  122395.625126\n",
       "6     2020-06-19 11:34:49   0.404 sec         6.0   0.000617  122395.625126\n",
       "7     2020-06-19 11:34:49   0.438 sec         7.0   0.000088  122395.625126\n",
       "8     2020-06-19 11:34:49   0.474 sec         8.0   0.000093  112819.019292\n",
       "9     2020-06-19 11:34:49   0.518 sec         9.0   0.000097  108797.066465\n",
       "10    2020-06-19 11:34:49   0.554 sec        10.0   0.000102  107735.491150\n",
       "11    2020-06-19 11:34:49   0.595 sec        11.0   0.000107  107604.907290\n",
       "12    2020-06-19 11:34:49   0.631 sec        12.0   0.000113  107579.685701\n",
       "13    2020-06-19 11:34:49   0.663 sec        13.0   0.000118  107573.887272\n",
       "14    2020-06-19 11:34:49   0.688 sec        14.0   0.000124  107570.772940\n",
       "15    2020-06-19 11:34:49   0.726 sec        15.0   0.000130  107568.118171\n",
       "16    2020-06-19 11:34:49   0.764 sec        16.0   0.000137  107565.404802\n",
       "17    2020-06-19 11:34:49   0.796 sec        17.0   0.000144  107562.569185\n",
       "18    2020-06-19 11:34:49   0.814 sec        18.0   0.000151  107559.593839\n",
       "19    2020-06-19 11:34:49   0.834 sec        19.0   0.000158  107556.469424"
      ]
     },
     "metadata": {
      "tags": []
     },
     "output_type": "display_data"
    },
    {
     "name": "stdout",
     "output_type": "stream",
     "text": [
      "\n",
      "See the whole table with table.as_data_frame()\n"
     ]
    }
   ],
   "source": [
    "#model genearted for the first cluster :bill_amt1 to bill_amt6\n",
    "model_c1 = H2OGeneralizedLowRankEstimator(k = 1,\n",
    "                                       loss = \"Absolute\", multi_loss = \"Categorical\",\n",
    "                                       transform = \"Standardize\",\n",
    "                                       regularization_x = \"None\",\n",
    "                                       regularization_y = \"None\",\n",
    "                                       max_iterations = 1000,\n",
    "                                       min_step_size = 1e-6)\n",
    "model_c1.train(training_frame=dfh2o_c1)\n",
    "model_c1.show()\n",
    "\n"
   ]
  },
  {
   "cell_type": "code",
   "execution_count": null,
   "metadata": {
    "colab": {
     "base_uri": "https://localhost:8080/",
     "height": 173
    },
    "id": "6MYv8xuyhjDS",
    "outputId": "31c6e19f-11ba-4f08-f7db-6602280fb9bb"
   },
   "outputs": [
    {
     "name": "stdout",
     "output_type": "stream",
     "text": [
      "\n",
      "Importance of components: \n"
     ]
    },
    {
     "data": {
      "text/html": [
       "<div>\n",
       "<style scoped>\n",
       "    .dataframe tbody tr th:only-of-type {\n",
       "        vertical-align: middle;\n",
       "    }\n",
       "\n",
       "    .dataframe tbody tr th {\n",
       "        vertical-align: top;\n",
       "    }\n",
       "\n",
       "    .dataframe thead th {\n",
       "        text-align: right;\n",
       "    }\n",
       "</style>\n",
       "<table border=\"1\" class=\"dataframe\">\n",
       "  <thead>\n",
       "    <tr style=\"text-align: right;\">\n",
       "      <th></th>\n",
       "      <th></th>\n",
       "      <th>pc1</th>\n",
       "    </tr>\n",
       "  </thead>\n",
       "  <tbody>\n",
       "    <tr>\n",
       "      <th>0</th>\n",
       "      <td>Standard deviation</td>\n",
       "      <td>0.978438</td>\n",
       "    </tr>\n",
       "    <tr>\n",
       "      <th>1</th>\n",
       "      <td>Proportion of Variance</td>\n",
       "      <td>0.159557</td>\n",
       "    </tr>\n",
       "    <tr>\n",
       "      <th>2</th>\n",
       "      <td>Cumulative Proportion</td>\n",
       "      <td>0.159557</td>\n",
       "    </tr>\n",
       "  </tbody>\n",
       "</table>\n",
       "</div>"
      ],
      "text/plain": [
       "                                pc1\n",
       "0      Standard deviation  0.978438\n",
       "1  Proportion of Variance  0.159557\n",
       "2   Cumulative Proportion  0.159557"
      ]
     },
     "metadata": {
      "tags": []
     },
     "output_type": "display_data"
    },
    {
     "data": {
      "text/plain": []
     },
     "execution_count": 109,
     "metadata": {
      "tags": []
     },
     "output_type": "execute_result"
    }
   ],
   "source": [
    "# Print importance of each component of GLRM model\n",
    "model_c1._model_json[\"output\"][\"importance\"]"
   ]
  },
  {
   "cell_type": "code",
   "execution_count": null,
   "metadata": {
    "id": "ZkaQwmyZ2nC_"
   },
   "outputs": [],
   "source": [
    "# Split the feature matrix into product of two matrices X and Y\n",
    "# The matrix X has the same number of rows as the original feature matrix\n",
    "# but a reduced number of columns representing the original features\n",
    "# GLRM matrix factors X and Y"
   ]
  },
  {
   "cell_type": "code",
   "execution_count": null,
   "metadata": {
    "colab": {
     "base_uri": "https://localhost:8080/",
     "height": 374
    },
    "id": "11IXiWAKgCaQ",
    "outputId": "eb05d226-06cc-418a-f23d-1d6baa6345dc"
   },
   "outputs": [
    {
     "data": {
      "text/html": [
       "<table>\n",
       "<thead>\n",
       "<tr><th style=\"text-align: right;\">   Arch1</th></tr>\n",
       "</thead>\n",
       "<tbody>\n",
       "<tr><td style=\"text-align: right;\">1.04703 </td></tr>\n",
       "<tr><td style=\"text-align: right;\">1.04703 </td></tr>\n",
       "<tr><td style=\"text-align: right;\">1.02877 </td></tr>\n",
       "<tr><td style=\"text-align: right;\">0.952985</td></tr>\n",
       "<tr><td style=\"text-align: right;\">0.985673</td></tr>\n",
       "<tr><td style=\"text-align: right;\">0.958397</td></tr>\n",
       "<tr><td style=\"text-align: right;\">0.952975</td></tr>\n",
       "<tr><td style=\"text-align: right;\">1.04703 </td></tr>\n",
       "<tr><td style=\"text-align: right;\">1.04703 </td></tr>\n",
       "<tr><td style=\"text-align: right;\">1.04703 </td></tr>\n",
       "</tbody>\n",
       "</table>"
      ]
     },
     "metadata": {
      "tags": []
     },
     "output_type": "display_data"
    },
    {
     "name": "stdout",
     "output_type": "stream",
     "text": [
      "\n",
      "\n",
      "Archetypes: \n"
     ]
    },
    {
     "data": {
      "text/html": [
       "<div>\n",
       "<style scoped>\n",
       "    .dataframe tbody tr th:only-of-type {\n",
       "        vertical-align: middle;\n",
       "    }\n",
       "\n",
       "    .dataframe tbody tr th {\n",
       "        vertical-align: top;\n",
       "    }\n",
       "\n",
       "    .dataframe thead th {\n",
       "        text-align: right;\n",
       "    }\n",
       "</style>\n",
       "<table border=\"1\" class=\"dataframe\">\n",
       "  <thead>\n",
       "    <tr style=\"text-align: right;\">\n",
       "      <th></th>\n",
       "      <th></th>\n",
       "      <th>bill_amt1</th>\n",
       "      <th>bill_amt2</th>\n",
       "      <th>bill_amt3</th>\n",
       "      <th>bill_amt4</th>\n",
       "      <th>bill_amt5</th>\n",
       "      <th>bill_amt6</th>\n",
       "    </tr>\n",
       "  </thead>\n",
       "  <tbody>\n",
       "    <tr>\n",
       "      <th>0</th>\n",
       "      <td>Arch1</td>\n",
       "      <td>-0.418339</td>\n",
       "      <td>-0.416531</td>\n",
       "      <td>-0.401725</td>\n",
       "      <td>-0.394765</td>\n",
       "      <td>-0.379768</td>\n",
       "      <td>-0.383853</td>\n",
       "    </tr>\n",
       "  </tbody>\n",
       "</table>\n",
       "</div>"
      ],
      "text/plain": [
       "          bill_amt1  bill_amt2  bill_amt3  bill_amt4  bill_amt5  bill_amt6\n",
       "0  Arch1  -0.418339  -0.416531  -0.401725  -0.394765  -0.379768  -0.383853"
      ]
     },
     "metadata": {
      "tags": []
     },
     "output_type": "display_data"
    },
    {
     "name": "stdout",
     "output_type": "stream",
     "text": [
      "\n"
     ]
    }
   ],
   "source": [
    "#X_matrix and Y_matrix for cluster1...\n",
    "X_matrix_c1 = h2o.get_frame(model_c1._model_json[\"output\"][\"representation_name\"])\n",
    "print(X_matrix_c1)\n",
    "Y_matrix_c1 = model_c1._model_json[\"output\"][\"archetypes\"]\n",
    "print(Y_matrix_c1)"
   ]
  },
  {
   "cell_type": "code",
   "execution_count": null,
   "metadata": {
    "colab": {
     "base_uri": "https://localhost:8080/",
     "height": 1000
    },
    "id": "ftUMTjerWEZ3",
    "outputId": "9a7fc3ed-d807-4b44-b3d0-78f8eef24d85"
   },
   "outputs": [
    {
     "name": "stdout",
     "output_type": "stream",
     "text": [
      "glrm Model Build progress: |██████████████████████████████████████████████| 100%\n",
      "Model Details\n",
      "=============\n",
      "H2OGeneralizedLowRankEstimator :  Generalized Low Rank Modeling\n",
      "Model Key:  GLRM_model_python_1592562208597_13\n",
      "\n",
      "\n",
      "Model Summary: \n"
     ]
    },
    {
     "data": {
      "text/html": [
       "<div>\n",
       "<style scoped>\n",
       "    .dataframe tbody tr th:only-of-type {\n",
       "        vertical-align: middle;\n",
       "    }\n",
       "\n",
       "    .dataframe tbody tr th {\n",
       "        vertical-align: top;\n",
       "    }\n",
       "\n",
       "    .dataframe thead th {\n",
       "        text-align: right;\n",
       "    }\n",
       "</style>\n",
       "<table border=\"1\" class=\"dataframe\">\n",
       "  <thead>\n",
       "    <tr style=\"text-align: right;\">\n",
       "      <th></th>\n",
       "      <th></th>\n",
       "      <th>number_of_iterations</th>\n",
       "      <th>final_step_size</th>\n",
       "      <th>final_objective_value</th>\n",
       "    </tr>\n",
       "  </thead>\n",
       "  <tbody>\n",
       "    <tr>\n",
       "      <th>0</th>\n",
       "      <td></td>\n",
       "      <td>23.0</td>\n",
       "      <td>7.319006e-07</td>\n",
       "      <td>47997.116795</td>\n",
       "    </tr>\n",
       "  </tbody>\n",
       "</table>\n",
       "</div>"
      ],
      "text/plain": [
       "     number_of_iterations  final_step_size  final_objective_value\n",
       "0                    23.0     7.319006e-07           47997.116795"
      ]
     },
     "metadata": {
      "tags": []
     },
     "output_type": "display_data"
    },
    {
     "name": "stdout",
     "output_type": "stream",
     "text": [
      "\n",
      "\n",
      "ModelMetricsGLRM: glrm\n",
      "** Reported on train data. **\n",
      "\n",
      "MSE: NaN\n",
      "RMSE: NaN\n",
      "Sum of Squared Error (Numeric): 61843.257122049166\n",
      "Misclassification Error (Categorical): 0.0\n",
      "\n",
      "Scoring History: \n"
     ]
    },
    {
     "data": {
      "text/html": [
       "<div>\n",
       "<style scoped>\n",
       "    .dataframe tbody tr th:only-of-type {\n",
       "        vertical-align: middle;\n",
       "    }\n",
       "\n",
       "    .dataframe tbody tr th {\n",
       "        vertical-align: top;\n",
       "    }\n",
       "\n",
       "    .dataframe thead th {\n",
       "        text-align: right;\n",
       "    }\n",
       "</style>\n",
       "<table border=\"1\" class=\"dataframe\">\n",
       "  <thead>\n",
       "    <tr style=\"text-align: right;\">\n",
       "      <th></th>\n",
       "      <th></th>\n",
       "      <th>timestamp</th>\n",
       "      <th>duration</th>\n",
       "      <th>iterations</th>\n",
       "      <th>step_size</th>\n",
       "      <th>objective</th>\n",
       "    </tr>\n",
       "  </thead>\n",
       "  <tbody>\n",
       "    <tr>\n",
       "      <th>0</th>\n",
       "      <td></td>\n",
       "      <td>2020-06-19 11:35:35</td>\n",
       "      <td>0.114 sec</td>\n",
       "      <td>0.0</td>\n",
       "      <td>0.666667</td>\n",
       "      <td>48827.064066</td>\n",
       "    </tr>\n",
       "    <tr>\n",
       "      <th>1</th>\n",
       "      <td></td>\n",
       "      <td>2020-06-19 11:35:35</td>\n",
       "      <td>0.124 sec</td>\n",
       "      <td>1.0</td>\n",
       "      <td>0.444444</td>\n",
       "      <td>48827.064066</td>\n",
       "    </tr>\n",
       "    <tr>\n",
       "      <th>2</th>\n",
       "      <td></td>\n",
       "      <td>2020-06-19 11:35:35</td>\n",
       "      <td>0.135 sec</td>\n",
       "      <td>2.0</td>\n",
       "      <td>0.222222</td>\n",
       "      <td>48827.064066</td>\n",
       "    </tr>\n",
       "    <tr>\n",
       "      <th>3</th>\n",
       "      <td></td>\n",
       "      <td>2020-06-19 11:35:35</td>\n",
       "      <td>0.143 sec</td>\n",
       "      <td>3.0</td>\n",
       "      <td>0.074074</td>\n",
       "      <td>48827.064066</td>\n",
       "    </tr>\n",
       "    <tr>\n",
       "      <th>4</th>\n",
       "      <td></td>\n",
       "      <td>2020-06-19 11:35:35</td>\n",
       "      <td>0.153 sec</td>\n",
       "      <td>4.0</td>\n",
       "      <td>0.018519</td>\n",
       "      <td>48827.064066</td>\n",
       "    </tr>\n",
       "    <tr>\n",
       "      <th>5</th>\n",
       "      <td></td>\n",
       "      <td>2020-06-19 11:35:35</td>\n",
       "      <td>0.164 sec</td>\n",
       "      <td>5.0</td>\n",
       "      <td>0.003704</td>\n",
       "      <td>48827.064066</td>\n",
       "    </tr>\n",
       "    <tr>\n",
       "      <th>6</th>\n",
       "      <td></td>\n",
       "      <td>2020-06-19 11:35:35</td>\n",
       "      <td>0.171 sec</td>\n",
       "      <td>6.0</td>\n",
       "      <td>0.000617</td>\n",
       "      <td>48827.064066</td>\n",
       "    </tr>\n",
       "    <tr>\n",
       "      <th>7</th>\n",
       "      <td></td>\n",
       "      <td>2020-06-19 11:35:35</td>\n",
       "      <td>0.182 sec</td>\n",
       "      <td>7.0</td>\n",
       "      <td>0.000088</td>\n",
       "      <td>48827.064066</td>\n",
       "    </tr>\n",
       "    <tr>\n",
       "      <th>8</th>\n",
       "      <td></td>\n",
       "      <td>2020-06-19 11:35:35</td>\n",
       "      <td>0.193 sec</td>\n",
       "      <td>8.0</td>\n",
       "      <td>0.000093</td>\n",
       "      <td>48001.440597</td>\n",
       "    </tr>\n",
       "    <tr>\n",
       "      <th>9</th>\n",
       "      <td></td>\n",
       "      <td>2020-06-19 11:35:35</td>\n",
       "      <td>0.205 sec</td>\n",
       "      <td>9.0</td>\n",
       "      <td>0.000062</td>\n",
       "      <td>48001.440597</td>\n",
       "    </tr>\n",
       "    <tr>\n",
       "      <th>10</th>\n",
       "      <td></td>\n",
       "      <td>2020-06-19 11:35:35</td>\n",
       "      <td>0.222 sec</td>\n",
       "      <td>10.0</td>\n",
       "      <td>0.000041</td>\n",
       "      <td>48001.440597</td>\n",
       "    </tr>\n",
       "    <tr>\n",
       "      <th>11</th>\n",
       "      <td></td>\n",
       "      <td>2020-06-19 11:35:35</td>\n",
       "      <td>0.240 sec</td>\n",
       "      <td>11.0</td>\n",
       "      <td>0.000027</td>\n",
       "      <td>48001.440597</td>\n",
       "    </tr>\n",
       "    <tr>\n",
       "      <th>12</th>\n",
       "      <td></td>\n",
       "      <td>2020-06-19 11:35:35</td>\n",
       "      <td>0.257 sec</td>\n",
       "      <td>12.0</td>\n",
       "      <td>0.000014</td>\n",
       "      <td>48001.440597</td>\n",
       "    </tr>\n",
       "    <tr>\n",
       "      <th>13</th>\n",
       "      <td></td>\n",
       "      <td>2020-06-19 11:35:35</td>\n",
       "      <td>0.274 sec</td>\n",
       "      <td>13.0</td>\n",
       "      <td>0.000005</td>\n",
       "      <td>48001.440597</td>\n",
       "    </tr>\n",
       "    <tr>\n",
       "      <th>14</th>\n",
       "      <td></td>\n",
       "      <td>2020-06-19 11:35:35</td>\n",
       "      <td>0.293 sec</td>\n",
       "      <td>14.0</td>\n",
       "      <td>0.000005</td>\n",
       "      <td>47999.845044</td>\n",
       "    </tr>\n",
       "    <tr>\n",
       "      <th>15</th>\n",
       "      <td></td>\n",
       "      <td>2020-06-19 11:35:35</td>\n",
       "      <td>0.304 sec</td>\n",
       "      <td>15.0</td>\n",
       "      <td>0.000005</td>\n",
       "      <td>47998.538838</td>\n",
       "    </tr>\n",
       "    <tr>\n",
       "      <th>16</th>\n",
       "      <td></td>\n",
       "      <td>2020-06-19 11:35:35</td>\n",
       "      <td>0.313 sec</td>\n",
       "      <td>16.0</td>\n",
       "      <td>0.000003</td>\n",
       "      <td>47998.538838</td>\n",
       "    </tr>\n",
       "    <tr>\n",
       "      <th>17</th>\n",
       "      <td></td>\n",
       "      <td>2020-06-19 11:35:35</td>\n",
       "      <td>0.322 sec</td>\n",
       "      <td>17.0</td>\n",
       "      <td>0.000002</td>\n",
       "      <td>47998.538838</td>\n",
       "    </tr>\n",
       "    <tr>\n",
       "      <th>18</th>\n",
       "      <td></td>\n",
       "      <td>2020-06-19 11:35:35</td>\n",
       "      <td>0.332 sec</td>\n",
       "      <td>18.0</td>\n",
       "      <td>0.000002</td>\n",
       "      <td>47998.021637</td>\n",
       "    </tr>\n",
       "    <tr>\n",
       "      <th>19</th>\n",
       "      <td></td>\n",
       "      <td>2020-06-19 11:35:35</td>\n",
       "      <td>0.343 sec</td>\n",
       "      <td>19.0</td>\n",
       "      <td>0.000002</td>\n",
       "      <td>47997.116795</td>\n",
       "    </tr>\n",
       "  </tbody>\n",
       "</table>\n",
       "</div>"
      ],
      "text/plain": [
       "                timestamp    duration  iterations  step_size     objective\n",
       "0     2020-06-19 11:35:35   0.114 sec         0.0   0.666667  48827.064066\n",
       "1     2020-06-19 11:35:35   0.124 sec         1.0   0.444444  48827.064066\n",
       "2     2020-06-19 11:35:35   0.135 sec         2.0   0.222222  48827.064066\n",
       "3     2020-06-19 11:35:35   0.143 sec         3.0   0.074074  48827.064066\n",
       "4     2020-06-19 11:35:35   0.153 sec         4.0   0.018519  48827.064066\n",
       "5     2020-06-19 11:35:35   0.164 sec         5.0   0.003704  48827.064066\n",
       "6     2020-06-19 11:35:35   0.171 sec         6.0   0.000617  48827.064066\n",
       "7     2020-06-19 11:35:35   0.182 sec         7.0   0.000088  48827.064066\n",
       "8     2020-06-19 11:35:35   0.193 sec         8.0   0.000093  48001.440597\n",
       "9     2020-06-19 11:35:35   0.205 sec         9.0   0.000062  48001.440597\n",
       "10    2020-06-19 11:35:35   0.222 sec        10.0   0.000041  48001.440597\n",
       "11    2020-06-19 11:35:35   0.240 sec        11.0   0.000027  48001.440597\n",
       "12    2020-06-19 11:35:35   0.257 sec        12.0   0.000014  48001.440597\n",
       "13    2020-06-19 11:35:35   0.274 sec        13.0   0.000005  48001.440597\n",
       "14    2020-06-19 11:35:35   0.293 sec        14.0   0.000005  47999.845044\n",
       "15    2020-06-19 11:35:35   0.304 sec        15.0   0.000005  47998.538838\n",
       "16    2020-06-19 11:35:35   0.313 sec        16.0   0.000003  47998.538838\n",
       "17    2020-06-19 11:35:35   0.322 sec        17.0   0.000002  47998.538838\n",
       "18    2020-06-19 11:35:35   0.332 sec        18.0   0.000002  47998.021637\n",
       "19    2020-06-19 11:35:35   0.343 sec        19.0   0.000002  47997.116795"
      ]
     },
     "metadata": {
      "tags": []
     },
     "output_type": "display_data"
    },
    {
     "name": "stdout",
     "output_type": "stream",
     "text": [
      "\n",
      "See the whole table with table.as_data_frame()\n"
     ]
    }
   ],
   "source": [
    "#model genearted for  cluster2 :age and limit balance\n",
    "model_c2 = H2OGeneralizedLowRankEstimator(k = 1,\n",
    "                                       loss = \"Absolute\", multi_loss = \"Categorical\",\n",
    "                                       transform = \"Standardize\",\n",
    "                                       regularization_x = \"None\",\n",
    "                                       regularization_y = \"None\",\n",
    "                                       max_iterations = 1000,\n",
    "                                       min_step_size = 1e-6)\n",
    "model_c2.train(training_frame=dfh2o_c2)\n",
    "model_c2.show()"
   ]
  },
  {
   "cell_type": "code",
   "execution_count": null,
   "metadata": {
    "colab": {
     "base_uri": "https://localhost:8080/",
     "height": 173
    },
    "id": "0NCOWuRWm8aC",
    "outputId": "9dba9261-188b-4cf4-efc3-7692234f093b"
   },
   "outputs": [
    {
     "name": "stdout",
     "output_type": "stream",
     "text": [
      "\n",
      "Importance of components: \n"
     ]
    },
    {
     "data": {
      "text/html": [
       "<div>\n",
       "<style scoped>\n",
       "    .dataframe tbody tr th:only-of-type {\n",
       "        vertical-align: middle;\n",
       "    }\n",
       "\n",
       "    .dataframe tbody tr th {\n",
       "        vertical-align: top;\n",
       "    }\n",
       "\n",
       "    .dataframe thead th {\n",
       "        text-align: right;\n",
       "    }\n",
       "</style>\n",
       "<table border=\"1\" class=\"dataframe\">\n",
       "  <thead>\n",
       "    <tr style=\"text-align: right;\">\n",
       "      <th></th>\n",
       "      <th></th>\n",
       "      <th>pc1</th>\n",
       "    </tr>\n",
       "  </thead>\n",
       "  <tbody>\n",
       "    <tr>\n",
       "      <th>0</th>\n",
       "      <td>Standard deviation</td>\n",
       "      <td>0.248015</td>\n",
       "    </tr>\n",
       "    <tr>\n",
       "      <th>1</th>\n",
       "      <td>Proportion of Variance</td>\n",
       "      <td>0.030756</td>\n",
       "    </tr>\n",
       "    <tr>\n",
       "      <th>2</th>\n",
       "      <td>Cumulative Proportion</td>\n",
       "      <td>0.030756</td>\n",
       "    </tr>\n",
       "  </tbody>\n",
       "</table>\n",
       "</div>"
      ],
      "text/plain": [
       "                                pc1\n",
       "0      Standard deviation  0.248015\n",
       "1  Proportion of Variance  0.030756\n",
       "2   Cumulative Proportion  0.030756"
      ]
     },
     "metadata": {
      "tags": []
     },
     "output_type": "display_data"
    },
    {
     "data": {
      "text/plain": []
     },
     "execution_count": 113,
     "metadata": {
      "tags": []
     },
     "output_type": "execute_result"
    }
   ],
   "source": [
    "# Print importance of each component of GLRM model\n",
    "model_c2._model_json[\"output\"][\"importance\"]"
   ]
  },
  {
   "cell_type": "code",
   "execution_count": null,
   "metadata": {
    "colab": {
     "base_uri": "https://localhost:8080/",
     "height": 374
    },
    "id": "hVlzN-eVnkKj",
    "outputId": "5f2b2c16-8c7b-4397-cffc-dea5d8ca3404"
   },
   "outputs": [
    {
     "data": {
      "text/html": [
       "<table>\n",
       "<thead>\n",
       "<tr><th style=\"text-align: right;\">  Arch1</th></tr>\n",
       "</thead>\n",
       "<tbody>\n",
       "<tr><td style=\"text-align: right;\">      1</td></tr>\n",
       "<tr><td style=\"text-align: right;\">      1</td></tr>\n",
       "<tr><td style=\"text-align: right;\">      1</td></tr>\n",
       "<tr><td style=\"text-align: right;\">      1</td></tr>\n",
       "<tr><td style=\"text-align: right;\">      1</td></tr>\n",
       "<tr><td style=\"text-align: right;\">      1</td></tr>\n",
       "<tr><td style=\"text-align: right;\">      1</td></tr>\n",
       "<tr><td style=\"text-align: right;\">      1</td></tr>\n",
       "<tr><td style=\"text-align: right;\">      1</td></tr>\n",
       "<tr><td style=\"text-align: right;\">      1</td></tr>\n",
       "</tbody>\n",
       "</table>"
      ]
     },
     "metadata": {
      "tags": []
     },
     "output_type": "display_data"
    },
    {
     "name": "stdout",
     "output_type": "stream",
     "text": [
      "\n",
      "\n",
      "Archetypes: \n"
     ]
    },
    {
     "data": {
      "text/html": [
       "<div>\n",
       "<style scoped>\n",
       "    .dataframe tbody tr th:only-of-type {\n",
       "        vertical-align: middle;\n",
       "    }\n",
       "\n",
       "    .dataframe tbody tr th {\n",
       "        vertical-align: top;\n",
       "    }\n",
       "\n",
       "    .dataframe thead th {\n",
       "        text-align: right;\n",
       "    }\n",
       "</style>\n",
       "<table border=\"1\" class=\"dataframe\">\n",
       "  <thead>\n",
       "    <tr style=\"text-align: right;\">\n",
       "      <th></th>\n",
       "      <th></th>\n",
       "      <th>age</th>\n",
       "      <th>limit_bal</th>\n",
       "    </tr>\n",
       "  </thead>\n",
       "  <tbody>\n",
       "    <tr>\n",
       "      <th>0</th>\n",
       "      <td>Arch1</td>\n",
       "      <td>-0.160932</td>\n",
       "      <td>-0.188707</td>\n",
       "    </tr>\n",
       "  </tbody>\n",
       "</table>\n",
       "</div>"
      ],
      "text/plain": [
       "               age  limit_bal\n",
       "0  Arch1 -0.160932  -0.188707"
      ]
     },
     "metadata": {
      "tags": []
     },
     "output_type": "display_data"
    },
    {
     "name": "stdout",
     "output_type": "stream",
     "text": [
      "\n"
     ]
    }
   ],
   "source": [
    "#X_matrix and Y_matrix for cluster2...\n",
    "X_matrix_c2 = h2o.get_frame(model_c2._model_json[\"output\"][\"representation_name\"])\n",
    "print(X_matrix_c2)\n",
    "Y_matrix_c2 = model_c2._model_json[\"output\"][\"archetypes\"]\n",
    "print(Y_matrix_c2)"
   ]
  },
  {
   "cell_type": "code",
   "execution_count": null,
   "metadata": {
    "colab": {
     "base_uri": "https://localhost:8080/",
     "height": 1000
    },
    "id": "C_fzm7PdmfM9",
    "outputId": "778b72a8-6c4d-4de5-a7eb-1535dc0670d2"
   },
   "outputs": [
    {
     "name": "stdout",
     "output_type": "stream",
     "text": [
      "glrm Model Build progress: |██████████████████████████████████████████████| 100%\n",
      "Model Details\n",
      "=============\n",
      "H2OGeneralizedLowRankEstimator :  Generalized Low Rank Modeling\n",
      "Model Key:  GLRM_model_python_1592562208597_15\n",
      "\n",
      "\n",
      "Model Summary: \n"
     ]
    },
    {
     "data": {
      "text/html": [
       "<div>\n",
       "<style scoped>\n",
       "    .dataframe tbody tr th:only-of-type {\n",
       "        vertical-align: middle;\n",
       "    }\n",
       "\n",
       "    .dataframe tbody tr th {\n",
       "        vertical-align: top;\n",
       "    }\n",
       "\n",
       "    .dataframe thead th {\n",
       "        text-align: right;\n",
       "    }\n",
       "</style>\n",
       "<table border=\"1\" class=\"dataframe\">\n",
       "  <thead>\n",
       "    <tr style=\"text-align: right;\">\n",
       "      <th></th>\n",
       "      <th></th>\n",
       "      <th>number_of_iterations</th>\n",
       "      <th>final_step_size</th>\n",
       "      <th>final_objective_value</th>\n",
       "    </tr>\n",
       "  </thead>\n",
       "  <tbody>\n",
       "    <tr>\n",
       "      <th>0</th>\n",
       "      <td></td>\n",
       "      <td>50.0</td>\n",
       "      <td>7.518464e-07</td>\n",
       "      <td>48317.681622</td>\n",
       "    </tr>\n",
       "  </tbody>\n",
       "</table>\n",
       "</div>"
      ],
      "text/plain": [
       "     number_of_iterations  final_step_size  final_objective_value\n",
       "0                    50.0     7.518464e-07           48317.681622"
      ]
     },
     "metadata": {
      "tags": []
     },
     "output_type": "display_data"
    },
    {
     "name": "stdout",
     "output_type": "stream",
     "text": [
      "\n",
      "\n",
      "ModelMetricsGLRM: glrm\n",
      "** Reported on train data. **\n",
      "\n",
      "MSE: NaN\n",
      "RMSE: NaN\n",
      "Sum of Squared Error (Numeric): 187443.27260047622\n",
      "Misclassification Error (Categorical): 0.0\n",
      "\n",
      "Scoring History: \n"
     ]
    },
    {
     "data": {
      "text/html": [
       "<div>\n",
       "<style scoped>\n",
       "    .dataframe tbody tr th:only-of-type {\n",
       "        vertical-align: middle;\n",
       "    }\n",
       "\n",
       "    .dataframe tbody tr th {\n",
       "        vertical-align: top;\n",
       "    }\n",
       "\n",
       "    .dataframe thead th {\n",
       "        text-align: right;\n",
       "    }\n",
       "</style>\n",
       "<table border=\"1\" class=\"dataframe\">\n",
       "  <thead>\n",
       "    <tr style=\"text-align: right;\">\n",
       "      <th></th>\n",
       "      <th></th>\n",
       "      <th>timestamp</th>\n",
       "      <th>duration</th>\n",
       "      <th>iterations</th>\n",
       "      <th>step_size</th>\n",
       "      <th>objective</th>\n",
       "    </tr>\n",
       "  </thead>\n",
       "  <tbody>\n",
       "    <tr>\n",
       "      <th>0</th>\n",
       "      <td></td>\n",
       "      <td>2020-06-19 11:35:41</td>\n",
       "      <td>0.182 sec</td>\n",
       "      <td>0.0</td>\n",
       "      <td>0.666667</td>\n",
       "      <td>60978.637895</td>\n",
       "    </tr>\n",
       "    <tr>\n",
       "      <th>1</th>\n",
       "      <td></td>\n",
       "      <td>2020-06-19 11:35:41</td>\n",
       "      <td>0.219 sec</td>\n",
       "      <td>1.0</td>\n",
       "      <td>0.444444</td>\n",
       "      <td>60978.637895</td>\n",
       "    </tr>\n",
       "    <tr>\n",
       "      <th>2</th>\n",
       "      <td></td>\n",
       "      <td>2020-06-19 11:35:41</td>\n",
       "      <td>0.245 sec</td>\n",
       "      <td>2.0</td>\n",
       "      <td>0.222222</td>\n",
       "      <td>60978.637895</td>\n",
       "    </tr>\n",
       "    <tr>\n",
       "      <th>3</th>\n",
       "      <td></td>\n",
       "      <td>2020-06-19 11:35:41</td>\n",
       "      <td>0.280 sec</td>\n",
       "      <td>3.0</td>\n",
       "      <td>0.074074</td>\n",
       "      <td>60978.637895</td>\n",
       "    </tr>\n",
       "    <tr>\n",
       "      <th>4</th>\n",
       "      <td></td>\n",
       "      <td>2020-06-19 11:35:41</td>\n",
       "      <td>0.304 sec</td>\n",
       "      <td>4.0</td>\n",
       "      <td>0.018519</td>\n",
       "      <td>60978.637895</td>\n",
       "    </tr>\n",
       "    <tr>\n",
       "      <th>5</th>\n",
       "      <td></td>\n",
       "      <td>2020-06-19 11:35:41</td>\n",
       "      <td>0.322 sec</td>\n",
       "      <td>5.0</td>\n",
       "      <td>0.003704</td>\n",
       "      <td>60978.637895</td>\n",
       "    </tr>\n",
       "    <tr>\n",
       "      <th>6</th>\n",
       "      <td></td>\n",
       "      <td>2020-06-19 11:35:41</td>\n",
       "      <td>0.339 sec</td>\n",
       "      <td>6.0</td>\n",
       "      <td>0.000617</td>\n",
       "      <td>60978.637895</td>\n",
       "    </tr>\n",
       "    <tr>\n",
       "      <th>7</th>\n",
       "      <td></td>\n",
       "      <td>2020-06-19 11:35:41</td>\n",
       "      <td>0.358 sec</td>\n",
       "      <td>7.0</td>\n",
       "      <td>0.000088</td>\n",
       "      <td>60978.637895</td>\n",
       "    </tr>\n",
       "    <tr>\n",
       "      <th>8</th>\n",
       "      <td></td>\n",
       "      <td>2020-06-19 11:35:41</td>\n",
       "      <td>0.378 sec</td>\n",
       "      <td>8.0</td>\n",
       "      <td>0.000093</td>\n",
       "      <td>50592.196458</td>\n",
       "    </tr>\n",
       "    <tr>\n",
       "      <th>9</th>\n",
       "      <td></td>\n",
       "      <td>2020-06-19 11:35:41</td>\n",
       "      <td>0.399 sec</td>\n",
       "      <td>9.0</td>\n",
       "      <td>0.000062</td>\n",
       "      <td>50592.196458</td>\n",
       "    </tr>\n",
       "    <tr>\n",
       "      <th>10</th>\n",
       "      <td></td>\n",
       "      <td>2020-06-19 11:35:41</td>\n",
       "      <td>0.423 sec</td>\n",
       "      <td>10.0</td>\n",
       "      <td>0.000065</td>\n",
       "      <td>50038.615729</td>\n",
       "    </tr>\n",
       "    <tr>\n",
       "      <th>11</th>\n",
       "      <td></td>\n",
       "      <td>2020-06-19 11:35:41</td>\n",
       "      <td>0.447 sec</td>\n",
       "      <td>11.0</td>\n",
       "      <td>0.000068</td>\n",
       "      <td>48695.284792</td>\n",
       "    </tr>\n",
       "    <tr>\n",
       "      <th>12</th>\n",
       "      <td></td>\n",
       "      <td>2020-06-19 11:35:41</td>\n",
       "      <td>0.465 sec</td>\n",
       "      <td>12.0</td>\n",
       "      <td>0.000045</td>\n",
       "      <td>48695.284792</td>\n",
       "    </tr>\n",
       "    <tr>\n",
       "      <th>13</th>\n",
       "      <td></td>\n",
       "      <td>2020-06-19 11:35:41</td>\n",
       "      <td>0.485 sec</td>\n",
       "      <td>13.0</td>\n",
       "      <td>0.000048</td>\n",
       "      <td>48531.034550</td>\n",
       "    </tr>\n",
       "    <tr>\n",
       "      <th>14</th>\n",
       "      <td></td>\n",
       "      <td>2020-06-19 11:35:41</td>\n",
       "      <td>0.504 sec</td>\n",
       "      <td>14.0</td>\n",
       "      <td>0.000050</td>\n",
       "      <td>48396.799779</td>\n",
       "    </tr>\n",
       "    <tr>\n",
       "      <th>15</th>\n",
       "      <td></td>\n",
       "      <td>2020-06-19 11:35:41</td>\n",
       "      <td>0.523 sec</td>\n",
       "      <td>15.0</td>\n",
       "      <td>0.000053</td>\n",
       "      <td>48390.428111</td>\n",
       "    </tr>\n",
       "    <tr>\n",
       "      <th>16</th>\n",
       "      <td></td>\n",
       "      <td>2020-06-19 11:35:41</td>\n",
       "      <td>0.542 sec</td>\n",
       "      <td>16.0</td>\n",
       "      <td>0.000055</td>\n",
       "      <td>48351.114832</td>\n",
       "    </tr>\n",
       "    <tr>\n",
       "      <th>17</th>\n",
       "      <td></td>\n",
       "      <td>2020-06-19 11:35:41</td>\n",
       "      <td>0.560 sec</td>\n",
       "      <td>17.0</td>\n",
       "      <td>0.000037</td>\n",
       "      <td>48351.114832</td>\n",
       "    </tr>\n",
       "    <tr>\n",
       "      <th>18</th>\n",
       "      <td></td>\n",
       "      <td>2020-06-19 11:35:41</td>\n",
       "      <td>0.579 sec</td>\n",
       "      <td>18.0</td>\n",
       "      <td>0.000039</td>\n",
       "      <td>48343.969340</td>\n",
       "    </tr>\n",
       "    <tr>\n",
       "      <th>19</th>\n",
       "      <td></td>\n",
       "      <td>2020-06-19 11:35:41</td>\n",
       "      <td>0.609 sec</td>\n",
       "      <td>19.0</td>\n",
       "      <td>0.000041</td>\n",
       "      <td>48321.020748</td>\n",
       "    </tr>\n",
       "  </tbody>\n",
       "</table>\n",
       "</div>"
      ],
      "text/plain": [
       "                timestamp    duration  iterations  step_size     objective\n",
       "0     2020-06-19 11:35:41   0.182 sec         0.0   0.666667  60978.637895\n",
       "1     2020-06-19 11:35:41   0.219 sec         1.0   0.444444  60978.637895\n",
       "2     2020-06-19 11:35:41   0.245 sec         2.0   0.222222  60978.637895\n",
       "3     2020-06-19 11:35:41   0.280 sec         3.0   0.074074  60978.637895\n",
       "4     2020-06-19 11:35:41   0.304 sec         4.0   0.018519  60978.637895\n",
       "5     2020-06-19 11:35:41   0.322 sec         5.0   0.003704  60978.637895\n",
       "6     2020-06-19 11:35:41   0.339 sec         6.0   0.000617  60978.637895\n",
       "7     2020-06-19 11:35:41   0.358 sec         7.0   0.000088  60978.637895\n",
       "8     2020-06-19 11:35:41   0.378 sec         8.0   0.000093  50592.196458\n",
       "9     2020-06-19 11:35:41   0.399 sec         9.0   0.000062  50592.196458\n",
       "10    2020-06-19 11:35:41   0.423 sec        10.0   0.000065  50038.615729\n",
       "11    2020-06-19 11:35:41   0.447 sec        11.0   0.000068  48695.284792\n",
       "12    2020-06-19 11:35:41   0.465 sec        12.0   0.000045  48695.284792\n",
       "13    2020-06-19 11:35:41   0.485 sec        13.0   0.000048  48531.034550\n",
       "14    2020-06-19 11:35:41   0.504 sec        14.0   0.000050  48396.799779\n",
       "15    2020-06-19 11:35:41   0.523 sec        15.0   0.000053  48390.428111\n",
       "16    2020-06-19 11:35:41   0.542 sec        16.0   0.000055  48351.114832\n",
       "17    2020-06-19 11:35:41   0.560 sec        17.0   0.000037  48351.114832\n",
       "18    2020-06-19 11:35:41   0.579 sec        18.0   0.000039  48343.969340\n",
       "19    2020-06-19 11:35:41   0.609 sec        19.0   0.000041  48321.020748"
      ]
     },
     "metadata": {
      "tags": []
     },
     "output_type": "display_data"
    },
    {
     "name": "stdout",
     "output_type": "stream",
     "text": [
      "\n",
      "See the whole table with table.as_data_frame()\n"
     ]
    }
   ],
   "source": [
    "#model genearted for  cluster3 :pay_amt1 to pay_amt6\n",
    "model_c3 = H2OGeneralizedLowRankEstimator(k = 1,\n",
    "                                       loss = \"Absolute\", multi_loss = \"Categorical\",\n",
    "                                       transform = \"Standardize\",\n",
    "                                       regularization_x = \"None\",\n",
    "                                       regularization_y = \"None\",\n",
    "                                       max_iterations = 1000,\n",
    "                                       min_step_size = 1e-6)\n",
    "model_c3.train(training_frame=dfh2o_c3)\n",
    "model_c3.show()"
   ]
  },
  {
   "cell_type": "code",
   "execution_count": null,
   "metadata": {
    "colab": {
     "base_uri": "https://localhost:8080/",
     "height": 173
    },
    "id": "lAkJsMM_n1ZN",
    "outputId": "a55fa4ef-216b-4954-c216-27d14736d4d8"
   },
   "outputs": [
    {
     "name": "stdout",
     "output_type": "stream",
     "text": [
      "\n",
      "Importance of components: \n"
     ]
    },
    {
     "data": {
      "text/html": [
       "<div>\n",
       "<style scoped>\n",
       "    .dataframe tbody tr th:only-of-type {\n",
       "        vertical-align: middle;\n",
       "    }\n",
       "\n",
       "    .dataframe tbody tr th {\n",
       "        vertical-align: top;\n",
       "    }\n",
       "\n",
       "    .dataframe thead th {\n",
       "        text-align: right;\n",
       "    }\n",
       "</style>\n",
       "<table border=\"1\" class=\"dataframe\">\n",
       "  <thead>\n",
       "    <tr style=\"text-align: right;\">\n",
       "      <th></th>\n",
       "      <th></th>\n",
       "      <th>pc1</th>\n",
       "    </tr>\n",
       "  </thead>\n",
       "  <tbody>\n",
       "    <tr>\n",
       "      <th>0</th>\n",
       "      <td>Standard deviation</td>\n",
       "      <td>0.498360</td>\n",
       "    </tr>\n",
       "    <tr>\n",
       "      <th>1</th>\n",
       "      <td>Proportion of Variance</td>\n",
       "      <td>0.041394</td>\n",
       "    </tr>\n",
       "    <tr>\n",
       "      <th>2</th>\n",
       "      <td>Cumulative Proportion</td>\n",
       "      <td>0.041394</td>\n",
       "    </tr>\n",
       "  </tbody>\n",
       "</table>\n",
       "</div>"
      ],
      "text/plain": [
       "                                pc1\n",
       "0      Standard deviation  0.498360\n",
       "1  Proportion of Variance  0.041394\n",
       "2   Cumulative Proportion  0.041394"
      ]
     },
     "metadata": {
      "tags": []
     },
     "output_type": "display_data"
    },
    {
     "data": {
      "text/plain": []
     },
     "execution_count": 116,
     "metadata": {
      "tags": []
     },
     "output_type": "execute_result"
    }
   ],
   "source": [
    "# Print importance of each component of GLRM model\n",
    "model_c3._model_json[\"output\"][\"importance\"]"
   ]
  },
  {
   "cell_type": "code",
   "execution_count": null,
   "metadata": {
    "colab": {
     "base_uri": "https://localhost:8080/",
     "height": 374
    },
    "id": "hYu4N8Rsn2Bo",
    "outputId": "f72e7096-1ce6-41ea-9baa-45dad7bbad08"
   },
   "outputs": [
    {
     "data": {
      "text/html": [
       "<table>\n",
       "<thead>\n",
       "<tr><th style=\"text-align: right;\">   Arch1</th></tr>\n",
       "</thead>\n",
       "<tbody>\n",
       "<tr><td style=\"text-align: right;\">1.00011 </td></tr>\n",
       "<tr><td style=\"text-align: right;\">1.00007 </td></tr>\n",
       "<tr><td style=\"text-align: right;\">1.00006 </td></tr>\n",
       "<tr><td style=\"text-align: right;\">1.00007 </td></tr>\n",
       "<tr><td style=\"text-align: right;\">0.999996</td></tr>\n",
       "<tr><td style=\"text-align: right;\">1.00005 </td></tr>\n",
       "<tr><td style=\"text-align: right;\">0.999883</td></tr>\n",
       "<tr><td style=\"text-align: right;\">1.00003 </td></tr>\n",
       "<tr><td style=\"text-align: right;\">1.00007 </td></tr>\n",
       "<tr><td style=\"text-align: right;\">1.00007 </td></tr>\n",
       "</tbody>\n",
       "</table>"
      ]
     },
     "metadata": {
      "tags": []
     },
     "output_type": "display_data"
    },
    {
     "name": "stdout",
     "output_type": "stream",
     "text": [
      "\n",
      "\n",
      "Archetypes: \n"
     ]
    },
    {
     "data": {
      "text/html": [
       "<div>\n",
       "<style scoped>\n",
       "    .dataframe tbody tr th:only-of-type {\n",
       "        vertical-align: middle;\n",
       "    }\n",
       "\n",
       "    .dataframe tbody tr th {\n",
       "        vertical-align: top;\n",
       "    }\n",
       "\n",
       "    .dataframe thead th {\n",
       "        text-align: right;\n",
       "    }\n",
       "</style>\n",
       "<table border=\"1\" class=\"dataframe\">\n",
       "  <thead>\n",
       "    <tr style=\"text-align: right;\">\n",
       "      <th></th>\n",
       "      <th></th>\n",
       "      <th>pay_amt1</th>\n",
       "      <th>pay_amt2</th>\n",
       "      <th>pay_amt3</th>\n",
       "      <th>pay_amt4</th>\n",
       "      <th>pay_amt5</th>\n",
       "      <th>pay_amt6</th>\n",
       "    </tr>\n",
       "  </thead>\n",
       "  <tbody>\n",
       "    <tr>\n",
       "      <th>0</th>\n",
       "      <td>Arch1</td>\n",
       "      <td>-0.215132</td>\n",
       "      <td>-0.169802</td>\n",
       "      <td>-0.19455</td>\n",
       "      <td>-0.212346</td>\n",
       "      <td>-0.215913</td>\n",
       "      <td>-0.209005</td>\n",
       "    </tr>\n",
       "  </tbody>\n",
       "</table>\n",
       "</div>"
      ],
      "text/plain": [
       "          pay_amt1  pay_amt2  pay_amt3  pay_amt4  pay_amt5  pay_amt6\n",
       "0  Arch1 -0.215132 -0.169802  -0.19455 -0.212346 -0.215913 -0.209005"
      ]
     },
     "metadata": {
      "tags": []
     },
     "output_type": "display_data"
    },
    {
     "name": "stdout",
     "output_type": "stream",
     "text": [
      "\n"
     ]
    }
   ],
   "source": [
    "#X_matrix and Y_matrix for cluster3...\n",
    "X_matrix_c3 = h2o.get_frame(model_c3._model_json[\"output\"][\"representation_name\"])\n",
    "print(X_matrix_c3)\n",
    "Y_matrix_c3 = model_c3._model_json[\"output\"][\"archetypes\"]\n",
    "print(Y_matrix_c3)"
   ]
  },
  {
   "cell_type": "code",
   "execution_count": null,
   "metadata": {
    "colab": {
     "base_uri": "https://localhost:8080/",
     "height": 1000
    },
    "id": "5V9xO1s9mflx",
    "outputId": "4ebc67b0-f5c2-40a5-f50b-0f2e3830b492"
   },
   "outputs": [
    {
     "name": "stdout",
     "output_type": "stream",
     "text": [
      "glrm Model Build progress: |██████████████████████████████████████████████| 100%\n",
      "Model Details\n",
      "=============\n",
      "H2OGeneralizedLowRankEstimator :  Generalized Low Rank Modeling\n",
      "Model Key:  GLRM_model_python_1592562208597_17\n",
      "\n",
      "\n",
      "Model Summary: \n"
     ]
    },
    {
     "data": {
      "text/html": [
       "<div>\n",
       "<style scoped>\n",
       "    .dataframe tbody tr th:only-of-type {\n",
       "        vertical-align: middle;\n",
       "    }\n",
       "\n",
       "    .dataframe tbody tr th {\n",
       "        vertical-align: top;\n",
       "    }\n",
       "\n",
       "    .dataframe thead th {\n",
       "        text-align: right;\n",
       "    }\n",
       "</style>\n",
       "<table border=\"1\" class=\"dataframe\">\n",
       "  <thead>\n",
       "    <tr style=\"text-align: right;\">\n",
       "      <th></th>\n",
       "      <th></th>\n",
       "      <th>number_of_iterations</th>\n",
       "      <th>final_step_size</th>\n",
       "      <th>final_objective_value</th>\n",
       "    </tr>\n",
       "  </thead>\n",
       "  <tbody>\n",
       "    <tr>\n",
       "      <th>0</th>\n",
       "      <td></td>\n",
       "      <td>692.0</td>\n",
       "      <td>9.009155e-07</td>\n",
       "      <td>276551.109134</td>\n",
       "    </tr>\n",
       "  </tbody>\n",
       "</table>\n",
       "</div>"
      ],
      "text/plain": [
       "     number_of_iterations  final_step_size  final_objective_value\n",
       "0                   692.0     9.009155e-07          276551.109134"
      ]
     },
     "metadata": {
      "tags": []
     },
     "output_type": "display_data"
    },
    {
     "name": "stdout",
     "output_type": "stream",
     "text": [
      "\n",
      "\n",
      "ModelMetricsGLRM: glrm\n",
      "** Reported on train data. **\n",
      "\n",
      "MSE: NaN\n",
      "RMSE: NaN\n",
      "Sum of Squared Error (Numeric): 0.0\n",
      "Misclassification Error (Categorical): 59666.0\n",
      "\n",
      "Scoring History: \n"
     ]
    },
    {
     "data": {
      "text/html": [
       "<div>\n",
       "<style scoped>\n",
       "    .dataframe tbody tr th:only-of-type {\n",
       "        vertical-align: middle;\n",
       "    }\n",
       "\n",
       "    .dataframe tbody tr th {\n",
       "        vertical-align: top;\n",
       "    }\n",
       "\n",
       "    .dataframe thead th {\n",
       "        text-align: right;\n",
       "    }\n",
       "</style>\n",
       "<table border=\"1\" class=\"dataframe\">\n",
       "  <thead>\n",
       "    <tr style=\"text-align: right;\">\n",
       "      <th></th>\n",
       "      <th></th>\n",
       "      <th>timestamp</th>\n",
       "      <th>duration</th>\n",
       "      <th>iterations</th>\n",
       "      <th>step_size</th>\n",
       "      <th>objective</th>\n",
       "    </tr>\n",
       "  </thead>\n",
       "  <tbody>\n",
       "    <tr>\n",
       "      <th>0</th>\n",
       "      <td></td>\n",
       "      <td>2020-06-19 11:35:49</td>\n",
       "      <td>0.345 sec</td>\n",
       "      <td>0.0</td>\n",
       "      <td>0.666667</td>\n",
       "      <td>1.679332e+06</td>\n",
       "    </tr>\n",
       "    <tr>\n",
       "      <th>1</th>\n",
       "      <td></td>\n",
       "      <td>2020-06-19 11:35:49</td>\n",
       "      <td>0.481 sec</td>\n",
       "      <td>1.0</td>\n",
       "      <td>0.444444</td>\n",
       "      <td>1.679332e+06</td>\n",
       "    </tr>\n",
       "    <tr>\n",
       "      <th>2</th>\n",
       "      <td></td>\n",
       "      <td>2020-06-19 11:35:50</td>\n",
       "      <td>0.613 sec</td>\n",
       "      <td>2.0</td>\n",
       "      <td>0.222222</td>\n",
       "      <td>1.679332e+06</td>\n",
       "    </tr>\n",
       "    <tr>\n",
       "      <th>3</th>\n",
       "      <td></td>\n",
       "      <td>2020-06-19 11:35:50</td>\n",
       "      <td>0.810 sec</td>\n",
       "      <td>3.0</td>\n",
       "      <td>0.074074</td>\n",
       "      <td>1.679332e+06</td>\n",
       "    </tr>\n",
       "    <tr>\n",
       "      <th>4</th>\n",
       "      <td></td>\n",
       "      <td>2020-06-19 11:35:50</td>\n",
       "      <td>1.012 sec</td>\n",
       "      <td>4.0</td>\n",
       "      <td>0.018519</td>\n",
       "      <td>1.679332e+06</td>\n",
       "    </tr>\n",
       "    <tr>\n",
       "      <th>5</th>\n",
       "      <td></td>\n",
       "      <td>2020-06-19 11:35:50</td>\n",
       "      <td>1.225 sec</td>\n",
       "      <td>5.0</td>\n",
       "      <td>0.003704</td>\n",
       "      <td>1.679332e+06</td>\n",
       "    </tr>\n",
       "    <tr>\n",
       "      <th>6</th>\n",
       "      <td></td>\n",
       "      <td>2020-06-19 11:35:50</td>\n",
       "      <td>1.370 sec</td>\n",
       "      <td>6.0</td>\n",
       "      <td>0.003889</td>\n",
       "      <td>1.048013e+06</td>\n",
       "    </tr>\n",
       "    <tr>\n",
       "      <th>7</th>\n",
       "      <td></td>\n",
       "      <td>2020-06-19 11:35:50</td>\n",
       "      <td>1.499 sec</td>\n",
       "      <td>7.0</td>\n",
       "      <td>0.002593</td>\n",
       "      <td>1.048013e+06</td>\n",
       "    </tr>\n",
       "    <tr>\n",
       "      <th>8</th>\n",
       "      <td></td>\n",
       "      <td>2020-06-19 11:35:51</td>\n",
       "      <td>1.632 sec</td>\n",
       "      <td>8.0</td>\n",
       "      <td>0.001728</td>\n",
       "      <td>1.048013e+06</td>\n",
       "    </tr>\n",
       "    <tr>\n",
       "      <th>9</th>\n",
       "      <td></td>\n",
       "      <td>2020-06-19 11:35:51</td>\n",
       "      <td>1.769 sec</td>\n",
       "      <td>9.0</td>\n",
       "      <td>0.001815</td>\n",
       "      <td>9.836746e+05</td>\n",
       "    </tr>\n",
       "    <tr>\n",
       "      <th>10</th>\n",
       "      <td></td>\n",
       "      <td>2020-06-19 11:35:51</td>\n",
       "      <td>1.924 sec</td>\n",
       "      <td>10.0</td>\n",
       "      <td>0.001906</td>\n",
       "      <td>8.574004e+05</td>\n",
       "    </tr>\n",
       "    <tr>\n",
       "      <th>11</th>\n",
       "      <td></td>\n",
       "      <td>2020-06-19 11:35:51</td>\n",
       "      <td>2.055 sec</td>\n",
       "      <td>11.0</td>\n",
       "      <td>0.002001</td>\n",
       "      <td>8.142750e+05</td>\n",
       "    </tr>\n",
       "    <tr>\n",
       "      <th>12</th>\n",
       "      <td></td>\n",
       "      <td>2020-06-19 11:35:51</td>\n",
       "      <td>2.183 sec</td>\n",
       "      <td>12.0</td>\n",
       "      <td>0.002101</td>\n",
       "      <td>7.106573e+05</td>\n",
       "    </tr>\n",
       "    <tr>\n",
       "      <th>13</th>\n",
       "      <td></td>\n",
       "      <td>2020-06-19 11:35:51</td>\n",
       "      <td>2.325 sec</td>\n",
       "      <td>13.0</td>\n",
       "      <td>0.002206</td>\n",
       "      <td>5.558015e+05</td>\n",
       "    </tr>\n",
       "    <tr>\n",
       "      <th>14</th>\n",
       "      <td></td>\n",
       "      <td>2020-06-19 11:35:51</td>\n",
       "      <td>2.454 sec</td>\n",
       "      <td>14.0</td>\n",
       "      <td>0.001471</td>\n",
       "      <td>5.558015e+05</td>\n",
       "    </tr>\n",
       "    <tr>\n",
       "      <th>15</th>\n",
       "      <td></td>\n",
       "      <td>2020-06-19 11:35:52</td>\n",
       "      <td>2.579 sec</td>\n",
       "      <td>15.0</td>\n",
       "      <td>0.001544</td>\n",
       "      <td>5.361952e+05</td>\n",
       "    </tr>\n",
       "    <tr>\n",
       "      <th>16</th>\n",
       "      <td></td>\n",
       "      <td>2020-06-19 11:35:52</td>\n",
       "      <td>2.707 sec</td>\n",
       "      <td>16.0</td>\n",
       "      <td>0.001029</td>\n",
       "      <td>5.361952e+05</td>\n",
       "    </tr>\n",
       "    <tr>\n",
       "      <th>17</th>\n",
       "      <td></td>\n",
       "      <td>2020-06-19 11:35:52</td>\n",
       "      <td>2.842 sec</td>\n",
       "      <td>17.0</td>\n",
       "      <td>0.001081</td>\n",
       "      <td>4.991546e+05</td>\n",
       "    </tr>\n",
       "    <tr>\n",
       "      <th>18</th>\n",
       "      <td></td>\n",
       "      <td>2020-06-19 11:35:52</td>\n",
       "      <td>2.970 sec</td>\n",
       "      <td>18.0</td>\n",
       "      <td>0.000721</td>\n",
       "      <td>4.991546e+05</td>\n",
       "    </tr>\n",
       "    <tr>\n",
       "      <th>19</th>\n",
       "      <td></td>\n",
       "      <td>2020-06-19 11:35:52</td>\n",
       "      <td>3.100 sec</td>\n",
       "      <td>19.0</td>\n",
       "      <td>0.000757</td>\n",
       "      <td>4.816123e+05</td>\n",
       "    </tr>\n",
       "  </tbody>\n",
       "</table>\n",
       "</div>"
      ],
      "text/plain": [
       "                timestamp    duration  iterations  step_size     objective\n",
       "0     2020-06-19 11:35:49   0.345 sec         0.0   0.666667  1.679332e+06\n",
       "1     2020-06-19 11:35:49   0.481 sec         1.0   0.444444  1.679332e+06\n",
       "2     2020-06-19 11:35:50   0.613 sec         2.0   0.222222  1.679332e+06\n",
       "3     2020-06-19 11:35:50   0.810 sec         3.0   0.074074  1.679332e+06\n",
       "4     2020-06-19 11:35:50   1.012 sec         4.0   0.018519  1.679332e+06\n",
       "5     2020-06-19 11:35:50   1.225 sec         5.0   0.003704  1.679332e+06\n",
       "6     2020-06-19 11:35:50   1.370 sec         6.0   0.003889  1.048013e+06\n",
       "7     2020-06-19 11:35:50   1.499 sec         7.0   0.002593  1.048013e+06\n",
       "8     2020-06-19 11:35:51   1.632 sec         8.0   0.001728  1.048013e+06\n",
       "9     2020-06-19 11:35:51   1.769 sec         9.0   0.001815  9.836746e+05\n",
       "10    2020-06-19 11:35:51   1.924 sec        10.0   0.001906  8.574004e+05\n",
       "11    2020-06-19 11:35:51   2.055 sec        11.0   0.002001  8.142750e+05\n",
       "12    2020-06-19 11:35:51   2.183 sec        12.0   0.002101  7.106573e+05\n",
       "13    2020-06-19 11:35:51   2.325 sec        13.0   0.002206  5.558015e+05\n",
       "14    2020-06-19 11:35:51   2.454 sec        14.0   0.001471  5.558015e+05\n",
       "15    2020-06-19 11:35:52   2.579 sec        15.0   0.001544  5.361952e+05\n",
       "16    2020-06-19 11:35:52   2.707 sec        16.0   0.001029  5.361952e+05\n",
       "17    2020-06-19 11:35:52   2.842 sec        17.0   0.001081  4.991546e+05\n",
       "18    2020-06-19 11:35:52   2.970 sec        18.0   0.000721  4.991546e+05\n",
       "19    2020-06-19 11:35:52   3.100 sec        19.0   0.000757  4.816123e+05"
      ]
     },
     "metadata": {
      "tags": []
     },
     "output_type": "display_data"
    },
    {
     "name": "stdout",
     "output_type": "stream",
     "text": [
      "\n",
      "See the whole table with table.as_data_frame()\n"
     ]
    }
   ],
   "source": [
    "#Model generated for cluster4: pay1 to pay6\n",
    "model_c4 = H2OGeneralizedLowRankEstimator(k = 1,\n",
    "                                       loss = \"Absolute\", multi_loss = \"Categorical\",\n",
    "                                       transform = \"Standardize\",\n",
    "                                       regularization_x = \"None\",\n",
    "                                       regularization_y = \"None\",\n",
    "                                       max_iterations = 1000,\n",
    "                                       min_step_size = 1e-6)\n",
    "model_c4.train(training_frame=dfh2o_c4)\n",
    "model_c4.show()"
   ]
  },
  {
   "cell_type": "code",
   "execution_count": null,
   "metadata": {
    "colab": {
     "base_uri": "https://localhost:8080/",
     "height": 173
    },
    "id": "Z4IO0HaQoRFl",
    "outputId": "2d5ab18e-2ba3-4e51-b39d-eef137a5bc02"
   },
   "outputs": [
    {
     "name": "stdout",
     "output_type": "stream",
     "text": [
      "\n",
      "Importance of components: \n"
     ]
    },
    {
     "data": {
      "text/html": [
       "<div>\n",
       "<style scoped>\n",
       "    .dataframe tbody tr th:only-of-type {\n",
       "        vertical-align: middle;\n",
       "    }\n",
       "\n",
       "    .dataframe tbody tr th {\n",
       "        vertical-align: top;\n",
       "    }\n",
       "\n",
       "    .dataframe thead th {\n",
       "        text-align: right;\n",
       "    }\n",
       "</style>\n",
       "<table border=\"1\" class=\"dataframe\">\n",
       "  <thead>\n",
       "    <tr style=\"text-align: right;\">\n",
       "      <th></th>\n",
       "      <th></th>\n",
       "      <th>pc1</th>\n",
       "    </tr>\n",
       "  </thead>\n",
       "  <tbody>\n",
       "    <tr>\n",
       "      <th>0</th>\n",
       "      <td>Standard deviation</td>\n",
       "      <td>2.449531</td>\n",
       "    </tr>\n",
       "    <tr>\n",
       "      <th>1</th>\n",
       "      <td>Proportion of Variance</td>\n",
       "      <td>1.000000</td>\n",
       "    </tr>\n",
       "    <tr>\n",
       "      <th>2</th>\n",
       "      <td>Cumulative Proportion</td>\n",
       "      <td>1.000000</td>\n",
       "    </tr>\n",
       "  </tbody>\n",
       "</table>\n",
       "</div>"
      ],
      "text/plain": [
       "                                pc1\n",
       "0      Standard deviation  2.449531\n",
       "1  Proportion of Variance  1.000000\n",
       "2   Cumulative Proportion  1.000000"
      ]
     },
     "metadata": {
      "tags": []
     },
     "output_type": "display_data"
    },
    {
     "data": {
      "text/plain": []
     },
     "execution_count": 119,
     "metadata": {
      "tags": []
     },
     "output_type": "execute_result"
    }
   ],
   "source": [
    "# Print importance of each component of GLRM model\n",
    "model_c4._model_json[\"output\"][\"importance\"]"
   ]
  },
  {
   "cell_type": "code",
   "execution_count": null,
   "metadata": {
    "colab": {
     "base_uri": "https://localhost:8080/",
     "height": 394
    },
    "id": "SKbk72MvoVor",
    "outputId": "84ffb727-9067-4039-c362-f7717f840290"
   },
   "outputs": [
    {
     "data": {
      "text/html": [
       "<table>\n",
       "<thead>\n",
       "<tr><th style=\"text-align: right;\">   Arch1</th></tr>\n",
       "</thead>\n",
       "<tbody>\n",
       "<tr><td style=\"text-align: right;\">0.88025 </td></tr>\n",
       "<tr><td style=\"text-align: right;\">0.904262</td></tr>\n",
       "<tr><td style=\"text-align: right;\">0.999731</td></tr>\n",
       "<tr><td style=\"text-align: right;\">0.999731</td></tr>\n",
       "<tr><td style=\"text-align: right;\">0.962453</td></tr>\n",
       "<tr><td style=\"text-align: right;\">0.999731</td></tr>\n",
       "<tr><td style=\"text-align: right;\">0.999731</td></tr>\n",
       "<tr><td style=\"text-align: right;\">0.934779</td></tr>\n",
       "<tr><td style=\"text-align: right;\">0.972236</td></tr>\n",
       "<tr><td style=\"text-align: right;\">0.952284</td></tr>\n",
       "</tbody>\n",
       "</table>"
      ]
     },
     "metadata": {
      "tags": []
     },
     "output_type": "display_data"
    },
    {
     "name": "stdout",
     "output_type": "stream",
     "text": [
      "\n",
      "\n",
      "Archetypes: \n"
     ]
    },
    {
     "data": {
      "text/html": [
       "<div>\n",
       "<style scoped>\n",
       "    .dataframe tbody tr th:only-of-type {\n",
       "        vertical-align: middle;\n",
       "    }\n",
       "\n",
       "    .dataframe tbody tr th {\n",
       "        vertical-align: top;\n",
       "    }\n",
       "\n",
       "    .dataframe thead th {\n",
       "        text-align: right;\n",
       "    }\n",
       "</style>\n",
       "<table border=\"1\" class=\"dataframe\">\n",
       "  <thead>\n",
       "    <tr style=\"text-align: right;\">\n",
       "      <th></th>\n",
       "      <th></th>\n",
       "      <th>pay_11</th>\n",
       "      <th>pay_10</th>\n",
       "      <th>pay_11</th>\n",
       "      <th>pay_12</th>\n",
       "      <th>pay_13</th>\n",
       "      <th>pay_14</th>\n",
       "      <th>pay_15</th>\n",
       "      <th>pay_16</th>\n",
       "      <th>pay_17</th>\n",
       "      <th>pay_18</th>\n",
       "      <th>pay_21</th>\n",
       "      <th>pay_20</th>\n",
       "      <th>pay_21</th>\n",
       "      <th>pay_22</th>\n",
       "      <th>pay_23</th>\n",
       "      <th>pay_24</th>\n",
       "      <th>pay_25</th>\n",
       "      <th>pay_26</th>\n",
       "      <th>pay_27</th>\n",
       "      <th>pay_28</th>\n",
       "      <th>pay_31</th>\n",
       "      <th>pay_30</th>\n",
       "      <th>pay_31</th>\n",
       "      <th>pay_32</th>\n",
       "      <th>pay_33</th>\n",
       "      <th>pay_34</th>\n",
       "      <th>pay_35</th>\n",
       "      <th>pay_36</th>\n",
       "      <th>pay_37</th>\n",
       "      <th>pay_38</th>\n",
       "      <th>pay_41</th>\n",
       "      <th>pay_40</th>\n",
       "      <th>pay_41</th>\n",
       "      <th>pay_42</th>\n",
       "      <th>pay_43</th>\n",
       "      <th>pay_44</th>\n",
       "      <th>pay_45</th>\n",
       "      <th>pay_46</th>\n",
       "      <th>pay_47</th>\n",
       "      <th>pay_48</th>\n",
       "      <th>pay_51</th>\n",
       "      <th>pay_50</th>\n",
       "      <th>pay_52</th>\n",
       "      <th>pay_53</th>\n",
       "      <th>pay_54</th>\n",
       "      <th>pay_55</th>\n",
       "      <th>pay_56</th>\n",
       "      <th>pay_57</th>\n",
       "      <th>pay_58</th>\n",
       "      <th>pay_61</th>\n",
       "      <th>pay_60</th>\n",
       "      <th>pay_62</th>\n",
       "      <th>pay_63</th>\n",
       "      <th>pay_64</th>\n",
       "      <th>pay_65</th>\n",
       "      <th>pay_66</th>\n",
       "      <th>pay_67</th>\n",
       "      <th>pay_68</th>\n",
       "    </tr>\n",
       "  </thead>\n",
       "  <tbody>\n",
       "    <tr>\n",
       "      <th>0</th>\n",
       "      <td>Arch1</td>\n",
       "      <td>-1.073775</td>\n",
       "      <td>1.000609</td>\n",
       "      <td>-1.1631</td>\n",
       "      <td>-3.588407</td>\n",
       "      <td>-16.789994</td>\n",
       "      <td>-18.10178</td>\n",
       "      <td>-18.363926</td>\n",
       "      <td>-18.441484</td>\n",
       "      <td>-18.453115</td>\n",
       "      <td>-18.407333</td>\n",
       "      <td>-1.065127</td>\n",
       "      <td>1.000171</td>\n",
       "      <td>-18.339983</td>\n",
       "      <td>-1.136037</td>\n",
       "      <td>-16.765258</td>\n",
       "      <td>-17.99582</td>\n",
       "      <td>-18.372084</td>\n",
       "      <td>-18.438743</td>\n",
       "      <td>-18.402561</td>\n",
       "      <td>-18.491019</td>\n",
       "      <td>-1.065081</td>\n",
       "      <td>1.000393</td>\n",
       "      <td>-18.474699</td>\n",
       "      <td>-1.135916</td>\n",
       "      <td>-17.247569</td>\n",
       "      <td>-18.121065</td>\n",
       "      <td>-18.394795</td>\n",
       "      <td>-18.388072</td>\n",
       "      <td>-18.364818</td>\n",
       "      <td>-18.481265</td>\n",
       "      <td>-1.068144</td>\n",
       "      <td>1.004836</td>\n",
       "      <td>-18.485583</td>\n",
       "      <td>-1.210573</td>\n",
       "      <td>-17.573829</td>\n",
       "      <td>-18.157611</td>\n",
       "      <td>-18.32913</td>\n",
       "      <td>-18.471296</td>\n",
       "      <td>-18.21277</td>\n",
       "      <td>-18.486165</td>\n",
       "      <td>-1.073763</td>\n",
       "      <td>1.021674</td>\n",
       "      <td>-4.202018</td>\n",
       "      <td>-17.58588</td>\n",
       "      <td>-18.084344</td>\n",
       "      <td>-18.411875</td>\n",
       "      <td>-18.476291</td>\n",
       "      <td>-18.212504</td>\n",
       "      <td>-18.490931</td>\n",
       "      <td>-1.073534</td>\n",
       "      <td>1.018668</td>\n",
       "      <td>-3.320534</td>\n",
       "      <td>-17.548244</td>\n",
       "      <td>-18.251907</td>\n",
       "      <td>-18.430924</td>\n",
       "      <td>-18.400272</td>\n",
       "      <td>-18.271281</td>\n",
       "      <td>-18.486157</td>\n",
       "    </tr>\n",
       "  </tbody>\n",
       "</table>\n",
       "</div>"
      ],
      "text/plain": [
       "            pay_11    pay_10  pay_11    pay_12     pay_13    pay_14  \\\n",
       "0  Arch1 -1.073775  1.000609 -1.1631 -3.588407 -16.789994 -18.10178   \n",
       "\n",
       "      pay_15     pay_16     pay_17     pay_18    pay_21    pay_20     pay_21  \\\n",
       "0 -18.363926 -18.441484 -18.453115 -18.407333 -1.065127  1.000171 -18.339983   \n",
       "\n",
       "     pay_22     pay_23    pay_24     pay_25     pay_26     pay_27     pay_28  \\\n",
       "0 -1.136037 -16.765258 -17.99582 -18.372084 -18.438743 -18.402561 -18.491019   \n",
       "\n",
       "     pay_31    pay_30     pay_31    pay_32     pay_33     pay_34     pay_35  \\\n",
       "0 -1.065081  1.000393 -18.474699 -1.135916 -17.247569 -18.121065 -18.394795   \n",
       "\n",
       "      pay_36     pay_37     pay_38    pay_41    pay_40     pay_41    pay_42  \\\n",
       "0 -18.388072 -18.364818 -18.481265 -1.068144  1.004836 -18.485583 -1.210573   \n",
       "\n",
       "      pay_43     pay_44    pay_45     pay_46    pay_47     pay_48    pay_51  \\\n",
       "0 -17.573829 -18.157611 -18.32913 -18.471296 -18.21277 -18.486165 -1.073763   \n",
       "\n",
       "     pay_50    pay_52    pay_53     pay_54     pay_55     pay_56     pay_57  \\\n",
       "0  1.021674 -4.202018 -17.58588 -18.084344 -18.411875 -18.476291 -18.212504   \n",
       "\n",
       "      pay_58    pay_61    pay_60    pay_62     pay_63     pay_64     pay_65  \\\n",
       "0 -18.490931 -1.073534  1.018668 -3.320534 -17.548244 -18.251907 -18.430924   \n",
       "\n",
       "      pay_66     pay_67     pay_68  \n",
       "0 -18.400272 -18.271281 -18.486157  "
      ]
     },
     "metadata": {
      "tags": []
     },
     "output_type": "display_data"
    },
    {
     "name": "stdout",
     "output_type": "stream",
     "text": [
      "\n"
     ]
    }
   ],
   "source": [
    "#X_matrix and Y_matrix for cluster4...\n",
    "X_matrix_c4 = h2o.get_frame(model_c4._model_json[\"output\"][\"representation_name\"])\n",
    "print(X_matrix_c4)\n",
    "Y_matrix_c4 = model_c4._model_json[\"output\"][\"archetypes\"]\n",
    "print(Y_matrix_c4)"
   ]
  },
  {
   "cell_type": "code",
   "execution_count": null,
   "metadata": {
    "colab": {
     "base_uri": "https://localhost:8080/",
     "height": 1000
    },
    "id": "NZxoI7sWmf8f",
    "outputId": "0bbf517a-fea3-4fa9-fd2d-76bba7d39572"
   },
   "outputs": [
    {
     "name": "stdout",
     "output_type": "stream",
     "text": [
      "glrm Model Build progress: |██████████████████████████████████████████████| 100%\n",
      "Model Details\n",
      "=============\n",
      "H2OGeneralizedLowRankEstimator :  Generalized Low Rank Modeling\n",
      "Model Key:  GLRM_model_python_1592562208597_19\n",
      "\n",
      "\n",
      "Model Summary: \n"
     ]
    },
    {
     "data": {
      "text/html": [
       "<div>\n",
       "<style scoped>\n",
       "    .dataframe tbody tr th:only-of-type {\n",
       "        vertical-align: middle;\n",
       "    }\n",
       "\n",
       "    .dataframe tbody tr th {\n",
       "        vertical-align: top;\n",
       "    }\n",
       "\n",
       "    .dataframe thead th {\n",
       "        text-align: right;\n",
       "    }\n",
       "</style>\n",
       "<table border=\"1\" class=\"dataframe\">\n",
       "  <thead>\n",
       "    <tr style=\"text-align: right;\">\n",
       "      <th></th>\n",
       "      <th></th>\n",
       "      <th>number_of_iterations</th>\n",
       "      <th>final_step_size</th>\n",
       "      <th>final_objective_value</th>\n",
       "    </tr>\n",
       "  </thead>\n",
       "  <tbody>\n",
       "    <tr>\n",
       "      <th>0</th>\n",
       "      <td></td>\n",
       "      <td>68.0</td>\n",
       "      <td>8.712454e-07</td>\n",
       "      <td>173814.104374</td>\n",
       "    </tr>\n",
       "  </tbody>\n",
       "</table>\n",
       "</div>"
      ],
      "text/plain": [
       "     number_of_iterations  final_step_size  final_objective_value\n",
       "0                    68.0     8.712454e-07          173814.104374"
      ]
     },
     "metadata": {
      "tags": []
     },
     "output_type": "display_data"
    },
    {
     "name": "stdout",
     "output_type": "stream",
     "text": [
      "\n",
      "\n",
      "ModelMetricsGLRM: glrm\n",
      "** Reported on train data. **\n",
      "\n",
      "MSE: NaN\n",
      "RMSE: NaN\n",
      "Sum of Squared Error (Numeric): 0.0\n",
      "Misclassification Error (Categorical): 41894.0\n",
      "\n",
      "Scoring History: \n"
     ]
    },
    {
     "data": {
      "text/html": [
       "<div>\n",
       "<style scoped>\n",
       "    .dataframe tbody tr th:only-of-type {\n",
       "        vertical-align: middle;\n",
       "    }\n",
       "\n",
       "    .dataframe tbody tr th {\n",
       "        vertical-align: top;\n",
       "    }\n",
       "\n",
       "    .dataframe thead th {\n",
       "        text-align: right;\n",
       "    }\n",
       "</style>\n",
       "<table border=\"1\" class=\"dataframe\">\n",
       "  <thead>\n",
       "    <tr style=\"text-align: right;\">\n",
       "      <th></th>\n",
       "      <th></th>\n",
       "      <th>timestamp</th>\n",
       "      <th>duration</th>\n",
       "      <th>iterations</th>\n",
       "      <th>step_size</th>\n",
       "      <th>objective</th>\n",
       "    </tr>\n",
       "  </thead>\n",
       "  <tbody>\n",
       "    <tr>\n",
       "      <th>0</th>\n",
       "      <td></td>\n",
       "      <td>2020-06-19 11:40:42</td>\n",
       "      <td>0.183 sec</td>\n",
       "      <td>0.0</td>\n",
       "      <td>0.666667</td>\n",
       "      <td>293788.000000</td>\n",
       "    </tr>\n",
       "    <tr>\n",
       "      <th>1</th>\n",
       "      <td></td>\n",
       "      <td>2020-06-19 11:40:43</td>\n",
       "      <td>0.249 sec</td>\n",
       "      <td>1.0</td>\n",
       "      <td>0.444444</td>\n",
       "      <td>293788.000000</td>\n",
       "    </tr>\n",
       "    <tr>\n",
       "      <th>2</th>\n",
       "      <td></td>\n",
       "      <td>2020-06-19 11:40:43</td>\n",
       "      <td>0.283 sec</td>\n",
       "      <td>2.0</td>\n",
       "      <td>0.222222</td>\n",
       "      <td>293788.000000</td>\n",
       "    </tr>\n",
       "    <tr>\n",
       "      <th>3</th>\n",
       "      <td></td>\n",
       "      <td>2020-06-19 11:40:43</td>\n",
       "      <td>0.317 sec</td>\n",
       "      <td>3.0</td>\n",
       "      <td>0.074074</td>\n",
       "      <td>293788.000000</td>\n",
       "    </tr>\n",
       "    <tr>\n",
       "      <th>4</th>\n",
       "      <td></td>\n",
       "      <td>2020-06-19 11:40:43</td>\n",
       "      <td>0.346 sec</td>\n",
       "      <td>4.0</td>\n",
       "      <td>0.018519</td>\n",
       "      <td>293788.000000</td>\n",
       "    </tr>\n",
       "    <tr>\n",
       "      <th>5</th>\n",
       "      <td></td>\n",
       "      <td>2020-06-19 11:40:43</td>\n",
       "      <td>0.377 sec</td>\n",
       "      <td>5.0</td>\n",
       "      <td>0.003704</td>\n",
       "      <td>293788.000000</td>\n",
       "    </tr>\n",
       "    <tr>\n",
       "      <th>6</th>\n",
       "      <td></td>\n",
       "      <td>2020-06-19 11:40:43</td>\n",
       "      <td>0.406 sec</td>\n",
       "      <td>6.0</td>\n",
       "      <td>0.000617</td>\n",
       "      <td>293788.000000</td>\n",
       "    </tr>\n",
       "    <tr>\n",
       "      <th>7</th>\n",
       "      <td></td>\n",
       "      <td>2020-06-19 11:40:43</td>\n",
       "      <td>0.438 sec</td>\n",
       "      <td>7.0</td>\n",
       "      <td>0.000648</td>\n",
       "      <td>204163.725172</td>\n",
       "    </tr>\n",
       "    <tr>\n",
       "      <th>8</th>\n",
       "      <td></td>\n",
       "      <td>2020-06-19 11:40:43</td>\n",
       "      <td>0.470 sec</td>\n",
       "      <td>8.0</td>\n",
       "      <td>0.000432</td>\n",
       "      <td>204163.725172</td>\n",
       "    </tr>\n",
       "    <tr>\n",
       "      <th>9</th>\n",
       "      <td></td>\n",
       "      <td>2020-06-19 11:40:43</td>\n",
       "      <td>0.499 sec</td>\n",
       "      <td>9.0</td>\n",
       "      <td>0.000288</td>\n",
       "      <td>204163.725172</td>\n",
       "    </tr>\n",
       "    <tr>\n",
       "      <th>10</th>\n",
       "      <td></td>\n",
       "      <td>2020-06-19 11:40:43</td>\n",
       "      <td>0.531 sec</td>\n",
       "      <td>10.0</td>\n",
       "      <td>0.000302</td>\n",
       "      <td>194643.812799</td>\n",
       "    </tr>\n",
       "    <tr>\n",
       "      <th>11</th>\n",
       "      <td></td>\n",
       "      <td>2020-06-19 11:40:43</td>\n",
       "      <td>0.563 sec</td>\n",
       "      <td>11.0</td>\n",
       "      <td>0.000318</td>\n",
       "      <td>189730.162569</td>\n",
       "    </tr>\n",
       "    <tr>\n",
       "      <th>12</th>\n",
       "      <td></td>\n",
       "      <td>2020-06-19 11:40:43</td>\n",
       "      <td>0.592 sec</td>\n",
       "      <td>12.0</td>\n",
       "      <td>0.000212</td>\n",
       "      <td>189730.162569</td>\n",
       "    </tr>\n",
       "    <tr>\n",
       "      <th>13</th>\n",
       "      <td></td>\n",
       "      <td>2020-06-19 11:40:43</td>\n",
       "      <td>0.624 sec</td>\n",
       "      <td>13.0</td>\n",
       "      <td>0.000222</td>\n",
       "      <td>188080.597107</td>\n",
       "    </tr>\n",
       "    <tr>\n",
       "      <th>14</th>\n",
       "      <td></td>\n",
       "      <td>2020-06-19 11:40:43</td>\n",
       "      <td>0.656 sec</td>\n",
       "      <td>14.0</td>\n",
       "      <td>0.000148</td>\n",
       "      <td>188080.597107</td>\n",
       "    </tr>\n",
       "    <tr>\n",
       "      <th>15</th>\n",
       "      <td></td>\n",
       "      <td>2020-06-19 11:40:43</td>\n",
       "      <td>0.693 sec</td>\n",
       "      <td>15.0</td>\n",
       "      <td>0.000156</td>\n",
       "      <td>186864.145646</td>\n",
       "    </tr>\n",
       "    <tr>\n",
       "      <th>16</th>\n",
       "      <td></td>\n",
       "      <td>2020-06-19 11:40:43</td>\n",
       "      <td>0.726 sec</td>\n",
       "      <td>16.0</td>\n",
       "      <td>0.000163</td>\n",
       "      <td>180180.657845</td>\n",
       "    </tr>\n",
       "    <tr>\n",
       "      <th>17</th>\n",
       "      <td></td>\n",
       "      <td>2020-06-19 11:40:43</td>\n",
       "      <td>0.757 sec</td>\n",
       "      <td>17.0</td>\n",
       "      <td>0.000109</td>\n",
       "      <td>180180.657845</td>\n",
       "    </tr>\n",
       "    <tr>\n",
       "      <th>18</th>\n",
       "      <td></td>\n",
       "      <td>2020-06-19 11:40:43</td>\n",
       "      <td>0.787 sec</td>\n",
       "      <td>18.0</td>\n",
       "      <td>0.000073</td>\n",
       "      <td>180180.657845</td>\n",
       "    </tr>\n",
       "    <tr>\n",
       "      <th>19</th>\n",
       "      <td></td>\n",
       "      <td>2020-06-19 11:40:43</td>\n",
       "      <td>0.820 sec</td>\n",
       "      <td>19.0</td>\n",
       "      <td>0.000076</td>\n",
       "      <td>178880.271253</td>\n",
       "    </tr>\n",
       "  </tbody>\n",
       "</table>\n",
       "</div>"
      ],
      "text/plain": [
       "                timestamp    duration  iterations  step_size      objective\n",
       "0     2020-06-19 11:40:42   0.183 sec         0.0   0.666667  293788.000000\n",
       "1     2020-06-19 11:40:43   0.249 sec         1.0   0.444444  293788.000000\n",
       "2     2020-06-19 11:40:43   0.283 sec         2.0   0.222222  293788.000000\n",
       "3     2020-06-19 11:40:43   0.317 sec         3.0   0.074074  293788.000000\n",
       "4     2020-06-19 11:40:43   0.346 sec         4.0   0.018519  293788.000000\n",
       "5     2020-06-19 11:40:43   0.377 sec         5.0   0.003704  293788.000000\n",
       "6     2020-06-19 11:40:43   0.406 sec         6.0   0.000617  293788.000000\n",
       "7     2020-06-19 11:40:43   0.438 sec         7.0   0.000648  204163.725172\n",
       "8     2020-06-19 11:40:43   0.470 sec         8.0   0.000432  204163.725172\n",
       "9     2020-06-19 11:40:43   0.499 sec         9.0   0.000288  204163.725172\n",
       "10    2020-06-19 11:40:43   0.531 sec        10.0   0.000302  194643.812799\n",
       "11    2020-06-19 11:40:43   0.563 sec        11.0   0.000318  189730.162569\n",
       "12    2020-06-19 11:40:43   0.592 sec        12.0   0.000212  189730.162569\n",
       "13    2020-06-19 11:40:43   0.624 sec        13.0   0.000222  188080.597107\n",
       "14    2020-06-19 11:40:43   0.656 sec        14.0   0.000148  188080.597107\n",
       "15    2020-06-19 11:40:43   0.693 sec        15.0   0.000156  186864.145646\n",
       "16    2020-06-19 11:40:43   0.726 sec        16.0   0.000163  180180.657845\n",
       "17    2020-06-19 11:40:43   0.757 sec        17.0   0.000109  180180.657845\n",
       "18    2020-06-19 11:40:43   0.787 sec        18.0   0.000073  180180.657845\n",
       "19    2020-06-19 11:40:43   0.820 sec        19.0   0.000076  178880.271253"
      ]
     },
     "metadata": {
      "tags": []
     },
     "output_type": "display_data"
    },
    {
     "name": "stdout",
     "output_type": "stream",
     "text": [
      "\n",
      "See the whole table with table.as_data_frame()\n"
     ]
    }
   ],
   "source": [
    "#Model generated for cluster5: Gender,Education and marriage\n",
    "model_c5 = H2OGeneralizedLowRankEstimator(k = 1,\n",
    "                                       loss = \"Absolute\", multi_loss = \"Categorical\",\n",
    "                                       transform = \"Standardize\",\n",
    "                                       regularization_x = \"None\",\n",
    "                                       regularization_y = \"None\",\n",
    "                                       max_iterations = 1000,\n",
    "                                       min_step_size = 1e-6)\n",
    "model_c5.train(training_frame=dfh2o_c5)\n",
    "model_c5.show()"
   ]
  },
  {
   "cell_type": "code",
   "execution_count": null,
   "metadata": {
    "colab": {
     "base_uri": "https://localhost:8080/",
     "height": 173
    },
    "id": "XjyxgJsemgRb",
    "outputId": "59f8edd6-3f89-4e75-a4a2-78e440a5f3f7"
   },
   "outputs": [
    {
     "name": "stdout",
     "output_type": "stream",
     "text": [
      "\n",
      "Importance of components: \n"
     ]
    },
    {
     "data": {
      "text/html": [
       "<div>\n",
       "<style scoped>\n",
       "    .dataframe tbody tr th:only-of-type {\n",
       "        vertical-align: middle;\n",
       "    }\n",
       "\n",
       "    .dataframe tbody tr th {\n",
       "        vertical-align: top;\n",
       "    }\n",
       "\n",
       "    .dataframe thead th {\n",
       "        text-align: right;\n",
       "    }\n",
       "</style>\n",
       "<table border=\"1\" class=\"dataframe\">\n",
       "  <thead>\n",
       "    <tr style=\"text-align: right;\">\n",
       "      <th></th>\n",
       "      <th></th>\n",
       "      <th>pc1</th>\n",
       "    </tr>\n",
       "  </thead>\n",
       "  <tbody>\n",
       "    <tr>\n",
       "      <th>0</th>\n",
       "      <td>Standard deviation</td>\n",
       "      <td>1.73208</td>\n",
       "    </tr>\n",
       "    <tr>\n",
       "      <th>1</th>\n",
       "      <td>Proportion of Variance</td>\n",
       "      <td>1.00000</td>\n",
       "    </tr>\n",
       "    <tr>\n",
       "      <th>2</th>\n",
       "      <td>Cumulative Proportion</td>\n",
       "      <td>1.00000</td>\n",
       "    </tr>\n",
       "  </tbody>\n",
       "</table>\n",
       "</div>"
      ],
      "text/plain": [
       "                               pc1\n",
       "0      Standard deviation  1.73208\n",
       "1  Proportion of Variance  1.00000\n",
       "2   Cumulative Proportion  1.00000"
      ]
     },
     "metadata": {
      "tags": []
     },
     "output_type": "display_data"
    },
    {
     "data": {
      "text/plain": []
     },
     "execution_count": 122,
     "metadata": {
      "tags": []
     },
     "output_type": "execute_result"
    }
   ],
   "source": [
    "# Print importance of each component of GLRM model\n",
    "model_c5._model_json[\"output\"][\"importance\"]"
   ]
  },
  {
   "cell_type": "code",
   "execution_count": null,
   "metadata": {
    "colab": {
     "base_uri": "https://localhost:8080/",
     "height": 374
    },
    "id": "xnMnTfFrmgk5",
    "outputId": "5a299722-e1b9-4258-e802-40d23871de4c"
   },
   "outputs": [
    {
     "data": {
      "text/html": [
       "<table>\n",
       "<thead>\n",
       "<tr><th style=\"text-align: right;\">   Arch1</th></tr>\n",
       "</thead>\n",
       "<tbody>\n",
       "<tr><td style=\"text-align: right;\">0.999451</td></tr>\n",
       "<tr><td style=\"text-align: right;\">1.00072 </td></tr>\n",
       "<tr><td style=\"text-align: right;\">1.00072 </td></tr>\n",
       "<tr><td style=\"text-align: right;\">0.999451</td></tr>\n",
       "<tr><td style=\"text-align: right;\">0.998069</td></tr>\n",
       "<tr><td style=\"text-align: right;\">0.998921</td></tr>\n",
       "<tr><td style=\"text-align: right;\">0.998921</td></tr>\n",
       "<tr><td style=\"text-align: right;\">1.00072 </td></tr>\n",
       "<tr><td style=\"text-align: right;\">0.998314</td></tr>\n",
       "<tr><td style=\"text-align: right;\">0.998212</td></tr>\n",
       "</tbody>\n",
       "</table>"
      ]
     },
     "metadata": {
      "tags": []
     },
     "output_type": "display_data"
    },
    {
     "name": "stdout",
     "output_type": "stream",
     "text": [
      "\n",
      "\n",
      "Archetypes: \n"
     ]
    },
    {
     "data": {
      "text/html": [
       "<div>\n",
       "<style scoped>\n",
       "    .dataframe tbody tr th:only-of-type {\n",
       "        vertical-align: middle;\n",
       "    }\n",
       "\n",
       "    .dataframe tbody tr th {\n",
       "        vertical-align: top;\n",
       "    }\n",
       "\n",
       "    .dataframe thead th {\n",
       "        text-align: right;\n",
       "    }\n",
       "</style>\n",
       "<table border=\"1\" class=\"dataframe\">\n",
       "  <thead>\n",
       "    <tr style=\"text-align: right;\">\n",
       "      <th></th>\n",
       "      <th></th>\n",
       "      <th>education1</th>\n",
       "      <th>education2</th>\n",
       "      <th>education3</th>\n",
       "      <th>education4</th>\n",
       "      <th>education5</th>\n",
       "      <th>marriage1</th>\n",
       "      <th>marriage2</th>\n",
       "      <th>marriage3</th>\n",
       "      <th>sex1</th>\n",
       "      <th>sex2</th>\n",
       "    </tr>\n",
       "  </thead>\n",
       "  <tbody>\n",
       "    <tr>\n",
       "      <th>0</th>\n",
       "      <td>Arch1</td>\n",
       "      <td>-0.999067</td>\n",
       "      <td>-0.855265</td>\n",
       "      <td>-1.856096</td>\n",
       "      <td>-6.063151</td>\n",
       "      <td>-5.86839</td>\n",
       "      <td>-0.656157</td>\n",
       "      <td>0.674958</td>\n",
       "      <td>-5.840417</td>\n",
       "      <td>-0.999224</td>\n",
       "      <td>0.999394</td>\n",
       "    </tr>\n",
       "  </tbody>\n",
       "</table>\n",
       "</div>"
      ],
      "text/plain": [
       "          education1  education2  education3  education4  education5  \\\n",
       "0  Arch1   -0.999067   -0.855265   -1.856096   -6.063151    -5.86839   \n",
       "\n",
       "   marriage1  marriage2  marriage3      sex1      sex2  \n",
       "0  -0.656157   0.674958  -5.840417 -0.999224  0.999394  "
      ]
     },
     "metadata": {
      "tags": []
     },
     "output_type": "display_data"
    },
    {
     "name": "stdout",
     "output_type": "stream",
     "text": [
      "\n"
     ]
    }
   ],
   "source": [
    "#X_matrix and Y_matrix for cluster5...\n",
    "X_matrix_c5 = h2o.get_frame(model_c5._model_json[\"output\"][\"representation_name\"])\n",
    "print(X_matrix_c5)\n",
    "Y_matrix_c5 = model_c5._model_json[\"output\"][\"archetypes\"]\n",
    "print(Y_matrix_c5)"
   ]
  },
  {
   "cell_type": "code",
   "execution_count": null,
   "metadata": {
    "colab": {
     "base_uri": "https://localhost:8080/",
     "height": 52
    },
    "id": "VepP7NkPmg56",
    "outputId": "83465029-4cf6-4fd9-91b5-70b1f5cfd435"
   },
   "outputs": [
    {
     "name": "stdout",
     "output_type": "stream",
     "text": [
      "(30000, 5)\n",
      "(30000,)\n"
     ]
    }
   ],
   "source": [
    "# Data for training and testing\n",
    "#first converted the  X_matrix from each cluster to array\n",
    "#Then concatenated all the 5 arrays in columnwise\n",
    "\n",
    "a1 = np.array(h2o.as_list(X_matrix_c1))\n",
    "a2 = np.array(h2o.as_list(X_matrix_c2))\n",
    "a3 = np.array(h2o.as_list(X_matrix_c3))\n",
    "a4 = np.array(h2o.as_list(X_matrix_c4))\n",
    "a5 = np.array(h2o.as_list(X_matrix_c5))\n",
    "\n",
    "X=np.concatenate((a1,a2,a3,a4,a5),axis=1)\n",
    "print(X.shape)\n",
    "\n",
    "y = df['default.payment.next.month'].to_numpy()\n",
    "print(y.shape)"
   ]
  },
  {
   "cell_type": "code",
   "execution_count": null,
   "metadata": {
    "id": "zzW_-ZaEgvil"
   },
   "outputs": [],
   "source": [
    "# Stratified train & test split\n",
    "X_train, X_test, y_train, y_test = train_test_split(X, y, stratify = y, test_size = 0.25)"
   ]
  },
  {
   "cell_type": "code",
   "execution_count": null,
   "metadata": {
    "colab": {
     "base_uri": "https://localhost:8080/",
     "height": 34
    },
    "id": "y-xvnmhl9kBU",
    "outputId": "738ef387-2899-4249-fd92-2da3466f51d1"
   },
   "outputs": [
    {
     "name": "stdout",
     "output_type": "stream",
     "text": [
      "(22500, 5)\n"
     ]
    }
   ],
   "source": [
    "print(X_train.shape)"
   ]
  },
  {
   "cell_type": "code",
   "execution_count": null,
   "metadata": {
    "id": "UdnM8DC5HsrZ"
   },
   "outputs": [],
   "source": [
    "\n",
    "# import model and matrics\n",
    "from sklearn.linear_model import LogisticRegression\n",
    "from sklearn.model_selection import train_test_split, GridSearchCV, cross_val_score, RepeatedStratifiedKFold, StratifiedKFold\n",
    "from sklearn.metrics import accuracy_score, confusion_matrix,roc_curve, roc_auc_score, precision_score, recall_score, precision_recall_curve\n",
    "from sklearn.metrics import f1_score"
   ]
  },
  {
   "cell_type": "code",
   "execution_count": null,
   "metadata": {
    "colab": {
     "base_uri": "https://localhost:8080/",
     "height": 104
    },
    "id": "xD9GO-vwJgac",
    "outputId": "90a1bc88-2f94-4c7f-aefb-65eb379349f6"
   },
   "outputs": [
    {
     "data": {
      "text/plain": [
       "LogisticRegression(C=1.0, class_weight=None, dual=False, fit_intercept=True,\n",
       "                   intercept_scaling=1, l1_ratio=None, max_iter=100,\n",
       "                   multi_class='auto', n_jobs=None, penalty='l2',\n",
       "                   random_state=0, solver='lbfgs', tol=0.0001, verbose=0,\n",
       "                   warm_start=False)"
      ]
     },
     "execution_count": 128,
     "metadata": {
      "tags": []
     },
     "output_type": "execute_result"
    }
   ],
   "source": [
    "from sklearn.linear_model import LogisticRegression\n",
    "classifier_LR = LogisticRegression(random_state = 0)\n",
    "classifier_LR.fit(X_train,y_train)"
   ]
  },
  {
   "cell_type": "code",
   "execution_count": null,
   "metadata": {
    "id": "05z_c49NJa-x"
   },
   "outputs": [],
   "source": [
    "y_pred_LR= classifier_LR.predict(X_test)"
   ]
  },
  {
   "cell_type": "code",
   "execution_count": null,
   "metadata": {
    "colab": {
     "base_uri": "https://localhost:8080/",
     "height": 69
    },
    "id": "QesnP1cGjWul",
    "outputId": "a0a41443-d93d-4e6e-aef3-3e7a5d32d9ac"
   },
   "outputs": [
    {
     "name": "stdout",
     "output_type": "stream",
     "text": [
      "Confusion Matrix : \n",
      " [[5724  117]\n",
      " [1412  247]]\n"
     ]
    }
   ],
   "source": [
    "from sklearn.metrics import confusion_matrix\n",
    "cm_LR= confusion_matrix(y_test, y_pred_LR)\n",
    "print (\"Confusion Matrix : \\n\", cm_LR)"
   ]
  },
  {
   "cell_type": "code",
   "execution_count": null,
   "metadata": {
    "colab": {
     "base_uri": "https://localhost:8080/",
     "height": 34
    },
    "id": "4p0jCR37jZf8",
    "outputId": "7174ccff-72cc-4719-e3bb-d4ea60c59cae"
   },
   "outputs": [
    {
     "name": "stdout",
     "output_type": "stream",
     "text": [
      "Accuracy :  0.7961333333333334\n"
     ]
    }
   ],
   "source": [
    "from sklearn.metrics import accuracy_score\n",
    "print (\"Accuracy : \", accuracy_score(y_test, y_pred_LR))"
   ]
  },
  {
   "cell_type": "code",
   "execution_count": null,
   "metadata": {
    "colab": {
     "base_uri": "https://localhost:8080/",
     "height": 298
    },
    "id": "K4GITHXrOs5c",
    "outputId": "8d063bde-16cb-49d7-ef2b-b0ad23e2ea0d"
   },
   "outputs": [
    {
     "data": {
      "text/plain": [
       "Text(0.5, 1.0, 'COnfusion matrix for Logestic Regression')"
      ]
     },
     "execution_count": 158,
     "metadata": {
      "tags": []
     },
     "output_type": "execute_result"
    },
    {
     "data": {
      "image/png": "[encoded data removed]",
      "text/plain": [
       "<Figure size 432x288 with 2 Axes>"
      ]
     },
     "metadata": {
      "needs_background": "light",
      "tags": []
     },
     "output_type": "display_data"
    }
   ],
   "source": [
    "group_names = ['True Neg','False Pos','False Neg','True Pos']\n",
    "group_counts = [\"{0:0.0f}\".format(value) for value in\n",
    "                cm_LR.flatten()]\n",
    "group_percentages = [\"{0:.2%}\".format(value) for value in\n",
    "                     cm_LR.flatten()/np.sum(cm_LR)]\n",
    "labels = [f\"{v1}\\n{v2}\\n{v3}\" for v1, v2, v3 in\n",
    "          zip(group_names,group_counts,group_percentages)]\n",
    "labels = np.asarray(labels).reshape(2,2)\n",
    "sns.heatmap(cm_LR, annot=labels, fmt='', cmap='Blues')\n",
    "plt.title(\"COnfusion matrix for Logestic Regression\")"
   ]
  },
  {
   "cell_type": "code",
   "execution_count": null,
   "metadata": {
    "colab": {
     "base_uri": "https://localhost:8080/",
     "height": 69
    },
    "id": "TUZZFZnHjdNf",
    "outputId": "23377355-eeba-4a6f-d2a8-c4e48e7e3855"
   },
   "outputs": [
    {
     "name": "stdout",
     "output_type": "stream",
     "text": [
      "Precision: 0.679\n",
      "Recall: 0.149\n",
      "F-Measure: 0.244\n"
     ]
    }
   ],
   "source": [
    "from sklearn.metrics import precision_score\n",
    "precision = precision_score(y_test, y_pred_LR)\n",
    "print('Precision: %.3f' % precision)\n",
    "\n",
    "from sklearn.metrics import recall_score\n",
    "recall = recall_score(y_test, y_pred_LR)\n",
    "print('Recall: %.3f' % recall)\n",
    "\n",
    "from sklearn.metrics import f1_score\n",
    "score = f1_score(y_test, y_pred_LR)\n",
    "print('F-Measure: %.3f' % score)"
   ]
  },
  {
   "cell_type": "code",
   "execution_count": null,
   "metadata": {
    "id": "r2SxQPCSpZ5H"
   },
   "outputs": [],
   "source": [
    "##SVM"
   ]
  },
  {
   "cell_type": "code",
   "execution_count": null,
   "metadata": {
    "colab": {
     "base_uri": "https://localhost:8080/",
     "height": 86
    },
    "id": "97GWIS1jpaVI",
    "outputId": "5a8c1b6f-b4cc-4d8c-e314-fb3868eb536e"
   },
   "outputs": [
    {
     "data": {
      "text/plain": [
       "SVC(C=1.0, break_ties=False, cache_size=200, class_weight=None, coef0=0.0,\n",
       "    decision_function_shape='ovr', degree=3, gamma='scale', kernel='rbf',\n",
       "    max_iter=-1, probability=True, random_state=0, shrinking=True, tol=0.001,\n",
       "    verbose=False)"
      ]
     },
     "execution_count": 135,
     "metadata": {
      "tags": []
     },
     "output_type": "execute_result"
    }
   ],
   "source": [
    "from sklearn.svm import SVC\n",
    "classifier_SVM=SVC(kernel='rbf',random_state=0,probability=True)\n",
    "classifier_SVM.fit(X_train,y_train)"
   ]
  },
  {
   "cell_type": "code",
   "execution_count": null,
   "metadata": {
    "id": "AYbO85j2pjQX"
   },
   "outputs": [],
   "source": [
    "y_pred_SVM=classifier_SVM.predict(X_test)"
   ]
  },
  {
   "cell_type": "code",
   "execution_count": null,
   "metadata": {
    "colab": {
     "base_uri": "https://localhost:8080/",
     "height": 69
    },
    "id": "y7sREe80pw-w",
    "outputId": "c9893d4e-7611-43d6-eadf-eeabbfdd09f4"
   },
   "outputs": [
    {
     "name": "stdout",
     "output_type": "stream",
     "text": [
      "Confusion Matrix : \n",
      " [[5662  179]\n",
      " [1322  337]]\n"
     ]
    }
   ],
   "source": [
    "from sklearn.metrics import confusion_matrix\n",
    "cm_SVM= confusion_matrix(y_test, y_pred_SVM)\n",
    "print (\"Confusion Matrix : \\n\", cm_SVM)"
   ]
  },
  {
   "cell_type": "code",
   "execution_count": null,
   "metadata": {
    "colab": {
     "base_uri": "https://localhost:8080/",
     "height": 86
    },
    "id": "OyGPpuH-p3oP",
    "outputId": "eacbe6f4-69bc-4641-afd5-b4174282d128"
   },
   "outputs": [
    {
     "name": "stdout",
     "output_type": "stream",
     "text": [
      "Accuracy :  0.7998666666666666\n",
      "Precision: 0.653\n",
      "Recall: 0.203\n",
      "F-Measure: 0.310\n"
     ]
    }
   ],
   "source": [
    "from sklearn.metrics import accuracy_score\n",
    "print (\"Accuracy : \", accuracy_score(y_test, y_pred_SVM))\n",
    "\n",
    "from sklearn.metrics import precision_score\n",
    "precision = precision_score(y_test, y_pred_SVM, average='binary')\n",
    "print('Precision: %.3f' % precision)\n",
    "\n",
    "from sklearn.metrics import recall_score\n",
    "recall = recall_score(y_test, y_pred_SVM, average='binary')\n",
    "print('Recall: %.3f' % recall)\n",
    "\n",
    "from sklearn.metrics import f1_score\n",
    "score = f1_score(y_test, y_pred_SVM, average='binary')\n",
    "print('F-Measure: %.3f' % score)"
   ]
  },
  {
   "cell_type": "code",
   "execution_count": null,
   "metadata": {
    "id": "b6HbI8Ao2OzF"
   },
   "outputs": [],
   "source": [
    "##ROC curve\n",
    "from sklearn.metrics import precision_recall_curve\n",
    "from sklearn.metrics import auc"
   ]
  },
  {
   "cell_type": "code",
   "execution_count": null,
   "metadata": {
    "colab": {
     "base_uri": "https://localhost:8080/",
     "height": 52
    },
    "id": "AA-L7CTPysM4",
    "outputId": "4a62ede5-a90d-41f5-cf81-977fe69dbb4d"
   },
   "outputs": [
    {
     "name": "stdout",
     "output_type": "stream",
     "text": [
      "Area under the ROC curve for Logistic regression is  : 0.667362\n",
      "Area under the ROC curve for SVM is  : 0.643799\n"
     ]
    }
   ],
   "source": [
    "# Get predicted probabilities\n",
    "y_pred_prob_LR = classifier_LR.predict_proba(X_test)[:,1]\n",
    "y_pred_prob_SVM = classifier_SVM.predict_proba(X_test)[:,1]\n",
    "\n",
    "fpr_LR, tpr_LR, thresholds_LR = roc_curve(y_test,y_pred_prob_LR)\n",
    "fpr_SVM, tpr_SVM, thresholds_SVM = roc_curve(y_test,y_pred_prob_SVM)\n",
    "roc_auc_LR = auc(fpr_LR, tpr_LR)\n",
    "roc_auc_SVM= auc(fpr_SVM, tpr_SVM)\n",
    "print(\"Area under the ROC curve for Logistic regression is  : %f\" % roc_auc_LR)\n",
    "print(\"Area under the ROC curve for SVM is  : %f\" % roc_auc_SVM)"
   ]
  },
  {
   "cell_type": "code",
   "execution_count": null,
   "metadata": {
    "colab": {
     "base_uri": "https://localhost:8080/",
     "height": 295
    },
    "id": "Iq641fhep364",
    "outputId": "e4d9efb8-549d-4fb6-9418-75f5287172a0"
   },
   "outputs": [
    {
     "data": {
      "image/png": "[encoded data removed]",
      "text/plain": [
       "<Figure size 432x288 with 1 Axes>"
      ]
     },
     "metadata": {
      "needs_background": "light",
      "tags": []
     },
     "output_type": "display_data"
    }
   ],
   "source": [
    "import pylab as pl\n",
    "pl.clf()\n",
    "pl.plot(fpr_LR, tpr_LR, label='ROC curve (area = %0.2f)' % roc_auc_LR)\n",
    "#pl.plot([0, 1], [0, 1], 'k--')\n",
    "pl.xlim([0.0, 1.0])\n",
    "pl.ylim([0.0, 1.0])\n",
    "pl.xlabel('False Positive Rate')\n",
    "pl.ylabel('True Positive Rate')\n",
    "pl.title('Receiverrating characteristic example')\n",
    "pl.legend(loc=\"lower right\")\n",
    "pl.show()"
   ]
  },
  {
   "cell_type": "code",
   "execution_count": null,
   "metadata": {
    "colab": {
     "base_uri": "https://localhost:8080/",
     "height": 279
    },
    "id": "exVKAbjPp4Ng",
    "outputId": "38ef0582-9fbe-42c6-9a10-309a903f02b3"
   },
   "outputs": [
    {
     "data": {
      "image/png": "[encoded data removed]",
      "text/plain": [
       "<Figure size 432x288 with 1 Axes>"
      ]
     },
     "metadata": {
      "needs_background": "light",
      "tags": []
     },
     "output_type": "display_data"
    }
   ],
   "source": [
    "#precision recall curve\n",
    "precision, recall, _ = precision_recall_curve(y_test,y_pred_prob_LR)\n",
    "# plot the model precision-recall curve\n",
    "plt.plot(recall, precision, marker='.', label='Logistic')\n",
    "# axis labels\n",
    "plt.xlabel('Recall')\n",
    "plt.ylabel('Precision')\n",
    "# show the legend\n",
    "plt.legend()\n",
    "# show the plot\n",
    "plt.show()\n",
    "\n",
    "auc_score = auc(recall, precision)"
   ]
  },
  {
   "cell_type": "code",
   "execution_count": null,
   "metadata": {
    "colab": {
     "base_uri": "https://localhost:8080/",
     "height": 279
    },
    "id": "vYFOfBAy4UDB",
    "outputId": "3890e6f6-031c-4072-cb9b-830f49024a04"
   },
   "outputs": [
    {
     "data": {
      "image/png": "[encoded data removed]",
      "text/plain": [
       "<Figure size 432x288 with 1 Axes>"
      ]
     },
     "metadata": {
      "needs_background": "light",
      "tags": []
     },
     "output_type": "display_data"
    }
   ],
   "source": [
    "from sklearn.metrics import precision_recall_curve\n",
    "precision, recall, thresholds = precision_recall_curve(y_test, y_pred_prob_LR)\n",
    "plt.plot(recall, precision, marker='.', label='Logistic')\n",
    "# axis labels\n",
    "plt.xlabel('Recall')\n",
    "plt.ylabel('Precision')\n",
    "# show the legend\n",
    "plt.legend()\n",
    "# show the plot\n",
    "plt.show()\n"
   ]
  },
  {
   "cell_type": "code",
   "execution_count": null,
   "metadata": {
    "colab": {
     "base_uri": "https://localhost:8080/",
     "height": 312
    },
    "id": "6lQxiJMu5RnU",
    "outputId": "86044d89-ba1f-40fb-d30b-07dec17bd3dc"
   },
   "outputs": [
    {
     "data": {
      "text/plain": [
       "Text(0.5, 1.0, 'Precision-Recall curve  0.4225778819173132')"
      ]
     },
     "execution_count": 165,
     "metadata": {
      "tags": []
     },
     "output_type": "execute_result"
    },
    {
     "data": {
      "image/png": "[encoded data removed]",
      "text/plain": [
       "<Figure size 432x288 with 1 Axes>"
      ]
     },
     "metadata": {
      "needs_background": "light",
      "tags": []
     },
     "output_type": "display_data"
    }
   ],
   "source": [
    "from sklearn.metrics import average_precision_score, auc, roc_curve, precision_recall_curve\n",
    "average_precision = average_precision_score(y_test, y_pred_prob_LR)\n",
    "\n",
    "#print('Average precision-recall score RF: {}'.format(average_precision))\n",
    "\n",
    "from sklearn.metrics import precision_recall_curve\n",
    "import matplotlib.pyplot as plt\n",
    "\n",
    "precision, recall, _ = precision_recall_curve(y_test, y_pred_prob_LR)\n",
    "precision_1, recall_1, _ = precision_recall_curve(y_test, y_pred_prob_SVM)\n",
    "plt.step(recall, precision, color='b', alpha=0.2,\n",
    "         where='post')\n",
    "plt.fill_between(recall, precision, step='post', alpha=0.2,\n",
    "                 color='b')\n",
    "\n",
    "plt.xlabel('Recall')\n",
    "plt.ylabel('Precision')\n",
    "plt.ylim([0.0, 1.05])\n",
    "plt.xlim([0.0, 1.0])\n",
    "plt.title(\"Precision-Recall curve  {}\".format(average_precision))"
   ]
  },
  {
   "cell_type": "code",
   "execution_count": null,
   "metadata": {
    "id": "Eh7fnqbuj-VX"
   },
   "outputs": [],
   "source": [
    "###APPLYING OVERSAMPLING"
   ]
  },
  {
   "cell_type": "code",
   "execution_count": null,
   "metadata": {
    "colab": {
     "base_uri": "https://localhost:8080/",
     "height": 210
    },
    "id": "yvHER45Yk22u",
    "outputId": "0f748527-182c-4f64-b3b8-a65f411358ae"
   },
   "outputs": [
    {
     "name": "stdout",
     "output_type": "stream",
     "text": [
      "Before OverSampling, counts of label '1': 4977\n",
      "Before OverSampling, counts of label '0': 17523 \n",
      "\n"
     ]
    },
    {
     "name": "stderr",
     "output_type": "stream",
     "text": [
      "/usr/local/lib/python3.6/dist-packages/sklearn/utils/deprecation.py:87: FutureWarning: Function safe_indexing is deprecated; safe_indexing is deprecated in version 0.22 and will be removed in version 0.24.\n",
      "  warnings.warn(msg, category=FutureWarning)\n"
     ]
    },
    {
     "name": "stdout",
     "output_type": "stream",
     "text": [
      "After OverSampling, the shape of train_X: (35046, 5)\n",
      "After OverSampling, the shape of train_y: (35046,) \n",
      "\n",
      "After OverSampling, counts of label '1': 17523\n",
      "After OverSampling, counts of label '0': 17523\n"
     ]
    }
   ],
   "source": [
    "print(\"Before OverSampling, counts of label '1': {}\".format(sum(y_train == 1)))\n",
    "print(\"Before OverSampling, counts of label '0': {} \\n\".format(sum(y_train == 0)))\n",
    "\n",
    "# import SMOTE module from imblearn library\n",
    "# pip install imblearn (if you don't have imblearn in your system)\n",
    "from imblearn.over_sampling import SMOTE\n",
    "sm = SMOTE(random_state = 2)\n",
    "X_train_res, y_train_res = sm.fit_sample(X_train, y_train.ravel())\n",
    "\n",
    "print('After OverSampling, the shape of train_X: {}'.format(X_train_res.shape))\n",
    "print('After OverSampling, the shape of train_y: {} \\n'.format(y_train_res.shape))\n",
    "\n",
    "print(\"After OverSampling, counts of label '1': {}\".format(sum(y_train_res == 1)))\n",
    "print(\"After OverSampling, counts of label '0': {}\".format(sum(y_train_res == 0)))"
   ]
  },
  {
   "cell_type": "code",
   "execution_count": null,
   "metadata": {
    "colab": {
     "base_uri": "https://localhost:8080/",
     "height": 104
    },
    "id": "pp9FcroKlk4A",
    "outputId": "edc5dce2-b62f-4896-cb25-abff5cd270e9"
   },
   "outputs": [
    {
     "data": {
      "text/plain": [
       "LogisticRegression(C=1.0, class_weight=None, dual=False, fit_intercept=True,\n",
       "                   intercept_scaling=1, l1_ratio=None, max_iter=100,\n",
       "                   multi_class='auto', n_jobs=None, penalty='l2',\n",
       "                   random_state=0, solver='lbfgs', tol=0.0001, verbose=0,\n",
       "                   warm_start=False)"
      ]
     },
     "execution_count": 168,
     "metadata": {
      "tags": []
     },
     "output_type": "execute_result"
    }
   ],
   "source": [
    "from sklearn.linear_model import LogisticRegression\n",
    "classifier_LR_OS = LogisticRegression(random_state = 0)\n",
    "classifier_LR_OS.fit(X_train_res,y_train_res)"
   ]
  },
  {
   "cell_type": "code",
   "execution_count": null,
   "metadata": {
    "id": "Dvrq8kWwmmvF"
   },
   "outputs": [],
   "source": [
    "y_pred_LR_OS= classifier_LR_OS.predict(X_test)"
   ]
  },
  {
   "cell_type": "code",
   "execution_count": null,
   "metadata": {
    "colab": {
     "base_uri": "https://localhost:8080/",
     "height": 69
    },
    "id": "VQDYYox4nF_X",
    "outputId": "9d95f8bf-841d-48d8-972a-d2f5dbe98c6c"
   },
   "outputs": [
    {
     "name": "stdout",
     "output_type": "stream",
     "text": [
      "Confusion Matrix : \n",
      " [[4293 1548]\n",
      " [ 819  840]]\n"
     ]
    }
   ],
   "source": [
    "from sklearn.metrics import confusion_matrix\n",
    "cm_LR_OS= confusion_matrix(y_test, y_pred_LR_OS)\n",
    "print (\"Confusion Matrix : \\n\", cm_LR_OS)"
   ]
  },
  {
   "cell_type": "code",
   "execution_count": null,
   "metadata": {
    "colab": {
     "base_uri": "https://localhost:8080/",
     "height": 298
    },
    "id": "rCv3EQoBP87j",
    "outputId": "99920d09-54c4-4f1a-c710-ae194da7c089"
   },
   "outputs": [
    {
     "data": {
      "text/plain": [
       "Text(0.5, 1.0, 'Confusion matrix for Logistic Regression')"
      ]
     },
     "execution_count": 171,
     "metadata": {
      "tags": []
     },
     "output_type": "execute_result"
    },
    {
     "data": {
      "image/png": "[encoded data removed]",
      "text/plain": [
       "<Figure size 432x288 with 2 Axes>"
      ]
     },
     "metadata": {
      "needs_background": "light",
      "tags": []
     },
     "output_type": "display_data"
    }
   ],
   "source": [
    "group_names = ['True Neg','False Pos','False Neg','True Pos']\n",
    "group_counts = [\"{0:0.0f}\".format(value) for value in\n",
    "                cm_LR_OS.flatten()]\n",
    "group_percentages = [\"{0:.2%}\".format(value) for value in\n",
    "                     cm_LR_OS.flatten()/np.sum(cm_LR_OS)]\n",
    "labels = [f\"{v1}\\n{v2}\\n{v3}\" for v1, v2, v3 in\n",
    "          zip(group_names,group_counts,group_percentages)]\n",
    "labels = np.asarray(labels).reshape(2,2)\n",
    "sns.heatmap(cm_LR_OS, annot=labels, fmt='', cmap='Blues')\n",
    "plt.title(\"Confusion matrix for Logistic Regression\")"
   ]
  },
  {
   "cell_type": "code",
   "execution_count": null,
   "metadata": {
    "colab": {
     "base_uri": "https://localhost:8080/",
     "height": 104
    },
    "id": "1XZ-UzsFmuJ4",
    "outputId": "cc972d57-c5e6-42f9-eec3-91fd6f0e7ff6"
   },
   "outputs": [
    {
     "name": "stdout",
     "output_type": "stream",
     "text": [
      "Accuracy :  0.6844\n",
      "Precision: 0.352\n",
      "Recall: 0.506\n",
      "F-Measure: 0.415\n",
      "Specificity :  0.7349768875192604\n"
     ]
    }
   ],
   "source": [
    "from sklearn.metrics import accuracy_score\n",
    "print (\"Accuracy : \", accuracy_score(y_test, y_pred_LR_OS))\n",
    "\n",
    "from sklearn.metrics import precision_score\n",
    "precision_LR = precision_score(y_test, y_pred_LR_OS, average='binary')\n",
    "print('Precision: %.3f' % precision_LR)\n",
    "\n",
    "from sklearn.metrics import recall_score\n",
    "recall_LR= recall_score(y_test, y_pred_LR_OS, average='binary')\n",
    "print('Recall: %.3f' % recall_LR)\n",
    "\n",
    "from sklearn.metrics import f1_score\n",
    "score_LR = f1_score(y_test, y_pred_LR_OS, average='binary')\n",
    "print('F-Measure: %.3f' % score_LR)\n",
    "\n",
    "specificity_LR = cm_LR_OS[0,0]/(cm_LR_OS[0,0]+cm_LR_OS[0,1])\n",
    "print('Specificity : ', specificity_LR)\n",
    "\n"
   ]
  },
  {
   "cell_type": "code",
   "execution_count": null,
   "metadata": {
    "colab": {
     "base_uri": "https://localhost:8080/",
     "height": 86
    },
    "id": "Zm7WZwtiqHMu",
    "outputId": "a204bbd7-786f-4274-e653-0824ed042303"
   },
   "outputs": [
    {
     "data": {
      "text/plain": [
       "SVC(C=1.0, break_ties=False, cache_size=200, class_weight=None, coef0=0.0,\n",
       "    decision_function_shape='ovr', degree=3, gamma='scale', kernel='rbf',\n",
       "    max_iter=-1, probability=True, random_state=0, shrinking=True, tol=0.001,\n",
       "    verbose=False)"
      ]
     },
     "execution_count": 173,
     "metadata": {
      "tags": []
     },
     "output_type": "execute_result"
    }
   ],
   "source": [
    "from sklearn.svm import SVC\n",
    "classifier_SVM_OS=SVC(kernel='rbf',random_state=0,probability=True)\n",
    "classifier_SVM_OS.fit(X_train_res,y_train_res)"
   ]
  },
  {
   "cell_type": "code",
   "execution_count": null,
   "metadata": {
    "id": "NZ-wFfRmqHcP"
   },
   "outputs": [],
   "source": [
    "\n",
    "y_pred_SVM_OS= classifier_SVM_OS.predict(X_test)"
   ]
  },
  {
   "cell_type": "code",
   "execution_count": null,
   "metadata": {
    "colab": {
     "base_uri": "https://localhost:8080/",
     "height": 69
    },
    "id": "vAy7EgXGqHqs",
    "outputId": "4e737bfd-6b43-4e58-909a-8251d27ad37d"
   },
   "outputs": [
    {
     "name": "stdout",
     "output_type": "stream",
     "text": [
      "Confusion Matrix : \n",
      " [[4229 1612]\n",
      " [ 760  899]]\n"
     ]
    }
   ],
   "source": [
    "from sklearn.metrics import confusion_matrix\n",
    "cm_SVM_OS= confusion_matrix(y_test, y_pred_SVM_OS)\n",
    "print (\"Confusion Matrix : \\n\", cm_SVM_OS)"
   ]
  },
  {
   "cell_type": "code",
   "execution_count": null,
   "metadata": {
    "colab": {
     "base_uri": "https://localhost:8080/",
     "height": 298
    },
    "id": "gvq_Z2DPQOa4",
    "outputId": "235c336d-82b0-47f3-975a-4806bcd7e1d6"
   },
   "outputs": [
    {
     "data": {
      "text/plain": [
       "Text(0.5, 1.0, 'Confusion matrix for SVM')"
      ]
     },
     "execution_count": 176,
     "metadata": {
      "tags": []
     },
     "output_type": "execute_result"
    },
    {
     "data": {
      "image/png": "[encoded data removed]",
      "text/plain": [
       "<Figure size 432x288 with 2 Axes>"
      ]
     },
     "metadata": {
      "needs_background": "light",
      "tags": []
     },
     "output_type": "display_data"
    }
   ],
   "source": [
    "group_names = ['True Neg','False Pos','False Neg','True Pos']\n",
    "group_counts = [\"{0:0.0f}\".format(value) for value in\n",
    "                cm_SVM_OS.flatten()]\n",
    "group_percentages = [\"{0:.2%}\".format(value) for value in\n",
    "                     cm_SVM_OS.flatten()/np.sum(cm_SVM_OS)]\n",
    "labels = [f\"{v1}\\n{v2}\\n{v3}\" for v1, v2, v3 in\n",
    "          zip(group_names,group_counts,group_percentages)]\n",
    "labels = np.asarray(labels).reshape(2,2)\n",
    "sns.heatmap(cm_SVM_OS, annot=labels, fmt='', cmap='Blues')\n",
    "plt.title(\"Confusion matrix for SVM\")"
   ]
  },
  {
   "cell_type": "code",
   "execution_count": null,
   "metadata": {
    "colab": {
     "base_uri": "https://localhost:8080/",
     "height": 104
    },
    "id": "pNzKoqyAqH4m",
    "outputId": "8bfeb90e-990c-44a1-93eb-201307976664"
   },
   "outputs": [
    {
     "name": "stdout",
     "output_type": "stream",
     "text": [
      "Accuracy :  0.6837333333333333\n",
      "Precision: 0.358\n",
      "Recall: 0.542\n",
      "F-Measure: 0.431\n",
      "Specificity :  0.7240198596130799\n"
     ]
    }
   ],
   "source": [
    "from sklearn.metrics import accuracy_score\n",
    "print (\"Accuracy : \", accuracy_score(y_test, y_pred_SVM_OS))\n",
    "\n",
    "from sklearn.metrics import precision_score\n",
    "precision_SVM= precision_score(y_test, y_pred_SVM_OS, average='binary')\n",
    "print('Precision: %.3f' % precision_SVM)\n",
    "\n",
    "from sklearn.metrics import recall_score\n",
    "recall_SVM = recall_score(y_test, y_pred_SVM_OS, average='binary')\n",
    "print('Recall: %.3f' % recall_SVM)\n",
    "\n",
    "from sklearn.metrics import f1_score\n",
    "score_SVM= f1_score(y_test, y_pred_SVM_OS, average='binary')\n",
    "print('F-Measure: %.3f' % score_SVM)\n",
    "\n",
    "specificity_SVM = cm_SVM_OS[0,0]/(cm_SVM_OS[0,0]+cm_SVM_OS[0,1])\n",
    "print('Specificity : ', specificity_SVM)"
   ]
  },
  {
   "cell_type": "code",
   "execution_count": null,
   "metadata": {
    "id": "7p4mdac_Q3-M"
   },
   "outputs": [],
   "source": [
    "##ROC"
   ]
  },
  {
   "cell_type": "code",
   "execution_count": null,
   "metadata": {
    "colab": {
     "base_uri": "https://localhost:8080/",
     "height": 52
    },
    "id": "itDIfEMwQ4Na",
    "outputId": "787985b1-e9e5-498f-8ec5-f5ab07995033"
   },
   "outputs": [
    {
     "name": "stdout",
     "output_type": "stream",
     "text": [
      "Area under the ROC curve for Logistic regression is  : 0.674098\n",
      "Area under the ROC curve for SVM is  : 0.697713\n"
     ]
    }
   ],
   "source": [
    "# Get predicted probabilities\n",
    "y_pred_prob_LR_OS = classifier_LR_OS.predict_proba(X_test)[:,1]\n",
    "y_pred_prob_SVM_OS= classifier_SVM_OS.predict_proba(X_test)[:,1]\n",
    "\n",
    "fpr_LR_OS, tpr_LR_OS, thresholds_LR_OS= roc_curve(y_test,y_pred_prob_LR_OS)\n",
    "fpr_SVM_OS, tpr_SVM_OS, thresholds_SVM_OS = roc_curve(y_test,y_pred_prob_SVM_OS)\n",
    "roc_auc_LR_OS = auc(fpr_LR_OS, tpr_LR_OS)\n",
    "roc_auc_SVM_OS= auc(fpr_SVM_OS, tpr_SVM_OS)\n",
    "print(\"Area under the ROC curve for Logistic regression is  : %f\" % roc_auc_LR_OS)\n",
    "print(\"Area under the ROC curve for SVM is  : %f\" % roc_auc_SVM_OS)"
   ]
  },
  {
   "cell_type": "code",
   "execution_count": null,
   "metadata": {
    "colab": {
     "base_uri": "https://localhost:8080/",
     "height": 295
    },
    "id": "nuu0g2oyQ4at",
    "outputId": "a4a9b2a7-d9f1-473b-9f3c-98b7afede924"
   },
   "outputs": [
    {
     "data": {
      "image/png": "[encoded data removed]",
      "text/plain": [
       "<Figure size 432x288 with 1 Axes>"
      ]
     },
     "metadata": {
      "needs_background": "light",
      "tags": []
     },
     "output_type": "display_data"
    }
   ],
   "source": [
    "import pylab as pl\n",
    "pl.clf()\n",
    "pl.plot(fpr_LR_OS, tpr_LR_OS, label='ROC curve for LR (area = %0.2f)' % roc_auc_LR_OS)\n",
    "pl.plot(fpr_SVM_OS, tpr_SVM_OS, label='ROC curve for SVM (area = %0.2f)' % roc_auc_SVM_OS)\n",
    "pl.plot([0, 1], [0, 1], 'k--',label='tpr=fpr')\n",
    "pl.xlim([0.0, 1.0])\n",
    "pl.ylim([0.0, 1.0])\n",
    "pl.xlabel('False Positive Rate')\n",
    "pl.ylabel('True Positive Rate')\n",
    "pl.title('Receiver Operating Characteristic curve')\n",
    "pl.legend()\n",
    "pl.show()"
   ]
  },
  {
   "cell_type": "code",
   "execution_count": null,
   "metadata": {
    "colab": {
     "base_uri": "https://localhost:8080/",
     "height": 312
    },
    "id": "E3L24ioxRi2_",
    "outputId": "129f70d8-aeec-493e-eda0-2dcfc82aaa4d"
   },
   "outputs": [
    {
     "data": {
      "text/plain": [
       "Text(0.5, 1.0, 'Precision-Recall curve  0.4235859987280974')"
      ]
     },
     "execution_count": 181,
     "metadata": {
      "tags": []
     },
     "output_type": "execute_result"
    },
    {
     "data": {
      "image/png": "[encoded data removed]",
      "text/plain": [
       "<Figure size 432x288 with 1 Axes>"
      ]
     },
     "metadata": {
      "needs_background": "light",
      "tags": []
     },
     "output_type": "display_data"
    }
   ],
   "source": [
    "from sklearn.metrics import average_precision_score, auc, roc_curve, precision_recall_curve\n",
    "average_precision = average_precision_score(y_test, y_pred_prob_LR_OS)\n",
    "\n",
    "#print('Average precision-recall score RF: {}'.format(average_precision))\n",
    "\n",
    "from sklearn.metrics import precision_recall_curve\n",
    "import matplotlib.pyplot as plt\n",
    "\n",
    "precision_LR, recall_LR, _ = precision_recall_curve(y_test, y_pred_prob_LR_OS)\n",
    "\n",
    "plt.step(recall_LR, precision_LR, color='b', alpha=0.2,\n",
    "         where='post')\n",
    "plt.fill_between(recall_LR, precision_LR, step='post', alpha=0.2,\n",
    "                 color='b')\n",
    "\n",
    "plt.xlabel('Recall')\n",
    "plt.ylabel('Precision')\n",
    "plt.ylim([0.0, 1.05])\n",
    "plt.xlim([0.0, 1.0])\n",
    "plt.title(\"Precision-Recall curve  {}\".format(average_precision))"
   ]
  },
  {
   "cell_type": "code",
   "execution_count": null,
   "metadata": {
    "id": "RiMOLnsLm6Nu"
   },
   "outputs": [],
   "source": [
    "###UNDERSAMPLING\n"
   ]
  },
  {
   "cell_type": "code",
   "execution_count": null,
   "metadata": {
    "colab": {
     "base_uri": "https://localhost:8080/",
     "height": 279
    },
    "id": "gFDWT3zdng1o",
    "outputId": "842bdcf6-b380-4806-a95c-41885411ac30"
   },
   "outputs": [
    {
     "name": "stdout",
     "output_type": "stream",
     "text": [
      "Before Undersampling, counts of label '1': 4977\n",
      "Before Undersampling, counts of label '0': 17523 \n",
      "\n"
     ]
    },
    {
     "name": "stderr",
     "output_type": "stream",
     "text": [
      "/usr/local/lib/python3.6/dist-packages/sklearn/utils/deprecation.py:87: FutureWarning: Function safe_indexing is deprecated; safe_indexing is deprecated in version 0.22 and will be removed in version 0.24.\n",
      "  warnings.warn(msg, category=FutureWarning)\n",
      "/usr/local/lib/python3.6/dist-packages/sklearn/utils/deprecation.py:87: FutureWarning: Function safe_indexing is deprecated; safe_indexing is deprecated in version 0.22 and will be removed in version 0.24.\n",
      "  warnings.warn(msg, category=FutureWarning)\n",
      "/usr/local/lib/python3.6/dist-packages/sklearn/utils/deprecation.py:87: FutureWarning: Function safe_indexing is deprecated; safe_indexing is deprecated in version 0.22 and will be removed in version 0.24.\n",
      "  warnings.warn(msg, category=FutureWarning)\n"
     ]
    },
    {
     "name": "stdout",
     "output_type": "stream",
     "text": [
      "After Undersampling, the shape of train_X: (9954, 5)\n",
      "After Undersampling, the shape of train_y: (9954,) \n",
      "\n",
      "After Undersampling, counts of label '1': 4977\n",
      "After Undersampling, counts of label '0': 4977\n"
     ]
    }
   ],
   "source": [
    "print(\"Before Undersampling, counts of label '1': {}\".format(sum(y_train == 1)))\n",
    "print(\"Before Undersampling, counts of label '0': {} \\n\".format(sum(y_train == 0)))\n",
    "\n",
    "# apply near miss\n",
    "from imblearn.under_sampling import NearMiss\n",
    "nr = NearMiss()\n",
    "\n",
    "X_train_miss, y_train_miss = nr.fit_sample(X_train, y_train.ravel())\n",
    "\n",
    "print('After Undersampling, the shape of train_X: {}'.format(X_train_miss.shape))\n",
    "print('After Undersampling, the shape of train_y: {} \\n'.format(y_train_miss.shape))\n",
    "\n",
    "print(\"After Undersampling, counts of label '1': {}\".format(sum(y_train_miss == 1)))\n",
    "print(\"After Undersampling, counts of label '0': {}\".format(sum(y_train_miss == 0)))\n"
   ]
  },
  {
   "cell_type": "code",
   "execution_count": null,
   "metadata": {
    "colab": {
     "base_uri": "https://localhost:8080/",
     "height": 104
    },
    "id": "zBBljz5SnqqC",
    "outputId": "da21368a-5e57-401c-ca6d-9a3159ae3059"
   },
   "outputs": [
    {
     "data": {
      "text/plain": [
       "LogisticRegression(C=1.0, class_weight=None, dual=False, fit_intercept=True,\n",
       "                   intercept_scaling=1, l1_ratio=None, max_iter=100,\n",
       "                   multi_class='auto', n_jobs=None, penalty='l2',\n",
       "                   random_state=0, solver='lbfgs', tol=0.0001, verbose=0,\n",
       "                   warm_start=False)"
      ]
     },
     "execution_count": 184,
     "metadata": {
      "tags": []
     },
     "output_type": "execute_result"
    }
   ],
   "source": [
    "from sklearn.linear_model import LogisticRegression\n",
    "classifier_LR_US = LogisticRegression(random_state = 0)\n",
    "classifier_LR_US.fit(X_train_miss,y_train_miss)"
   ]
  },
  {
   "cell_type": "code",
   "execution_count": null,
   "metadata": {
    "id": "8mUWPND7n3uq"
   },
   "outputs": [],
   "source": [
    "y_pred_LR_US= classifier_LR_US.predict(X_test)"
   ]
  },
  {
   "cell_type": "code",
   "execution_count": null,
   "metadata": {
    "colab": {
     "base_uri": "https://localhost:8080/",
     "height": 69
    },
    "id": "RP_x-Tbxn-NF",
    "outputId": "27e00f15-4ca8-48c6-d6fd-0f5c6dd3adf3"
   },
   "outputs": [
    {
     "name": "stdout",
     "output_type": "stream",
     "text": [
      "Confusion Matrix : \n",
      " [[3675 2166]\n",
      " [ 623 1036]]\n"
     ]
    }
   ],
   "source": [
    "from sklearn.metrics import confusion_matrix\n",
    "cm_LR_US= confusion_matrix(y_test, y_pred_LR_US)\n",
    "print (\"Confusion Matrix : \\n\", cm_LR_US)"
   ]
  },
  {
   "cell_type": "code",
   "execution_count": null,
   "metadata": {
    "colab": {
     "base_uri": "https://localhost:8080/",
     "height": 86
    },
    "id": "ro3odYnuoEmb",
    "outputId": "d1d40893-649f-4258-ebf3-e41e46384737"
   },
   "outputs": [
    {
     "name": "stdout",
     "output_type": "stream",
     "text": [
      "Accuracy :  0.6281333333333333\n",
      "Precision: 0.324\n",
      "Recall: 0.624\n",
      "F-Measure: 0.426\n"
     ]
    }
   ],
   "source": [
    "from sklearn.metrics import accuracy_score\n",
    "print (\"Accuracy : \", accuracy_score(y_test, y_pred_LR_US))\n",
    "\n",
    "from sklearn.metrics import precision_score\n",
    "precision = precision_score(y_test, y_pred_LR_US, average='binary')\n",
    "print('Precision: %.3f' % precision)\n",
    "\n",
    "from sklearn.metrics import recall_score\n",
    "recall = recall_score(y_test, y_pred_LR_US, average='binary')\n",
    "print('Recall: %.3f' % recall)\n",
    "\n",
    "from sklearn.metrics import f1_score\n",
    "score = f1_score(y_test, y_pred_LR_US, average='binary')\n",
    "print('F-Measure: %.3f' % score)"
   ]
  },
  {
   "cell_type": "code",
   "execution_count": null,
   "metadata": {
    "colab": {
     "base_uri": "https://localhost:8080/",
     "height": 86
    },
    "id": "L7TjQjCroWyn",
    "outputId": "8cbb727c-919c-41c1-eb31-3b66c1cc7c10"
   },
   "outputs": [
    {
     "data": {
      "text/plain": [
       "SVC(C=1.0, break_ties=False, cache_size=200, class_weight=None, coef0=0.0,\n",
       "    decision_function_shape='ovr', degree=3, gamma='scale', kernel='rbf',\n",
       "    max_iter=-1, probability=False, random_state=0, shrinking=True, tol=0.001,\n",
       "    verbose=False)"
      ]
     },
     "execution_count": 188,
     "metadata": {
      "tags": []
     },
     "output_type": "execute_result"
    }
   ],
   "source": [
    "from sklearn.svm import SVC\n",
    "classifier_SVM_US=SVC(kernel='rbf',random_state=0)\n",
    "classifier_SVM_US.fit(X_train_miss,y_train_miss)"
   ]
  },
  {
   "cell_type": "code",
   "execution_count": null,
   "metadata": {
    "id": "if2Z6BtIpj3a"
   },
   "outputs": [],
   "source": [
    "y_pred_SVM_US= classifier_SVM_US.predict(X_test)"
   ]
  },
  {
   "cell_type": "code",
   "execution_count": null,
   "metadata": {
    "colab": {
     "base_uri": "https://localhost:8080/",
     "height": 69
    },
    "id": "16Bb_jZeqxQX",
    "outputId": "0aa66e86-aeb0-4671-eea2-579455230df4"
   },
   "outputs": [
    {
     "name": "stdout",
     "output_type": "stream",
     "text": [
      "Confusion Matrix : \n",
      " [[2152 3689]\n",
      " [ 279 1380]]\n"
     ]
    }
   ],
   "source": [
    "from sklearn.metrics import confusion_matrix\n",
    "cm_SVM_US= confusion_matrix(y_test, y_pred_SVM_US)\n",
    "print (\"Confusion Matrix : \\n\", cm_SVM_US)"
   ]
  },
  {
   "cell_type": "code",
   "execution_count": null,
   "metadata": {
    "colab": {
     "base_uri": "https://localhost:8080/",
     "height": 104
    },
    "id": "CeSzkYazq1Ig",
    "outputId": "f8b72372-29dd-4d35-bfce-a8da2e956826"
   },
   "outputs": [
    {
     "name": "stdout",
     "output_type": "stream",
     "text": [
      "Accuracy :  0.4709333333333333\n",
      "Precision: 0.272\n",
      "Recall: 0.832\n",
      "F-Measure: 0.410\n",
      "Specificity :  0.3684300633453176\n"
     ]
    }
   ],
   "source": [
    "from sklearn.metrics import accuracy_score\n",
    "print (\"Accuracy : \", accuracy_score(y_test, y_pred_SVM_US))\n",
    "\n",
    "from sklearn.metrics import precision_score\n",
    "precision = precision_score(y_test, y_pred_SVM_US, average='binary')\n",
    "print('Precision: %.3f' % precision)\n",
    "\n",
    "from sklearn.metrics import recall_score\n",
    "recall = recall_score(y_test, y_pred_SVM_US, average='binary')\n",
    "print('Recall: %.3f' % recall)\n",
    "\n",
    "from sklearn.metrics import f1_score\n",
    "score = f1_score(y_test, y_pred_SVM_US, average='binary')\n",
    "print('F-Measure: %.3f' % score)\n",
    "\n",
    "\n",
    "specificity1 = cm_SVM_US[0,0]/(cm_SVM_US[0,0]+cm_SVM_US[0,1])\n",
    "print('Specificity : ', specificity1)"
   ]
  },
  {
   "cell_type": "code",
   "execution_count": null,
   "metadata": {
    "colab": {
     "base_uri": "https://localhost:8080/",
     "height": 52
    },
    "id": "s7x_UI3pwRZS",
    "outputId": "b796f66e-f83a-4d5a-9ad7-1ea643c4c38f"
   },
   "outputs": [
    {
     "name": "stdout",
     "output_type": "stream",
     "text": [
      "Area under the ROC curve for Logistic regression is  : 0.681952\n",
      "Area under the ROC curve for SVM is  : 0.643799\n"
     ]
    }
   ],
   "source": [
    "# Get predicted probabilities\n",
    "y_pred_prob_LR_US= classifier_LR_US.predict_proba(X_test)[:,1]\n",
    "#y_pred_prob_SVM = classifier_SVM.predict_proba(X_test)[:,1]\n",
    "\n",
    "fpr_LR_US, tpr_LR_US, thresholds_LR_US = roc_curve(y_test,y_pred_prob_LR_US)\n",
    "fpr_SVM, tpr_SVM, thresholds_SVM = roc_curve(y_test,y_pred_prob_SVM)\n",
    "roc_auc_LR_US= auc(fpr_LR_US, tpr_LR_US)\n",
    "roc_auc_SVM= auc(fpr_SVM, tpr_SVM)\n",
    "print(\"Area under the ROC curve for Logistic regression is  : %f\" % roc_auc_LR_US)\n",
    "print(\"Area under the ROC curve for SVM is  : %f\" % roc_auc_SVM)"
   ]
  },
  {
   "cell_type": "code",
   "execution_count": null,
   "metadata": {
    "colab": {
     "base_uri": "https://localhost:8080/",
     "height": 263
    },
    "id": "ZavukBlS2HBV",
    "outputId": "7ed3937a-b95b-40bc-b4f5-58d85f41cf1f"
   },
   "outputs": [
    {
     "name": "stdout",
     "output_type": "stream",
     "text": [
      "0    23364\n",
      "1     6636\n",
      "Name: default.payment.next.month, dtype: int64\n"
     ]
    },
    {
     "data": {
      "text/plain": [
       "<matplotlib.axes._subplots.AxesSubplot at 0x7f1b742b1588>"
      ]
     },
     "execution_count": 196,
     "metadata": {
      "tags": []
     },
     "output_type": "execute_result"
    },
    {
     "data": {
      "image/png": "[encoded data removed]",
      "text/plain": [
       "<Figure size 216x216 with 1 Axes>"
      ]
     },
     "metadata": {
      "tags": []
     },
     "output_type": "display_data"
    }
   ],
   "source": [
    "plt.figure(figsize=(3,3))\n",
    "print(pd.Series(df['default.payment.next.month']).value_counts())\n",
    "pd.Series(df['default.payment.next.month']).value_counts().plot(kind ='pie', autopct='%1.2f%%')"
   ]
  },
  {
   "cell_type": "code",
   "execution_count": null,
   "metadata": {
    "id": "nmLCbg2b8m59"
   },
   "outputs": [],
   "source": []
  }
 ],
 "metadata": {
  "colab": {
   "provenance": []
  },
  "kernelspec": {
   "display_name": "Python 3 (ipykernel)",
   "language": "python",
   "name": "python3"
  },
  "language_info": {
   "codemirror_mode": {
    "name": "ipython",
    "version": 3
   },
   "file_extension": ".py",
   "mimetype": "text/x-python",
   "name": "python",
   "nbconvert_exporter": "python",
   "pygments_lexer": "ipython3",
   "version": "3.10.9"
  }
 },
 "nbformat": 4,
 "nbformat_minor": 1
}
